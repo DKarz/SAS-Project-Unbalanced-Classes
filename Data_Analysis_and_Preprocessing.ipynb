{
 "cells": [
  {
   "cell_type": "markdown",
   "source": "# IMPORTS",
   "metadata": {
    "tags": [],
    "cell_id": "00000-bebba946-6a85-42bd-9842-dd44c68f4e28",
    "deepnote_cell_type": "markdown"
   }
  },
  {
   "cell_type": "code",
   "metadata": {
    "tags": [],
    "output_cleared": false,
    "source_hash": "fcfd17fa",
    "execution_millis": 2454,
    "deepnote_to_be_reexecuted": false,
    "execution_start": 1623822939610,
    "is_code_hidden": false,
    "cell_id": "00001-1c3733cc-ac6e-44b4-9eaf-baa560e3e466",
    "deepnote_cell_type": "code"
   },
   "source": "import pandas as pd\nimport os\nimport time\nfrom sklearn.model_selection import train_test_split as tts\nimport seaborn as sns\nimport warnings\nimport statsmodels.api as sm\nfrom sklearn import metrics\nimport numpy as np\nimport matplotlib.pyplot as plt\nimport plotly.express as px\nfrom sklearn.linear_model import LogisticRegression\nwarnings.filterwarnings(\"ignore\")",
   "outputs": [],
   "execution_count": 1
  },
  {
   "cell_type": "markdown",
   "source": "# Data processing",
   "metadata": {
    "tags": [],
    "cell_id": "00002-e9a378c6-8e34-4f9f-ac84-36366be69518",
    "deepnote_cell_type": "markdown"
   }
  },
  {
   "cell_type": "markdown",
   "source": "## Downloading Data",
   "metadata": {
    "tags": [],
    "cell_id": "00003-2a44046a-fcd7-4da3-b26d-2ba905052306",
    "deepnote_cell_type": "text-cell-h2"
   }
  },
  {
   "cell_type": "code",
   "metadata": {
    "tags": [],
    "deepnote_to_be_reexecuted": false,
    "source_hash": "ccfdcea",
    "execution_millis": 234,
    "execution_start": 1623822942072,
    "cell_id": "00004-d5af1852-4d4b-40a9-9b04-c6e9713e8720",
    "deepnote_cell_type": "code"
   },
   "source": "x_train = pd.read_csv(\"X_train.csv\")\ny_train = pd.read_csv(\"y_train.csv\")\ndefo = list(y_train.target)\nx_train['y'] = defo\nx_train = x_train[~(x_train.age == 0)]\nx_train.head()",
   "outputs": [
    {
     "output_type": "execute_result",
     "execution_count": 2,
     "data": {
      "application/vnd.deepnote.dataframe.v2+json": {
       "row_count": 5,
       "column_count": 11,
       "columns": [
        {
         "name": "credit_card_utilization",
         "dtype": "float64",
         "stats": {
          "unique_count": 5,
          "nan_count": 0,
          "min": "0.0",
          "max": "0.6795561007271846",
          "histogram": [
           {
            "bin_start": 0,
            "bin_end": 0.06795561007271847,
            "count": 2
           },
           {
            "bin_start": 0.06795561007271847,
            "bin_end": 0.13591122014543694,
            "count": 0
           },
           {
            "bin_start": 0.13591122014543694,
            "bin_end": 0.2038668302181554,
            "count": 1
           },
           {
            "bin_start": 0.2038668302181554,
            "bin_end": 0.2718224402908739,
            "count": 0
           },
           {
            "bin_start": 0.2718224402908739,
            "bin_end": 0.3397780503635923,
            "count": 0
           },
           {
            "bin_start": 0.3397780503635923,
            "bin_end": 0.4077336604363108,
            "count": 1
           },
           {
            "bin_start": 0.4077336604363108,
            "bin_end": 0.4756892705090293,
            "count": 0
           },
           {
            "bin_start": 0.4756892705090293,
            "bin_end": 0.5436448805817478,
            "count": 0
           },
           {
            "bin_start": 0.5436448805817478,
            "bin_end": 0.6116004906544662,
            "count": 0
           },
           {
            "bin_start": 0.6116004906544662,
            "bin_end": 0.6795561007271846,
            "count": 1
           }
          ]
         }
        },
        {
         "name": "age",
         "dtype": "int64",
         "stats": {
          "unique_count": 5,
          "nan_count": 0,
          "min": "45",
          "max": "75",
          "histogram": [
           {
            "bin_start": 45,
            "bin_end": 48,
            "count": 1
           },
           {
            "bin_start": 48,
            "bin_end": 51,
            "count": 1
           },
           {
            "bin_start": 51,
            "bin_end": 54,
            "count": 0
           },
           {
            "bin_start": 54,
            "bin_end": 57,
            "count": 1
           },
           {
            "bin_start": 57,
            "bin_end": 60,
            "count": 1
           },
           {
            "bin_start": 60,
            "bin_end": 63,
            "count": 0
           },
           {
            "bin_start": 63,
            "bin_end": 66,
            "count": 0
           },
           {
            "bin_start": 66,
            "bin_end": 69,
            "count": 0
           },
           {
            "bin_start": 69,
            "bin_end": 72,
            "count": 0
           },
           {
            "bin_start": 72,
            "bin_end": 75,
            "count": 1
           }
          ]
         }
        },
        {
         "name": "overdue_30_59_days",
         "dtype": "int64",
         "stats": {
          "unique_count": 2,
          "nan_count": 0,
          "min": "0",
          "max": "1",
          "histogram": [
           {
            "bin_start": 0,
            "bin_end": 0.1,
            "count": 3
           },
           {
            "bin_start": 0.1,
            "bin_end": 0.2,
            "count": 0
           },
           {
            "bin_start": 0.2,
            "bin_end": 0.30000000000000004,
            "count": 0
           },
           {
            "bin_start": 0.30000000000000004,
            "bin_end": 0.4,
            "count": 0
           },
           {
            "bin_start": 0.4,
            "bin_end": 0.5,
            "count": 0
           },
           {
            "bin_start": 0.5,
            "bin_end": 0.6000000000000001,
            "count": 0
           },
           {
            "bin_start": 0.6000000000000001,
            "bin_end": 0.7000000000000001,
            "count": 0
           },
           {
            "bin_start": 0.7000000000000001,
            "bin_end": 0.8,
            "count": 0
           },
           {
            "bin_start": 0.8,
            "bin_end": 0.9,
            "count": 0
           },
           {
            "bin_start": 0.9,
            "bin_end": 1,
            "count": 2
           }
          ]
         }
        },
        {
         "name": "debt_to_income",
         "dtype": "float64",
         "stats": {
          "unique_count": 5,
          "nan_count": 0,
          "min": "0.3903114342993517",
          "max": "2.405859550097795",
          "histogram": [
           {
            "bin_start": 0.3903114342993517,
            "bin_end": 0.591866245879196,
            "count": 3
           },
           {
            "bin_start": 0.591866245879196,
            "bin_end": 0.7934210574590403,
            "count": 0
           },
           {
            "bin_start": 0.7934210574590403,
            "bin_end": 0.9949758690388846,
            "count": 1
           },
           {
            "bin_start": 0.9949758690388846,
            "bin_end": 1.196530680618729,
            "count": 0
           },
           {
            "bin_start": 1.196530680618729,
            "bin_end": 1.3980854921985733,
            "count": 0
           },
           {
            "bin_start": 1.3980854921985733,
            "bin_end": 1.5996403037784175,
            "count": 0
           },
           {
            "bin_start": 1.5996403037784175,
            "bin_end": 1.801195115358262,
            "count": 0
           },
           {
            "bin_start": 1.801195115358262,
            "bin_end": 2.0027499269381064,
            "count": 0
           },
           {
            "bin_start": 2.0027499269381064,
            "bin_end": 2.2043047385179504,
            "count": 0
           },
           {
            "bin_start": 2.2043047385179504,
            "bin_end": 2.405859550097795,
            "count": 1
           }
          ]
         }
        },
        {
         "name": "monthly_income",
         "dtype": "float64",
         "stats": {
          "unique_count": 5,
          "nan_count": 0,
          "min": "356.5807647712664",
          "max": "24833.22761443788",
          "histogram": [
           {
            "bin_start": 356.5807647712664,
            "bin_end": 2804.2454497379276,
            "count": 1
           },
           {
            "bin_start": 2804.2454497379276,
            "bin_end": 5251.910134704589,
            "count": 1
           },
           {
            "bin_start": 5251.910134704589,
            "bin_end": 7699.57481967125,
            "count": 1
           },
           {
            "bin_start": 7699.57481967125,
            "bin_end": 10147.239504637912,
            "count": 0
           },
           {
            "bin_start": 10147.239504637912,
            "bin_end": 12594.904189604573,
            "count": 0
           },
           {
            "bin_start": 12594.904189604573,
            "bin_end": 15042.568874571234,
            "count": 0
           },
           {
            "bin_start": 15042.568874571234,
            "bin_end": 17490.233559537897,
            "count": 0
           },
           {
            "bin_start": 17490.233559537897,
            "bin_end": 19937.89824450456,
            "count": 0
           },
           {
            "bin_start": 19937.89824450456,
            "bin_end": 22385.56292947122,
            "count": 1
           },
           {
            "bin_start": 22385.56292947122,
            "bin_end": 24833.22761443788,
            "count": 1
           }
          ]
         }
        },
        {
         "name": "credits_loans",
         "dtype": "int64",
         "stats": {
          "unique_count": 4,
          "nan_count": 0,
          "min": "5",
          "max": "15",
          "histogram": [
           {
            "bin_start": 5,
            "bin_end": 6,
            "count": 1
           },
           {
            "bin_start": 6,
            "bin_end": 7,
            "count": 0
           },
           {
            "bin_start": 7,
            "bin_end": 8,
            "count": 0
           },
           {
            "bin_start": 8,
            "bin_end": 9,
            "count": 0
           },
           {
            "bin_start": 9,
            "bin_end": 10,
            "count": 2
           },
           {
            "bin_start": 10,
            "bin_end": 11,
            "count": 0
           },
           {
            "bin_start": 11,
            "bin_end": 12,
            "count": 0
           },
           {
            "bin_start": 12,
            "bin_end": 13,
            "count": 1
           },
           {
            "bin_start": 13,
            "bin_end": 14,
            "count": 0
           },
           {
            "bin_start": 14,
            "bin_end": 15,
            "count": 1
           }
          ]
         }
        },
        {
         "name": "overdue__more_than_90_days",
         "dtype": "int64",
         "stats": {
          "unique_count": 1,
          "nan_count": 0,
          "min": "0",
          "max": "0",
          "histogram": [
           {
            "bin_start": -0.5,
            "bin_end": -0.4,
            "count": 0
           },
           {
            "bin_start": -0.4,
            "bin_end": -0.3,
            "count": 0
           },
           {
            "bin_start": -0.3,
            "bin_end": -0.19999999999999996,
            "count": 0
           },
           {
            "bin_start": -0.19999999999999996,
            "bin_end": -0.09999999999999998,
            "count": 0
           },
           {
            "bin_start": -0.09999999999999998,
            "bin_end": 0,
            "count": 0
           },
           {
            "bin_start": 0,
            "bin_end": 0.10000000000000009,
            "count": 5
           },
           {
            "bin_start": 0.10000000000000009,
            "bin_end": 0.20000000000000007,
            "count": 0
           },
           {
            "bin_start": 0.20000000000000007,
            "bin_end": 0.30000000000000004,
            "count": 0
           },
           {
            "bin_start": 0.30000000000000004,
            "bin_end": 0.4,
            "count": 0
           },
           {
            "bin_start": 0.4,
            "bin_end": 0.5,
            "count": 0
           }
          ]
         }
        },
        {
         "name": "mortgage_loans",
         "dtype": "int64",
         "stats": {
          "unique_count": 4,
          "nan_count": 0,
          "min": "0",
          "max": "4",
          "histogram": [
           {
            "bin_start": 0,
            "bin_end": 0.4,
            "count": 1
           },
           {
            "bin_start": 0.4,
            "bin_end": 0.8,
            "count": 0
           },
           {
            "bin_start": 0.8,
            "bin_end": 1.2000000000000002,
            "count": 2
           },
           {
            "bin_start": 1.2000000000000002,
            "bin_end": 1.6,
            "count": 0
           },
           {
            "bin_start": 1.6,
            "bin_end": 2,
            "count": 0
           },
           {
            "bin_start": 2,
            "bin_end": 2.4000000000000004,
            "count": 0
           },
           {
            "bin_start": 2.4000000000000004,
            "bin_end": 2.8000000000000003,
            "count": 0
           },
           {
            "bin_start": 2.8000000000000003,
            "bin_end": 3.2,
            "count": 1
           },
           {
            "bin_start": 3.2,
            "bin_end": 3.6,
            "count": 0
           },
           {
            "bin_start": 3.6,
            "bin_end": 4,
            "count": 1
           }
          ]
         }
        },
        {
         "name": "overdue_60_89_days",
         "dtype": "int64",
         "stats": {
          "unique_count": 1,
          "nan_count": 0,
          "min": "0",
          "max": "0",
          "histogram": [
           {
            "bin_start": -0.5,
            "bin_end": -0.4,
            "count": 0
           },
           {
            "bin_start": -0.4,
            "bin_end": -0.3,
            "count": 0
           },
           {
            "bin_start": -0.3,
            "bin_end": -0.19999999999999996,
            "count": 0
           },
           {
            "bin_start": -0.19999999999999996,
            "bin_end": -0.09999999999999998,
            "count": 0
           },
           {
            "bin_start": -0.09999999999999998,
            "bin_end": 0,
            "count": 0
           },
           {
            "bin_start": 0,
            "bin_end": 0.10000000000000009,
            "count": 5
           },
           {
            "bin_start": 0.10000000000000009,
            "bin_end": 0.20000000000000007,
            "count": 0
           },
           {
            "bin_start": 0.20000000000000007,
            "bin_end": 0.30000000000000004,
            "count": 0
           },
           {
            "bin_start": 0.30000000000000004,
            "bin_end": 0.4,
            "count": 0
           },
           {
            "bin_start": 0.4,
            "bin_end": 0.5,
            "count": 0
           }
          ]
         }
        },
        {
         "name": "family_members",
         "dtype": "float64",
         "stats": {
          "unique_count": 4,
          "nan_count": 0,
          "min": "0.0",
          "max": "5.0",
          "histogram": [
           {
            "bin_start": 0,
            "bin_end": 0.5,
            "count": 2
           },
           {
            "bin_start": 0.5,
            "bin_end": 1,
            "count": 0
           },
           {
            "bin_start": 1,
            "bin_end": 1.5,
            "count": 0
           },
           {
            "bin_start": 1.5,
            "bin_end": 2,
            "count": 0
           },
           {
            "bin_start": 2,
            "bin_end": 2.5,
            "count": 1
           },
           {
            "bin_start": 2.5,
            "bin_end": 3,
            "count": 0
           },
           {
            "bin_start": 3,
            "bin_end": 3.5,
            "count": 1
           },
           {
            "bin_start": 3.5,
            "bin_end": 4,
            "count": 0
           },
           {
            "bin_start": 4,
            "bin_end": 4.5,
            "count": 0
           },
           {
            "bin_start": 4.5,
            "bin_end": 5,
            "count": 1
           }
          ]
         }
        },
        {
         "name": "y",
         "dtype": "int64",
         "stats": {
          "unique_count": 1,
          "nan_count": 0,
          "min": "0",
          "max": "0",
          "histogram": [
           {
            "bin_start": -0.5,
            "bin_end": -0.4,
            "count": 0
           },
           {
            "bin_start": -0.4,
            "bin_end": -0.3,
            "count": 0
           },
           {
            "bin_start": -0.3,
            "bin_end": -0.19999999999999996,
            "count": 0
           },
           {
            "bin_start": -0.19999999999999996,
            "bin_end": -0.09999999999999998,
            "count": 0
           },
           {
            "bin_start": -0.09999999999999998,
            "bin_end": 0,
            "count": 0
           },
           {
            "bin_start": 0,
            "bin_end": 0.10000000000000009,
            "count": 5
           },
           {
            "bin_start": 0.10000000000000009,
            "bin_end": 0.20000000000000007,
            "count": 0
           },
           {
            "bin_start": 0.20000000000000007,
            "bin_end": 0.30000000000000004,
            "count": 0
           },
           {
            "bin_start": 0.30000000000000004,
            "bin_end": 0.4,
            "count": 0
           },
           {
            "bin_start": 0.4,
            "bin_end": 0.5,
            "count": 0
           }
          ]
         }
        },
        {
         "name": "_deepnote_index_column",
         "dtype": "int64"
        }
       ],
       "rows_top": [
        {
         "credit_card_utilization": 0,
         "age": 56,
         "overdue_30_59_days": 0,
         "debt_to_income": 0.504328449876763,
         "monthly_income": 6823.894458066215,
         "credits_loans": 9,
         "overdue__more_than_90_days": 0,
         "mortgage_loans": 1,
         "overdue_60_89_days": 0,
         "family_members": 5,
         "y": 0,
         "_deepnote_index_column": 0
        },
        {
         "credit_card_utilization": 0.1706587328468239,
         "age": 45,
         "overdue_30_59_days": 1,
         "debt_to_income": 2.405859550097795,
         "monthly_income": 356.5807647712664,
         "credits_loans": 5,
         "overdue__more_than_90_days": 0,
         "mortgage_loans": 0,
         "overdue_60_89_days": 0,
         "family_members": 0,
         "y": 0,
         "_deepnote_index_column": 1
        },
        {
         "credit_card_utilization": 0.3421756523323267,
         "age": 75,
         "overdue_30_59_days": 1,
         "debt_to_income": 0.4450658849281116,
         "monthly_income": 20349.89582534628,
         "credits_loans": 9,
         "overdue__more_than_90_days": 0,
         "mortgage_loans": 3,
         "overdue_60_89_days": 0,
         "family_members": 0,
         "y": 0,
         "_deepnote_index_column": 2
        },
        {
         "credit_card_utilization": 0.046219051518278,
         "age": 50,
         "overdue_30_59_days": 0,
         "debt_to_income": 0.8145083088164543,
         "monthly_income": 2894.3689678793653,
         "credits_loans": 12,
         "overdue__more_than_90_days": 0,
         "mortgage_loans": 1,
         "overdue_60_89_days": 0,
         "family_members": 3,
         "y": 0,
         "_deepnote_index_column": 3
        },
        {
         "credit_card_utilization": 0.6795561007271846,
         "age": 58,
         "overdue_30_59_days": 0,
         "debt_to_income": 0.3903114342993517,
         "monthly_income": 24833.22761443788,
         "credits_loans": 15,
         "overdue__more_than_90_days": 0,
         "mortgage_loans": 4,
         "overdue_60_89_days": 0,
         "family_members": 2,
         "y": 0,
         "_deepnote_index_column": 4
        }
       ],
       "rows_bottom": null
      },
      "text/plain": "   credit_card_utilization  age  overdue_30_59_days  debt_to_income  \\\n0                 0.000000   56                   0        0.504328   \n1                 0.170659   45                   1        2.405860   \n2                 0.342176   75                   1        0.445066   \n3                 0.046219   50                   0        0.814508   \n4                 0.679556   58                   0        0.390311   \n\n   monthly_income  credits_loans  overdue__more_than_90_days  mortgage_loans  \\\n0     6823.894458              9                           0               1   \n1      356.580765              5                           0               0   \n2    20349.895825              9                           0               3   \n3     2894.368968             12                           0               1   \n4    24833.227614             15                           0               4   \n\n   overdue_60_89_days  family_members  y  \n0                   0             5.0  0  \n1                   0             0.0  0  \n2                   0             0.0  0  \n3                   0             3.0  0  \n4                   0             2.0  0  ",
      "text/html": "<div>\n<style scoped>\n    .dataframe tbody tr th:only-of-type {\n        vertical-align: middle;\n    }\n\n    .dataframe tbody tr th {\n        vertical-align: top;\n    }\n\n    .dataframe thead th {\n        text-align: right;\n    }\n</style>\n<table border=\"1\" class=\"dataframe\">\n  <thead>\n    <tr style=\"text-align: right;\">\n      <th></th>\n      <th>credit_card_utilization</th>\n      <th>age</th>\n      <th>overdue_30_59_days</th>\n      <th>debt_to_income</th>\n      <th>monthly_income</th>\n      <th>credits_loans</th>\n      <th>overdue__more_than_90_days</th>\n      <th>mortgage_loans</th>\n      <th>overdue_60_89_days</th>\n      <th>family_members</th>\n      <th>y</th>\n    </tr>\n  </thead>\n  <tbody>\n    <tr>\n      <th>0</th>\n      <td>0.000000</td>\n      <td>56</td>\n      <td>0</td>\n      <td>0.504328</td>\n      <td>6823.894458</td>\n      <td>9</td>\n      <td>0</td>\n      <td>1</td>\n      <td>0</td>\n      <td>5.0</td>\n      <td>0</td>\n    </tr>\n    <tr>\n      <th>1</th>\n      <td>0.170659</td>\n      <td>45</td>\n      <td>1</td>\n      <td>2.405860</td>\n      <td>356.580765</td>\n      <td>5</td>\n      <td>0</td>\n      <td>0</td>\n      <td>0</td>\n      <td>0.0</td>\n      <td>0</td>\n    </tr>\n    <tr>\n      <th>2</th>\n      <td>0.342176</td>\n      <td>75</td>\n      <td>1</td>\n      <td>0.445066</td>\n      <td>20349.895825</td>\n      <td>9</td>\n      <td>0</td>\n      <td>3</td>\n      <td>0</td>\n      <td>0.0</td>\n      <td>0</td>\n    </tr>\n    <tr>\n      <th>3</th>\n      <td>0.046219</td>\n      <td>50</td>\n      <td>0</td>\n      <td>0.814508</td>\n      <td>2894.368968</td>\n      <td>12</td>\n      <td>0</td>\n      <td>1</td>\n      <td>0</td>\n      <td>3.0</td>\n      <td>0</td>\n    </tr>\n    <tr>\n      <th>4</th>\n      <td>0.679556</td>\n      <td>58</td>\n      <td>0</td>\n      <td>0.390311</td>\n      <td>24833.227614</td>\n      <td>15</td>\n      <td>0</td>\n      <td>4</td>\n      <td>0</td>\n      <td>2.0</td>\n      <td>0</td>\n    </tr>\n  </tbody>\n</table>\n</div>"
     },
     "metadata": {}
    }
   ],
   "execution_count": 2
  },
  {
   "cell_type": "markdown",
   "source": "## Feature engineering",
   "metadata": {
    "tags": [],
    "cell_id": "00005-9be669b3-d1c5-473d-8ffc-7b09df681155",
    "deepnote_cell_type": "text-cell-h2"
   }
  },
  {
   "cell_type": "code",
   "metadata": {
    "tags": [],
    "deepnote_to_be_reexecuted": false,
    "source_hash": "2be421b7",
    "execution_start": 1623822942312,
    "execution_millis": 141,
    "cell_id": "00006-b5767096-ae75-40a0-b0a8-26bbc50f2459",
    "deepnote_cell_type": "code"
   },
   "source": "des = x_train.describe()\ndes = des.append(pd.Series(data={ _:np.sum(np.isnan(x_train[_])) for _ in x_train.columns}, name='nans'), ignore_index= False)\ndes",
   "outputs": [
    {
     "output_type": "execute_result",
     "execution_count": 3,
     "data": {
      "application/vnd.deepnote.dataframe.v2+json": {
       "row_count": 9,
       "column_count": 11,
       "columns": [
        {
         "name": "credit_card_utilization",
         "dtype": "float64",
         "stats": {
          "unique_count": 8,
          "nan_count": 0,
          "min": "0.0",
          "max": "105108.0",
          "histogram": [
           {
            "bin_start": 0,
            "bin_end": 10510.8,
            "count": 7
           },
           {
            "bin_start": 10510.8,
            "bin_end": 21021.6,
            "count": 0
           },
           {
            "bin_start": 21021.6,
            "bin_end": 31532.399999999998,
            "count": 0
           },
           {
            "bin_start": 31532.399999999998,
            "bin_end": 42043.2,
            "count": 0
           },
           {
            "bin_start": 42043.2,
            "bin_end": 52554,
            "count": 1
           },
           {
            "bin_start": 52554,
            "bin_end": 63064.799999999996,
            "count": 0
           },
           {
            "bin_start": 63064.799999999996,
            "bin_end": 73575.59999999999,
            "count": 0
           },
           {
            "bin_start": 73575.59999999999,
            "bin_end": 84086.4,
            "count": 0
           },
           {
            "bin_start": 84086.4,
            "bin_end": 94597.2,
            "count": 0
           },
           {
            "bin_start": 94597.2,
            "bin_end": 105108,
            "count": 1
           }
          ]
         }
        },
        {
         "name": "age",
         "dtype": "float64",
         "stats": {
          "unique_count": 9,
          "nan_count": 0,
          "min": "0.0",
          "max": "105108.0",
          "histogram": [
           {
            "bin_start": 0,
            "bin_end": 10510.8,
            "count": 8
           },
           {
            "bin_start": 10510.8,
            "bin_end": 21021.6,
            "count": 0
           },
           {
            "bin_start": 21021.6,
            "bin_end": 31532.399999999998,
            "count": 0
           },
           {
            "bin_start": 31532.399999999998,
            "bin_end": 42043.2,
            "count": 0
           },
           {
            "bin_start": 42043.2,
            "bin_end": 52554,
            "count": 0
           },
           {
            "bin_start": 52554,
            "bin_end": 63064.799999999996,
            "count": 0
           },
           {
            "bin_start": 63064.799999999996,
            "bin_end": 73575.59999999999,
            "count": 0
           },
           {
            "bin_start": 73575.59999999999,
            "bin_end": 84086.4,
            "count": 0
           },
           {
            "bin_start": 84086.4,
            "bin_end": 94597.2,
            "count": 0
           },
           {
            "bin_start": 94597.2,
            "bin_end": 105108,
            "count": 1
           }
          ]
         }
        },
        {
         "name": "overdue_30_59_days",
         "dtype": "float64",
         "stats": {
          "unique_count": 5,
          "nan_count": 0,
          "min": "0.0",
          "max": "105108.0",
          "histogram": [
           {
            "bin_start": 0,
            "bin_end": 10510.8,
            "count": 8
           },
           {
            "bin_start": 10510.8,
            "bin_end": 21021.6,
            "count": 0
           },
           {
            "bin_start": 21021.6,
            "bin_end": 31532.399999999998,
            "count": 0
           },
           {
            "bin_start": 31532.399999999998,
            "bin_end": 42043.2,
            "count": 0
           },
           {
            "bin_start": 42043.2,
            "bin_end": 52554,
            "count": 0
           },
           {
            "bin_start": 52554,
            "bin_end": 63064.799999999996,
            "count": 0
           },
           {
            "bin_start": 63064.799999999996,
            "bin_end": 73575.59999999999,
            "count": 0
           },
           {
            "bin_start": 73575.59999999999,
            "bin_end": 84086.4,
            "count": 0
           },
           {
            "bin_start": 84086.4,
            "bin_end": 94597.2,
            "count": 0
           },
           {
            "bin_start": 94597.2,
            "bin_end": 105108,
            "count": 1
           }
          ]
         }
        },
        {
         "name": "debt_to_income",
         "dtype": "float64",
         "stats": {
          "unique_count": 8,
          "nan_count": 0,
          "min": "0.0",
          "max": "323248.21024238114",
          "histogram": [
           {
            "bin_start": 0,
            "bin_end": 32324.821024238114,
            "count": 7
           },
           {
            "bin_start": 32324.821024238114,
            "bin_end": 64649.64204847623,
            "count": 0
           },
           {
            "bin_start": 64649.64204847623,
            "bin_end": 96974.46307271434,
            "count": 0
           },
           {
            "bin_start": 96974.46307271434,
            "bin_end": 129299.28409695246,
            "count": 1
           },
           {
            "bin_start": 129299.28409695246,
            "bin_end": 161624.10512119057,
            "count": 0
           },
           {
            "bin_start": 161624.10512119057,
            "bin_end": 193948.92614542868,
            "count": 0
           },
           {
            "bin_start": 193948.92614542868,
            "bin_end": 226273.7471696668,
            "count": 0
           },
           {
            "bin_start": 226273.7471696668,
            "bin_end": 258598.5681939049,
            "count": 0
           },
           {
            "bin_start": 258598.5681939049,
            "bin_end": 290923.389218143,
            "count": 0
           },
           {
            "bin_start": 290923.389218143,
            "bin_end": 323248.21024238114,
            "count": 1
           }
          ]
         }
        },
        {
         "name": "monthly_income",
         "dtype": "float64",
         "stats": {
          "unique_count": 9,
          "nan_count": 0,
          "min": "0.0",
          "max": "1359525.5361344116",
          "histogram": [
           {
            "bin_start": 0,
            "bin_end": 135952.55361344115,
            "count": 8
           },
           {
            "bin_start": 135952.55361344115,
            "bin_end": 271905.1072268823,
            "count": 0
           },
           {
            "bin_start": 271905.1072268823,
            "bin_end": 407857.6608403234,
            "count": 0
           },
           {
            "bin_start": 407857.6608403234,
            "bin_end": 543810.2144537646,
            "count": 0
           },
           {
            "bin_start": 543810.2144537646,
            "bin_end": 679762.7680672058,
            "count": 0
           },
           {
            "bin_start": 679762.7680672058,
            "bin_end": 815715.3216806469,
            "count": 0
           },
           {
            "bin_start": 815715.3216806469,
            "bin_end": 951667.875294088,
            "count": 0
           },
           {
            "bin_start": 951667.875294088,
            "bin_end": 1087620.4289075292,
            "count": 0
           },
           {
            "bin_start": 1087620.4289075292,
            "bin_end": 1223572.9825209703,
            "count": 0
           },
           {
            "bin_start": 1223572.9825209703,
            "bin_end": 1359525.5361344116,
            "count": 1
           }
          ]
         }
        },
        {
         "name": "credits_loans",
         "dtype": "float64",
         "stats": {
          "unique_count": 8,
          "nan_count": 0,
          "min": "0.0",
          "max": "105108.0",
          "histogram": [
           {
            "bin_start": 0,
            "bin_end": 10510.8,
            "count": 8
           },
           {
            "bin_start": 10510.8,
            "bin_end": 21021.6,
            "count": 0
           },
           {
            "bin_start": 21021.6,
            "bin_end": 31532.399999999998,
            "count": 0
           },
           {
            "bin_start": 31532.399999999998,
            "bin_end": 42043.2,
            "count": 0
           },
           {
            "bin_start": 42043.2,
            "bin_end": 52554,
            "count": 0
           },
           {
            "bin_start": 52554,
            "bin_end": 63064.799999999996,
            "count": 0
           },
           {
            "bin_start": 63064.799999999996,
            "bin_end": 73575.59999999999,
            "count": 0
           },
           {
            "bin_start": 73575.59999999999,
            "bin_end": 84086.4,
            "count": 0
           },
           {
            "bin_start": 84086.4,
            "bin_end": 94597.2,
            "count": 0
           },
           {
            "bin_start": 94597.2,
            "bin_end": 105108,
            "count": 1
           }
          ]
         }
        },
        {
         "name": "overdue__more_than_90_days",
         "dtype": "float64",
         "stats": {
          "unique_count": 5,
          "nan_count": 0,
          "min": "0.0",
          "max": "105108.0",
          "histogram": [
           {
            "bin_start": 0,
            "bin_end": 10510.8,
            "count": 8
           },
           {
            "bin_start": 10510.8,
            "bin_end": 21021.6,
            "count": 0
           },
           {
            "bin_start": 21021.6,
            "bin_end": 31532.399999999998,
            "count": 0
           },
           {
            "bin_start": 31532.399999999998,
            "bin_end": 42043.2,
            "count": 0
           },
           {
            "bin_start": 42043.2,
            "bin_end": 52554,
            "count": 0
           },
           {
            "bin_start": 52554,
            "bin_end": 63064.799999999996,
            "count": 0
           },
           {
            "bin_start": 63064.799999999996,
            "bin_end": 73575.59999999999,
            "count": 0
           },
           {
            "bin_start": 73575.59999999999,
            "bin_end": 84086.4,
            "count": 0
           },
           {
            "bin_start": 84086.4,
            "bin_end": 94597.2,
            "count": 0
           },
           {
            "bin_start": 94597.2,
            "bin_end": 105108,
            "count": 1
           }
          ]
         }
        },
        {
         "name": "mortgage_loans",
         "dtype": "float64",
         "stats": {
          "unique_count": 7,
          "nan_count": 0,
          "min": "0.0",
          "max": "105108.0",
          "histogram": [
           {
            "bin_start": 0,
            "bin_end": 10510.8,
            "count": 8
           },
           {
            "bin_start": 10510.8,
            "bin_end": 21021.6,
            "count": 0
           },
           {
            "bin_start": 21021.6,
            "bin_end": 31532.399999999998,
            "count": 0
           },
           {
            "bin_start": 31532.399999999998,
            "bin_end": 42043.2,
            "count": 0
           },
           {
            "bin_start": 42043.2,
            "bin_end": 52554,
            "count": 0
           },
           {
            "bin_start": 52554,
            "bin_end": 63064.799999999996,
            "count": 0
           },
           {
            "bin_start": 63064.799999999996,
            "bin_end": 73575.59999999999,
            "count": 0
           },
           {
            "bin_start": 73575.59999999999,
            "bin_end": 84086.4,
            "count": 0
           },
           {
            "bin_start": 84086.4,
            "bin_end": 94597.2,
            "count": 0
           },
           {
            "bin_start": 94597.2,
            "bin_end": 105108,
            "count": 1
           }
          ]
         }
        },
        {
         "name": "overdue_60_89_days",
         "dtype": "float64",
         "stats": {
          "unique_count": 5,
          "nan_count": 0,
          "min": "0.0",
          "max": "105108.0",
          "histogram": [
           {
            "bin_start": 0,
            "bin_end": 10510.8,
            "count": 8
           },
           {
            "bin_start": 10510.8,
            "bin_end": 21021.6,
            "count": 0
           },
           {
            "bin_start": 21021.6,
            "bin_end": 31532.399999999998,
            "count": 0
           },
           {
            "bin_start": 31532.399999999998,
            "bin_end": 42043.2,
            "count": 0
           },
           {
            "bin_start": 42043.2,
            "bin_end": 52554,
            "count": 0
           },
           {
            "bin_start": 52554,
            "bin_end": 63064.799999999996,
            "count": 0
           },
           {
            "bin_start": 63064.799999999996,
            "bin_end": 73575.59999999999,
            "count": 0
           },
           {
            "bin_start": 73575.59999999999,
            "bin_end": 84086.4,
            "count": 0
           },
           {
            "bin_start": 84086.4,
            "bin_end": 94597.2,
            "count": 0
           },
           {
            "bin_start": 94597.2,
            "bin_end": 105108,
            "count": 1
           }
          ]
         }
        },
        {
         "name": "family_members",
         "dtype": "float64",
         "stats": {
          "unique_count": 7,
          "nan_count": 0,
          "min": "0.0",
          "max": "102303.0",
          "histogram": [
           {
            "bin_start": 0,
            "bin_end": 10230.3,
            "count": 8
           },
           {
            "bin_start": 10230.3,
            "bin_end": 20460.6,
            "count": 0
           },
           {
            "bin_start": 20460.6,
            "bin_end": 30690.899999999998,
            "count": 0
           },
           {
            "bin_start": 30690.899999999998,
            "bin_end": 40921.2,
            "count": 0
           },
           {
            "bin_start": 40921.2,
            "bin_end": 51151.5,
            "count": 0
           },
           {
            "bin_start": 51151.5,
            "bin_end": 61381.799999999996,
            "count": 0
           },
           {
            "bin_start": 61381.799999999996,
            "bin_end": 71612.09999999999,
            "count": 0
           },
           {
            "bin_start": 71612.09999999999,
            "bin_end": 81842.4,
            "count": 0
           },
           {
            "bin_start": 81842.4,
            "bin_end": 92072.7,
            "count": 0
           },
           {
            "bin_start": 92072.7,
            "bin_end": 102303,
            "count": 1
           }
          ]
         }
        },
        {
         "name": "y",
         "dtype": "float64",
         "stats": {
          "unique_count": 5,
          "nan_count": 0,
          "min": "0.0",
          "max": "105108.0",
          "histogram": [
           {
            "bin_start": 0,
            "bin_end": 10510.8,
            "count": 8
           },
           {
            "bin_start": 10510.8,
            "bin_end": 21021.6,
            "count": 0
           },
           {
            "bin_start": 21021.6,
            "bin_end": 31532.399999999998,
            "count": 0
           },
           {
            "bin_start": 31532.399999999998,
            "bin_end": 42043.2,
            "count": 0
           },
           {
            "bin_start": 42043.2,
            "bin_end": 52554,
            "count": 0
           },
           {
            "bin_start": 52554,
            "bin_end": 63064.799999999996,
            "count": 0
           },
           {
            "bin_start": 63064.799999999996,
            "bin_end": 73575.59999999999,
            "count": 0
           },
           {
            "bin_start": 73575.59999999999,
            "bin_end": 84086.4,
            "count": 0
           },
           {
            "bin_start": 84086.4,
            "bin_end": 94597.2,
            "count": 0
           },
           {
            "bin_start": 94597.2,
            "bin_end": 105108,
            "count": 1
           }
          ]
         }
        },
        {
         "name": "_deepnote_index_column",
         "dtype": "object"
        }
       ],
       "rows_top": [
        {
         "credit_card_utilization": 105108,
         "age": 105108,
         "overdue_30_59_days": 105108,
         "debt_to_income": 105108,
         "monthly_income": 84115,
         "credits_loans": 105108,
         "overdue__more_than_90_days": 105108,
         "mortgage_loans": 105108,
         "overdue_60_89_days": 105108,
         "family_members": 102303,
         "y": 105108,
         "_deepnote_index_column": "count"
        },
        {
         "credit_card_utilization": 5.825220831090287,
         "age": 53.32157400007611,
         "overdue_30_59_days": 0.4266373634737603,
         "debt_to_income": 354.1915213816758,
         "monthly_income": 6649.734420945175,
         "credits_loans": 8.956283061232256,
         "overdue__more_than_90_days": 0.2699699356852,
         "mortgage_loans": 1.0185047760398829,
         "overdue_60_89_days": 0.2443581839631617,
         "family_members": 0.7570843474775911,
         "y": 0.06689310043003387,
         "_deepnote_index_column": "mean"
        },
        {
         "credit_card_utilization": 251.0226241960854,
         "age": 14.810164243181761,
         "overdue_30_59_days": 4.251244614470914,
         "debt_to_income": 1827.1925307286185,
         "monthly_income": 11065.104306862044,
         "credits_loans": 5.182731422927606,
         "overdue__more_than_90_days": 4.227385951673485,
         "mortgage_loans": 1.1362296435630175,
         "overdue_60_89_days": 4.214037523724039,
         "family_members": 1.1165239394688966,
         "y": 0.24983796228917096,
         "_deepnote_index_column": "std"
        },
        {
         "credit_card_utilization": 0,
         "age": 21,
         "overdue_30_59_days": 0,
         "debt_to_income": 0,
         "monthly_income": 0,
         "credits_loans": 0,
         "overdue__more_than_90_days": 0,
         "mortgage_loans": 0,
         "overdue_60_89_days": 0,
         "family_members": 0,
         "y": 0,
         "_deepnote_index_column": "min"
        },
        {
         "credit_card_utilization": 0.029590761958192824,
         "age": 42,
         "overdue_30_59_days": 0,
         "debt_to_income": 0.17366812239035473,
         "monthly_income": 3343.187700405403,
         "credits_loans": 5,
         "overdue__more_than_90_days": 0,
         "mortgage_loans": 0,
         "overdue_60_89_days": 0,
         "family_members": 0,
         "y": 0,
         "_deepnote_index_column": "25%"
        },
        {
         "credit_card_utilization": 0.1537896930692367,
         "age": 53,
         "overdue_30_59_days": 0,
         "debt_to_income": 0.36503781704582094,
         "monthly_income": 5361.670819858691,
         "credits_loans": 8,
         "overdue__more_than_90_days": 0,
         "mortgage_loans": 1,
         "overdue_60_89_days": 0,
         "family_members": 0,
         "y": 0,
         "_deepnote_index_column": "50%"
        },
        {
         "credit_card_utilization": 0.5543444643874312,
         "age": 64,
         "overdue_30_59_days": 0,
         "debt_to_income": 0.880884712967004,
         "monthly_income": 8207.869755407135,
         "credits_loans": 12,
         "overdue__more_than_90_days": 0,
         "mortgage_loans": 2,
         "overdue_60_89_days": 0,
         "family_members": 1,
         "y": 0,
         "_deepnote_index_column": "75%"
        },
        {
         "credit_card_utilization": 48779.7300231001,
         "age": 111,
         "overdue_30_59_days": 98,
         "debt_to_income": 323248.21024238114,
         "monthly_income": 1359525.5361344116,
         "credits_loans": 58,
         "overdue__more_than_90_days": 98,
         "mortgage_loans": 54,
         "overdue_60_89_days": 98,
         "family_members": 20,
         "y": 1,
         "_deepnote_index_column": "max"
        },
        {
         "credit_card_utilization": 0,
         "age": 0,
         "overdue_30_59_days": 0,
         "debt_to_income": 0,
         "monthly_income": 20993,
         "credits_loans": 0,
         "overdue__more_than_90_days": 0,
         "mortgage_loans": 0,
         "overdue_60_89_days": 0,
         "family_members": 2805,
         "y": 0,
         "_deepnote_index_column": "nans"
        }
       ],
       "rows_bottom": null
      },
      "text/plain": "       credit_card_utilization            age  overdue_30_59_days  \\\ncount            105108.000000  105108.000000       105108.000000   \nmean                  5.825221      53.321574            0.426637   \nstd                 251.022624      14.810164            4.251245   \nmin                   0.000000      21.000000            0.000000   \n25%                   0.029591      42.000000            0.000000   \n50%                   0.153790      53.000000            0.000000   \n75%                   0.554344      64.000000            0.000000   \nmax               48779.730023     111.000000           98.000000   \nnans                  0.000000       0.000000            0.000000   \n\n       debt_to_income  monthly_income  credits_loans  \\\ncount   105108.000000    8.411500e+04  105108.000000   \nmean       354.191521    6.649734e+03       8.956283   \nstd       1827.192531    1.106510e+04       5.182731   \nmin          0.000000    0.000000e+00       0.000000   \n25%          0.173668    3.343188e+03       5.000000   \n50%          0.365038    5.361671e+03       8.000000   \n75%          0.880885    8.207870e+03      12.000000   \nmax     323248.210242    1.359526e+06      58.000000   \nnans         0.000000    2.099300e+04       0.000000   \n\n       overdue__more_than_90_days  mortgage_loans  overdue_60_89_days  \\\ncount               105108.000000   105108.000000       105108.000000   \nmean                     0.269970        1.018505            0.244358   \nstd                      4.227386        1.136230            4.214038   \nmin                      0.000000        0.000000            0.000000   \n25%                      0.000000        0.000000            0.000000   \n50%                      0.000000        1.000000            0.000000   \n75%                      0.000000        2.000000            0.000000   \nmax                     98.000000       54.000000           98.000000   \nnans                     0.000000        0.000000            0.000000   \n\n       family_members              y  \ncount   102303.000000  105108.000000  \nmean         0.757084       0.066893  \nstd          1.116524       0.249838  \nmin          0.000000       0.000000  \n25%          0.000000       0.000000  \n50%          0.000000       0.000000  \n75%          1.000000       0.000000  \nmax         20.000000       1.000000  \nnans      2805.000000       0.000000  ",
      "text/html": "<div>\n<style scoped>\n    .dataframe tbody tr th:only-of-type {\n        vertical-align: middle;\n    }\n\n    .dataframe tbody tr th {\n        vertical-align: top;\n    }\n\n    .dataframe thead th {\n        text-align: right;\n    }\n</style>\n<table border=\"1\" class=\"dataframe\">\n  <thead>\n    <tr style=\"text-align: right;\">\n      <th></th>\n      <th>credit_card_utilization</th>\n      <th>age</th>\n      <th>overdue_30_59_days</th>\n      <th>debt_to_income</th>\n      <th>monthly_income</th>\n      <th>credits_loans</th>\n      <th>overdue__more_than_90_days</th>\n      <th>mortgage_loans</th>\n      <th>overdue_60_89_days</th>\n      <th>family_members</th>\n      <th>y</th>\n    </tr>\n  </thead>\n  <tbody>\n    <tr>\n      <th>count</th>\n      <td>105108.000000</td>\n      <td>105108.000000</td>\n      <td>105108.000000</td>\n      <td>105108.000000</td>\n      <td>8.411500e+04</td>\n      <td>105108.000000</td>\n      <td>105108.000000</td>\n      <td>105108.000000</td>\n      <td>105108.000000</td>\n      <td>102303.000000</td>\n      <td>105108.000000</td>\n    </tr>\n    <tr>\n      <th>mean</th>\n      <td>5.825221</td>\n      <td>53.321574</td>\n      <td>0.426637</td>\n      <td>354.191521</td>\n      <td>6.649734e+03</td>\n      <td>8.956283</td>\n      <td>0.269970</td>\n      <td>1.018505</td>\n      <td>0.244358</td>\n      <td>0.757084</td>\n      <td>0.066893</td>\n    </tr>\n    <tr>\n      <th>std</th>\n      <td>251.022624</td>\n      <td>14.810164</td>\n      <td>4.251245</td>\n      <td>1827.192531</td>\n      <td>1.106510e+04</td>\n      <td>5.182731</td>\n      <td>4.227386</td>\n      <td>1.136230</td>\n      <td>4.214038</td>\n      <td>1.116524</td>\n      <td>0.249838</td>\n    </tr>\n    <tr>\n      <th>min</th>\n      <td>0.000000</td>\n      <td>21.000000</td>\n      <td>0.000000</td>\n      <td>0.000000</td>\n      <td>0.000000e+00</td>\n      <td>0.000000</td>\n      <td>0.000000</td>\n      <td>0.000000</td>\n      <td>0.000000</td>\n      <td>0.000000</td>\n      <td>0.000000</td>\n    </tr>\n    <tr>\n      <th>25%</th>\n      <td>0.029591</td>\n      <td>42.000000</td>\n      <td>0.000000</td>\n      <td>0.173668</td>\n      <td>3.343188e+03</td>\n      <td>5.000000</td>\n      <td>0.000000</td>\n      <td>0.000000</td>\n      <td>0.000000</td>\n      <td>0.000000</td>\n      <td>0.000000</td>\n    </tr>\n    <tr>\n      <th>50%</th>\n      <td>0.153790</td>\n      <td>53.000000</td>\n      <td>0.000000</td>\n      <td>0.365038</td>\n      <td>5.361671e+03</td>\n      <td>8.000000</td>\n      <td>0.000000</td>\n      <td>1.000000</td>\n      <td>0.000000</td>\n      <td>0.000000</td>\n      <td>0.000000</td>\n    </tr>\n    <tr>\n      <th>75%</th>\n      <td>0.554344</td>\n      <td>64.000000</td>\n      <td>0.000000</td>\n      <td>0.880885</td>\n      <td>8.207870e+03</td>\n      <td>12.000000</td>\n      <td>0.000000</td>\n      <td>2.000000</td>\n      <td>0.000000</td>\n      <td>1.000000</td>\n      <td>0.000000</td>\n    </tr>\n    <tr>\n      <th>max</th>\n      <td>48779.730023</td>\n      <td>111.000000</td>\n      <td>98.000000</td>\n      <td>323248.210242</td>\n      <td>1.359526e+06</td>\n      <td>58.000000</td>\n      <td>98.000000</td>\n      <td>54.000000</td>\n      <td>98.000000</td>\n      <td>20.000000</td>\n      <td>1.000000</td>\n    </tr>\n    <tr>\n      <th>nans</th>\n      <td>0.000000</td>\n      <td>0.000000</td>\n      <td>0.000000</td>\n      <td>0.000000</td>\n      <td>2.099300e+04</td>\n      <td>0.000000</td>\n      <td>0.000000</td>\n      <td>0.000000</td>\n      <td>0.000000</td>\n      <td>2805.000000</td>\n      <td>0.000000</td>\n    </tr>\n  </tbody>\n</table>\n</div>"
     },
     "metadata": {}
    }
   ],
   "execution_count": 3
  },
  {
   "cell_type": "markdown",
   "source": "We can see that columns 'monthly_income' and 'family_members' has lots of nan's in it, so we should replace them. ",
   "metadata": {
    "tags": [],
    "cell_id": "00007-14a6dde2-6b15-4475-bbd1-b0797d6c2c08",
    "deepnote_cell_type": "markdown"
   }
  },
  {
   "cell_type": "code",
   "metadata": {
    "tags": [],
    "deepnote_to_be_reexecuted": false,
    "source_hash": "8687d37c",
    "execution_millis": 1551,
    "execution_start": 1623822942449,
    "cell_id": "00008-7faf9e58-03e3-405b-a5e0-3dd7ba3423f4",
    "deepnote_cell_type": "code"
   },
   "source": "crm = x_train.corr()\nfig = px.imshow(crm)\nfig.update_layout(paper_bgcolor=\"rgb(1,1,1,1)\", font_color = \"rgb(255, 255, 255)\")\nfig.show()",
   "outputs": [
    {
     "data": {
      "text/html": "<html>\n<head><meta charset=\"utf-8\" /></head>\n<body>\n    <div>            <script src=\"https://cdnjs.cloudflare.com/ajax/libs/mathjax/2.7.5/MathJax.js?config=TeX-AMS-MML_SVG\"></script><script type=\"text/javascript\">if (window.MathJax) {MathJax.Hub.Config({SVG: {font: \"STIX-Web\"}});}</script>                <script type=\"text/javascript\">window.PlotlyConfig = {MathJaxConfig: 'local'};</script>\n        <script src=\"https://cdn.plot.ly/plotly-latest.min.js\"></script>                <div id=\"5dde6621-3343-44b7-8fd0-99906aa1babc\" class=\"plotly-graph-div\" style=\"height:525px; width:100%;\"></div>            <script type=\"text/javascript\">                                    window.PLOTLYENV=window.PLOTLYENV || {};                                    if (document.getElementById(\"5dde6621-3343-44b7-8fd0-99906aa1babc\")) {                    Plotly.newPlot(                        \"5dde6621-3343-44b7-8fd0-99906aa1babc\",                        [{\"coloraxis\": \"coloraxis\", \"hovertemplate\": \"x: %{x}<br>y: %{y}<br>color: %{z}<extra></extra>\", \"name\": \"0\", \"type\": \"heatmap\", \"x\": [\"credit_card_utilization\", \"age\", \"overdue_30_59_days\", \"debt_to_income\", \"monthly_income\", \"credits_loans\", \"overdue__more_than_90_days\", \"mortgage_loans\", \"overdue_60_89_days\", \"family_members\", \"y\"], \"xaxis\": \"x\", \"y\": [\"credit_card_utilization\", \"age\", \"overdue_30_59_days\", \"debt_to_income\", \"monthly_income\", \"credits_loans\", \"overdue__more_than_90_days\", \"mortgage_loans\", \"overdue_60_89_days\", \"family_members\", \"y\"], \"yaxis\": \"y\", \"z\": [[1.0, -0.007314063701409613, -0.0012756676539164733, 0.0031546435891791178, 0.011236294736571326, -0.010075619369035201, -0.0009587301929000176, 0.003955666774798254, -0.0009446159140371618, 0.0020239216109818516, -0.0006407145365160828], [-0.007314063701409613, 1.0, -0.06436629319526777, 0.02379886513844598, 0.0489087788323061, 0.1484019377880083, -0.0622891446194782, 0.032237284421083395, -0.0584601529379514, -0.21368143742552465, -0.11622971889496761], [-0.0012756676539164733, -0.06436629319526777, 1.0, -0.007898789580898263, -0.013712274224012805, -0.0560553547026631, 0.9842474813603104, -0.03051126874259296, 0.9873644011771747, -0.00355098480173656, 0.13030070181982092], [0.0031546435891791178, 0.02379886513844598, -0.007898789580898263, 1.0, -0.037227246876034174, 0.05340541615568403, -0.009178655758347592, 0.12956112427276711, -0.008469066177703299, -0.049207774187804525, -0.008377725866291907], [0.011236294736571326, 0.0489087788323061, -0.013712274224012805, -0.037227246876034174, 1.0, 0.11743247517239094, -0.017595787227853703, 0.16419280038769038, -0.01574856435574073, 0.07587530051326292, -0.02616910906401845], [-0.010075619369035201, 0.1484019377880083, -0.0560553547026631, 0.05340541615568403, 0.11743247517239094, 1.0, -0.08064526339673954, 0.4290225119916111, -0.07178385164949673, 0.06527193102024546, -0.028205061460546403], [-0.0009587301929000176, -0.0622891446194782, 0.9842474813603104, -0.009178655758347592, -0.017595787227853703, -0.08064526339673954, 1.0, -0.04574765486573104, 0.9932823826031609, -0.011626927095323177, 0.12136605275448159], [0.003955666774798254, 0.032237284421083395, -0.03051126874259296, 0.12956112427276711, 0.16419280038769038, 0.4290225119916111, -0.04574765486573104, 1.0, -0.04020010011920799, 0.12381254999691216, -0.006807205759354519], [-0.0009446159140371618, -0.0584601529379514, 0.9873644011771747, -0.008469066177703299, -0.01574856435574073, -0.07178385164949673, 0.9932823826031609, -0.04020010011920799, 1.0, -0.012481950911042528, 0.10693093703827039], [0.0020239216109818516, -0.21368143742552465, -0.00355098480173656, -0.049207774187804525, 0.07587530051326292, 0.06527193102024546, -0.011626927095323177, 0.12381254999691216, -0.012481950911042528, 1.0, 0.049869532031849274], [-0.0006407145365160828, -0.11622971889496761, 0.13030070181982092, -0.008377725866291907, -0.02616910906401845, -0.028205061460546403, 0.12136605275448159, -0.006807205759354519, 0.10693093703827039, 0.049869532031849274, 1.0]]}],                        {\"coloraxis\": {\"colorscale\": [[0.0, \"#0d0887\"], [0.1111111111111111, \"#46039f\"], [0.2222222222222222, \"#7201a8\"], [0.3333333333333333, \"#9c179e\"], [0.4444444444444444, \"#bd3786\"], [0.5555555555555556, \"#d8576b\"], [0.6666666666666666, \"#ed7953\"], [0.7777777777777778, \"#fb9f3a\"], [0.8888888888888888, \"#fdca26\"], [1.0, \"#f0f921\"]]}, \"font\": {\"color\": \"rgb(255, 255, 255)\"}, \"margin\": {\"t\": 60}, \"paper_bgcolor\": \"rgb(1,1,1,1)\", \"template\": {\"data\": {\"bar\": [{\"error_x\": {\"color\": \"#2a3f5f\"}, \"error_y\": {\"color\": \"#2a3f5f\"}, \"marker\": {\"line\": {\"color\": \"#E5ECF6\", \"width\": 0.5}}, \"type\": \"bar\"}], \"barpolar\": [{\"marker\": {\"line\": {\"color\": \"#E5ECF6\", \"width\": 0.5}}, \"type\": \"barpolar\"}], \"carpet\": [{\"aaxis\": {\"endlinecolor\": \"#2a3f5f\", \"gridcolor\": \"white\", \"linecolor\": \"white\", \"minorgridcolor\": \"white\", \"startlinecolor\": \"#2a3f5f\"}, \"baxis\": {\"endlinecolor\": \"#2a3f5f\", \"gridcolor\": \"white\", \"linecolor\": \"white\", \"minorgridcolor\": \"white\", \"startlinecolor\": \"#2a3f5f\"}, \"type\": \"carpet\"}], \"choropleth\": [{\"colorbar\": {\"outlinewidth\": 0, \"ticks\": \"\"}, \"type\": \"choropleth\"}], \"contour\": [{\"colorbar\": {\"outlinewidth\": 0, \"ticks\": \"\"}, \"colorscale\": [[0.0, \"#0d0887\"], [0.1111111111111111, \"#46039f\"], [0.2222222222222222, \"#7201a8\"], [0.3333333333333333, \"#9c179e\"], [0.4444444444444444, \"#bd3786\"], [0.5555555555555556, \"#d8576b\"], [0.6666666666666666, \"#ed7953\"], [0.7777777777777778, \"#fb9f3a\"], [0.8888888888888888, \"#fdca26\"], [1.0, \"#f0f921\"]], \"type\": \"contour\"}], \"contourcarpet\": [{\"colorbar\": {\"outlinewidth\": 0, \"ticks\": \"\"}, \"type\": \"contourcarpet\"}], \"heatmap\": [{\"colorbar\": {\"outlinewidth\": 0, \"ticks\": \"\"}, \"colorscale\": [[0.0, \"#0d0887\"], [0.1111111111111111, \"#46039f\"], [0.2222222222222222, \"#7201a8\"], [0.3333333333333333, \"#9c179e\"], [0.4444444444444444, \"#bd3786\"], [0.5555555555555556, \"#d8576b\"], [0.6666666666666666, \"#ed7953\"], [0.7777777777777778, \"#fb9f3a\"], [0.8888888888888888, \"#fdca26\"], [1.0, \"#f0f921\"]], \"type\": \"heatmap\"}], \"heatmapgl\": [{\"colorbar\": {\"outlinewidth\": 0, \"ticks\": \"\"}, \"colorscale\": [[0.0, \"#0d0887\"], [0.1111111111111111, \"#46039f\"], [0.2222222222222222, \"#7201a8\"], [0.3333333333333333, \"#9c179e\"], [0.4444444444444444, \"#bd3786\"], [0.5555555555555556, \"#d8576b\"], [0.6666666666666666, \"#ed7953\"], [0.7777777777777778, \"#fb9f3a\"], [0.8888888888888888, \"#fdca26\"], [1.0, \"#f0f921\"]], \"type\": \"heatmapgl\"}], \"histogram\": [{\"marker\": {\"colorbar\": {\"outlinewidth\": 0, \"ticks\": \"\"}}, \"type\": \"histogram\"}], \"histogram2d\": [{\"colorbar\": {\"outlinewidth\": 0, \"ticks\": \"\"}, \"colorscale\": [[0.0, \"#0d0887\"], [0.1111111111111111, \"#46039f\"], [0.2222222222222222, \"#7201a8\"], [0.3333333333333333, \"#9c179e\"], [0.4444444444444444, \"#bd3786\"], [0.5555555555555556, \"#d8576b\"], [0.6666666666666666, \"#ed7953\"], [0.7777777777777778, \"#fb9f3a\"], [0.8888888888888888, \"#fdca26\"], [1.0, \"#f0f921\"]], \"type\": \"histogram2d\"}], \"histogram2dcontour\": [{\"colorbar\": {\"outlinewidth\": 0, \"ticks\": \"\"}, \"colorscale\": [[0.0, \"#0d0887\"], [0.1111111111111111, \"#46039f\"], [0.2222222222222222, \"#7201a8\"], [0.3333333333333333, \"#9c179e\"], [0.4444444444444444, \"#bd3786\"], [0.5555555555555556, \"#d8576b\"], [0.6666666666666666, \"#ed7953\"], [0.7777777777777778, \"#fb9f3a\"], [0.8888888888888888, \"#fdca26\"], [1.0, \"#f0f921\"]], \"type\": \"histogram2dcontour\"}], \"mesh3d\": [{\"colorbar\": {\"outlinewidth\": 0, \"ticks\": \"\"}, \"type\": \"mesh3d\"}], \"parcoords\": [{\"line\": {\"colorbar\": {\"outlinewidth\": 0, \"ticks\": \"\"}}, \"type\": \"parcoords\"}], \"pie\": [{\"automargin\": true, \"type\": \"pie\"}], \"scatter\": [{\"marker\": {\"colorbar\": {\"outlinewidth\": 0, \"ticks\": \"\"}}, \"type\": \"scatter\"}], \"scatter3d\": [{\"line\": {\"colorbar\": {\"outlinewidth\": 0, \"ticks\": \"\"}}, \"marker\": {\"colorbar\": {\"outlinewidth\": 0, \"ticks\": \"\"}}, \"type\": \"scatter3d\"}], \"scattercarpet\": [{\"marker\": {\"colorbar\": {\"outlinewidth\": 0, \"ticks\": \"\"}}, \"type\": \"scattercarpet\"}], \"scattergeo\": [{\"marker\": {\"colorbar\": {\"outlinewidth\": 0, \"ticks\": \"\"}}, \"type\": \"scattergeo\"}], \"scattergl\": [{\"marker\": {\"colorbar\": {\"outlinewidth\": 0, \"ticks\": \"\"}}, \"type\": \"scattergl\"}], \"scattermapbox\": [{\"marker\": {\"colorbar\": {\"outlinewidth\": 0, \"ticks\": \"\"}}, \"type\": \"scattermapbox\"}], \"scatterpolar\": [{\"marker\": {\"colorbar\": {\"outlinewidth\": 0, \"ticks\": \"\"}}, \"type\": \"scatterpolar\"}], \"scatterpolargl\": [{\"marker\": {\"colorbar\": {\"outlinewidth\": 0, \"ticks\": \"\"}}, \"type\": \"scatterpolargl\"}], \"scatterternary\": [{\"marker\": {\"colorbar\": {\"outlinewidth\": 0, \"ticks\": \"\"}}, \"type\": \"scatterternary\"}], \"surface\": [{\"colorbar\": {\"outlinewidth\": 0, \"ticks\": \"\"}, \"colorscale\": [[0.0, \"#0d0887\"], [0.1111111111111111, \"#46039f\"], [0.2222222222222222, \"#7201a8\"], [0.3333333333333333, \"#9c179e\"], [0.4444444444444444, \"#bd3786\"], [0.5555555555555556, \"#d8576b\"], [0.6666666666666666, \"#ed7953\"], [0.7777777777777778, \"#fb9f3a\"], [0.8888888888888888, \"#fdca26\"], [1.0, \"#f0f921\"]], \"type\": \"surface\"}], \"table\": [{\"cells\": {\"fill\": {\"color\": \"#EBF0F8\"}, \"line\": {\"color\": \"white\"}}, \"header\": {\"fill\": {\"color\": \"#C8D4E3\"}, \"line\": {\"color\": \"white\"}}, \"type\": \"table\"}]}, \"layout\": {\"annotationdefaults\": {\"arrowcolor\": \"#2a3f5f\", \"arrowhead\": 0, \"arrowwidth\": 1}, \"autotypenumbers\": \"strict\", \"coloraxis\": {\"colorbar\": {\"outlinewidth\": 0, \"ticks\": \"\"}}, \"colorscale\": {\"diverging\": [[0, \"#8e0152\"], [0.1, \"#c51b7d\"], [0.2, \"#de77ae\"], [0.3, \"#f1b6da\"], [0.4, \"#fde0ef\"], [0.5, \"#f7f7f7\"], [0.6, \"#e6f5d0\"], [0.7, \"#b8e186\"], [0.8, \"#7fbc41\"], [0.9, \"#4d9221\"], [1, \"#276419\"]], \"sequential\": [[0.0, \"#0d0887\"], [0.1111111111111111, \"#46039f\"], [0.2222222222222222, \"#7201a8\"], [0.3333333333333333, \"#9c179e\"], [0.4444444444444444, \"#bd3786\"], [0.5555555555555556, \"#d8576b\"], [0.6666666666666666, \"#ed7953\"], [0.7777777777777778, \"#fb9f3a\"], [0.8888888888888888, \"#fdca26\"], [1.0, \"#f0f921\"]], \"sequentialminus\": [[0.0, \"#0d0887\"], [0.1111111111111111, \"#46039f\"], [0.2222222222222222, \"#7201a8\"], [0.3333333333333333, \"#9c179e\"], [0.4444444444444444, \"#bd3786\"], [0.5555555555555556, \"#d8576b\"], [0.6666666666666666, \"#ed7953\"], [0.7777777777777778, \"#fb9f3a\"], [0.8888888888888888, \"#fdca26\"], [1.0, \"#f0f921\"]]}, \"colorway\": [\"#636efa\", \"#EF553B\", \"#00cc96\", \"#ab63fa\", \"#FFA15A\", \"#19d3f3\", \"#FF6692\", \"#B6E880\", \"#FF97FF\", \"#FECB52\"], \"font\": {\"color\": \"#2a3f5f\"}, \"geo\": {\"bgcolor\": \"white\", \"lakecolor\": \"white\", \"landcolor\": \"#E5ECF6\", \"showlakes\": true, \"showland\": true, \"subunitcolor\": \"white\"}, \"hoverlabel\": {\"align\": \"left\"}, \"hovermode\": \"closest\", \"mapbox\": {\"style\": \"light\"}, \"paper_bgcolor\": \"white\", \"plot_bgcolor\": \"#E5ECF6\", \"polar\": {\"angularaxis\": {\"gridcolor\": \"white\", \"linecolor\": \"white\", \"ticks\": \"\"}, \"bgcolor\": \"#E5ECF6\", \"radialaxis\": {\"gridcolor\": \"white\", \"linecolor\": \"white\", \"ticks\": \"\"}}, \"scene\": {\"xaxis\": {\"backgroundcolor\": \"#E5ECF6\", \"gridcolor\": \"white\", \"gridwidth\": 2, \"linecolor\": \"white\", \"showbackground\": true, \"ticks\": \"\", \"zerolinecolor\": \"white\"}, \"yaxis\": {\"backgroundcolor\": \"#E5ECF6\", \"gridcolor\": \"white\", \"gridwidth\": 2, \"linecolor\": \"white\", \"showbackground\": true, \"ticks\": \"\", \"zerolinecolor\": \"white\"}, \"zaxis\": {\"backgroundcolor\": \"#E5ECF6\", \"gridcolor\": \"white\", \"gridwidth\": 2, \"linecolor\": \"white\", \"showbackground\": true, \"ticks\": \"\", \"zerolinecolor\": \"white\"}}, \"shapedefaults\": {\"line\": {\"color\": \"#2a3f5f\"}}, \"ternary\": {\"aaxis\": {\"gridcolor\": \"white\", \"linecolor\": \"white\", \"ticks\": \"\"}, \"baxis\": {\"gridcolor\": \"white\", \"linecolor\": \"white\", \"ticks\": \"\"}, \"bgcolor\": \"#E5ECF6\", \"caxis\": {\"gridcolor\": \"white\", \"linecolor\": \"white\", \"ticks\": \"\"}}, \"title\": {\"x\": 0.05}, \"xaxis\": {\"automargin\": true, \"gridcolor\": \"white\", \"linecolor\": \"white\", \"ticks\": \"\", \"title\": {\"standoff\": 15}, \"zerolinecolor\": \"white\", \"zerolinewidth\": 2}, \"yaxis\": {\"automargin\": true, \"gridcolor\": \"white\", \"linecolor\": \"white\", \"ticks\": \"\", \"title\": {\"standoff\": 15}, \"zerolinecolor\": \"white\", \"zerolinewidth\": 2}}}, \"xaxis\": {\"anchor\": \"y\", \"constrain\": \"domain\", \"domain\": [0.0, 1.0], \"scaleanchor\": \"y\"}, \"yaxis\": {\"anchor\": \"x\", \"autorange\": \"reversed\", \"constrain\": \"domain\", \"domain\": [0.0, 1.0]}},                        {\"responsive\": true}                    ).then(function(){\n                            \nvar gd = document.getElementById('5dde6621-3343-44b7-8fd0-99906aa1babc');\nvar x = new MutationObserver(function (mutations, observer) {{\n        var display = window.getComputedStyle(gd).display;\n        if (!display || display === 'none') {{\n            console.log([gd, 'removed!']);\n            Plotly.purge(gd);\n            observer.disconnect();\n        }}\n}});\n\n// Listen for the removal of the full notebook cells\nvar notebookContainer = gd.closest('#notebook-container');\nif (notebookContainer) {{\n    x.observe(notebookContainer, {childList: true});\n}}\n\n// Listen for the clearing of the current output cell\nvar outputEl = gd.closest('.output');\nif (outputEl) {{\n    x.observe(outputEl, {childList: true});\n}}\n\n                        })                };                            </script>        </div>\n</body>\n</html>"
     },
     "metadata": {},
     "output_type": "display_data"
    }
   ],
   "execution_count": 4
  },
  {
   "cell_type": "markdown",
   "source": "From the correlation matrix we can see that family members have correlation with age.",
   "metadata": {
    "tags": [],
    "cell_id": "00009-d0cea617-1ddd-43ae-a191-32076608efc4",
    "deepnote_cell_type": "markdown"
   }
  },
  {
   "cell_type": "code",
   "metadata": {
    "tags": [],
    "deepnote_to_be_reexecuted": false,
    "source_hash": "ab460855",
    "execution_millis": 6327,
    "execution_start": 1623822944082,
    "cell_id": "00010-3afe3511-d561-465f-be88-81000106d196",
    "deepnote_cell_type": "code"
   },
   "source": "plt.figure(figsize=[20,10])\nplt.ylim(0, 1.5)\nax1 = sns.barplot(\"age\", \"family_members\", data=x_train)\nax2 = ax1.set_xticklabels(ax1.get_xticklabels(),rotation=-90)",
   "outputs": [
    {
     "data": {
      "text/plain": "<Figure size 1440x720 with 1 Axes>",
      "image/png": "[encoded data removed]"
     },
     "metadata": {
      "needs_background": "light",
      "image/png": {
       "width": 1168,
       "height": 598
      }
     },
     "output_type": "display_data"
    }
   ],
   "execution_count": 5
  },
  {
   "cell_type": "markdown",
   "source": "As we can see, the relationship between these variables, we can replace nan's with average family members for people of this age, rather than replace it with a simple mean value from the whole dataset.",
   "metadata": {
    "tags": [],
    "cell_id": "00011-474e3a1c-14d2-4984-af98-a300286c57c6",
    "deepnote_cell_type": "markdown"
   }
  },
  {
   "cell_type": "code",
   "metadata": {
    "tags": [],
    "deepnote_to_be_reexecuted": false,
    "source_hash": "e9590018",
    "execution_millis": 8116,
    "execution_start": 1623822950446,
    "cell_id": "00012-51342e47-f892-4205-a5ae-b7b0251abddd",
    "deepnote_cell_type": "code"
   },
   "source": "for i in range(len(x_train.family_members)):\n    if np.isnan(x_train.family_members.iloc[i]):\n        x_train.family_members.loc[i] = np.mean(x_train.family_members[x_train.age == x_train.age.loc[i]])\nx_train.head()",
   "outputs": [
    {
     "output_type": "execute_result",
     "execution_count": 6,
     "data": {
      "application/vnd.deepnote.dataframe.v2+json": {
       "row_count": 5,
       "column_count": 11,
       "columns": [
        {
         "name": "credit_card_utilization",
         "dtype": "float64",
         "stats": {
          "unique_count": 5,
          "nan_count": 0,
          "min": "0.0",
          "max": "0.6795561007271846",
          "histogram": [
           {
            "bin_start": 0,
            "bin_end": 0.06795561007271847,
            "count": 2
           },
           {
            "bin_start": 0.06795561007271847,
            "bin_end": 0.13591122014543694,
            "count": 0
           },
           {
            "bin_start": 0.13591122014543694,
            "bin_end": 0.2038668302181554,
            "count": 1
           },
           {
            "bin_start": 0.2038668302181554,
            "bin_end": 0.2718224402908739,
            "count": 0
           },
           {
            "bin_start": 0.2718224402908739,
            "bin_end": 0.3397780503635923,
            "count": 0
           },
           {
            "bin_start": 0.3397780503635923,
            "bin_end": 0.4077336604363108,
            "count": 1
           },
           {
            "bin_start": 0.4077336604363108,
            "bin_end": 0.4756892705090293,
            "count": 0
           },
           {
            "bin_start": 0.4756892705090293,
            "bin_end": 0.5436448805817478,
            "count": 0
           },
           {
            "bin_start": 0.5436448805817478,
            "bin_end": 0.6116004906544662,
            "count": 0
           },
           {
            "bin_start": 0.6116004906544662,
            "bin_end": 0.6795561007271846,
            "count": 1
           }
          ]
         }
        },
        {
         "name": "age",
         "dtype": "int64",
         "stats": {
          "unique_count": 5,
          "nan_count": 0,
          "min": "45",
          "max": "75",
          "histogram": [
           {
            "bin_start": 45,
            "bin_end": 48,
            "count": 1
           },
           {
            "bin_start": 48,
            "bin_end": 51,
            "count": 1
           },
           {
            "bin_start": 51,
            "bin_end": 54,
            "count": 0
           },
           {
            "bin_start": 54,
            "bin_end": 57,
            "count": 1
           },
           {
            "bin_start": 57,
            "bin_end": 60,
            "count": 1
           },
           {
            "bin_start": 60,
            "bin_end": 63,
            "count": 0
           },
           {
            "bin_start": 63,
            "bin_end": 66,
            "count": 0
           },
           {
            "bin_start": 66,
            "bin_end": 69,
            "count": 0
           },
           {
            "bin_start": 69,
            "bin_end": 72,
            "count": 0
           },
           {
            "bin_start": 72,
            "bin_end": 75,
            "count": 1
           }
          ]
         }
        },
        {
         "name": "overdue_30_59_days",
         "dtype": "int64",
         "stats": {
          "unique_count": 2,
          "nan_count": 0,
          "min": "0",
          "max": "1",
          "histogram": [
           {
            "bin_start": 0,
            "bin_end": 0.1,
            "count": 3
           },
           {
            "bin_start": 0.1,
            "bin_end": 0.2,
            "count": 0
           },
           {
            "bin_start": 0.2,
            "bin_end": 0.30000000000000004,
            "count": 0
           },
           {
            "bin_start": 0.30000000000000004,
            "bin_end": 0.4,
            "count": 0
           },
           {
            "bin_start": 0.4,
            "bin_end": 0.5,
            "count": 0
           },
           {
            "bin_start": 0.5,
            "bin_end": 0.6000000000000001,
            "count": 0
           },
           {
            "bin_start": 0.6000000000000001,
            "bin_end": 0.7000000000000001,
            "count": 0
           },
           {
            "bin_start": 0.7000000000000001,
            "bin_end": 0.8,
            "count": 0
           },
           {
            "bin_start": 0.8,
            "bin_end": 0.9,
            "count": 0
           },
           {
            "bin_start": 0.9,
            "bin_end": 1,
            "count": 2
           }
          ]
         }
        },
        {
         "name": "debt_to_income",
         "dtype": "float64",
         "stats": {
          "unique_count": 5,
          "nan_count": 0,
          "min": "0.3903114342993517",
          "max": "2.405859550097795",
          "histogram": [
           {
            "bin_start": 0.3903114342993517,
            "bin_end": 0.591866245879196,
            "count": 3
           },
           {
            "bin_start": 0.591866245879196,
            "bin_end": 0.7934210574590403,
            "count": 0
           },
           {
            "bin_start": 0.7934210574590403,
            "bin_end": 0.9949758690388846,
            "count": 1
           },
           {
            "bin_start": 0.9949758690388846,
            "bin_end": 1.196530680618729,
            "count": 0
           },
           {
            "bin_start": 1.196530680618729,
            "bin_end": 1.3980854921985733,
            "count": 0
           },
           {
            "bin_start": 1.3980854921985733,
            "bin_end": 1.5996403037784175,
            "count": 0
           },
           {
            "bin_start": 1.5996403037784175,
            "bin_end": 1.801195115358262,
            "count": 0
           },
           {
            "bin_start": 1.801195115358262,
            "bin_end": 2.0027499269381064,
            "count": 0
           },
           {
            "bin_start": 2.0027499269381064,
            "bin_end": 2.2043047385179504,
            "count": 0
           },
           {
            "bin_start": 2.2043047385179504,
            "bin_end": 2.405859550097795,
            "count": 1
           }
          ]
         }
        },
        {
         "name": "monthly_income",
         "dtype": "float64",
         "stats": {
          "unique_count": 5,
          "nan_count": 0,
          "min": "356.5807647712664",
          "max": "24833.22761443788",
          "histogram": [
           {
            "bin_start": 356.5807647712664,
            "bin_end": 2804.2454497379276,
            "count": 1
           },
           {
            "bin_start": 2804.2454497379276,
            "bin_end": 5251.910134704589,
            "count": 1
           },
           {
            "bin_start": 5251.910134704589,
            "bin_end": 7699.57481967125,
            "count": 1
           },
           {
            "bin_start": 7699.57481967125,
            "bin_end": 10147.239504637912,
            "count": 0
           },
           {
            "bin_start": 10147.239504637912,
            "bin_end": 12594.904189604573,
            "count": 0
           },
           {
            "bin_start": 12594.904189604573,
            "bin_end": 15042.568874571234,
            "count": 0
           },
           {
            "bin_start": 15042.568874571234,
            "bin_end": 17490.233559537897,
            "count": 0
           },
           {
            "bin_start": 17490.233559537897,
            "bin_end": 19937.89824450456,
            "count": 0
           },
           {
            "bin_start": 19937.89824450456,
            "bin_end": 22385.56292947122,
            "count": 1
           },
           {
            "bin_start": 22385.56292947122,
            "bin_end": 24833.22761443788,
            "count": 1
           }
          ]
         }
        },
        {
         "name": "credits_loans",
         "dtype": "int64",
         "stats": {
          "unique_count": 4,
          "nan_count": 0,
          "min": "5",
          "max": "15",
          "histogram": [
           {
            "bin_start": 5,
            "bin_end": 6,
            "count": 1
           },
           {
            "bin_start": 6,
            "bin_end": 7,
            "count": 0
           },
           {
            "bin_start": 7,
            "bin_end": 8,
            "count": 0
           },
           {
            "bin_start": 8,
            "bin_end": 9,
            "count": 0
           },
           {
            "bin_start": 9,
            "bin_end": 10,
            "count": 2
           },
           {
            "bin_start": 10,
            "bin_end": 11,
            "count": 0
           },
           {
            "bin_start": 11,
            "bin_end": 12,
            "count": 0
           },
           {
            "bin_start": 12,
            "bin_end": 13,
            "count": 1
           },
           {
            "bin_start": 13,
            "bin_end": 14,
            "count": 0
           },
           {
            "bin_start": 14,
            "bin_end": 15,
            "count": 1
           }
          ]
         }
        },
        {
         "name": "overdue__more_than_90_days",
         "dtype": "int64",
         "stats": {
          "unique_count": 1,
          "nan_count": 0,
          "min": "0",
          "max": "0",
          "histogram": [
           {
            "bin_start": -0.5,
            "bin_end": -0.4,
            "count": 0
           },
           {
            "bin_start": -0.4,
            "bin_end": -0.3,
            "count": 0
           },
           {
            "bin_start": -0.3,
            "bin_end": -0.19999999999999996,
            "count": 0
           },
           {
            "bin_start": -0.19999999999999996,
            "bin_end": -0.09999999999999998,
            "count": 0
           },
           {
            "bin_start": -0.09999999999999998,
            "bin_end": 0,
            "count": 0
           },
           {
            "bin_start": 0,
            "bin_end": 0.10000000000000009,
            "count": 5
           },
           {
            "bin_start": 0.10000000000000009,
            "bin_end": 0.20000000000000007,
            "count": 0
           },
           {
            "bin_start": 0.20000000000000007,
            "bin_end": 0.30000000000000004,
            "count": 0
           },
           {
            "bin_start": 0.30000000000000004,
            "bin_end": 0.4,
            "count": 0
           },
           {
            "bin_start": 0.4,
            "bin_end": 0.5,
            "count": 0
           }
          ]
         }
        },
        {
         "name": "mortgage_loans",
         "dtype": "int64",
         "stats": {
          "unique_count": 4,
          "nan_count": 0,
          "min": "0",
          "max": "4",
          "histogram": [
           {
            "bin_start": 0,
            "bin_end": 0.4,
            "count": 1
           },
           {
            "bin_start": 0.4,
            "bin_end": 0.8,
            "count": 0
           },
           {
            "bin_start": 0.8,
            "bin_end": 1.2000000000000002,
            "count": 2
           },
           {
            "bin_start": 1.2000000000000002,
            "bin_end": 1.6,
            "count": 0
           },
           {
            "bin_start": 1.6,
            "bin_end": 2,
            "count": 0
           },
           {
            "bin_start": 2,
            "bin_end": 2.4000000000000004,
            "count": 0
           },
           {
            "bin_start": 2.4000000000000004,
            "bin_end": 2.8000000000000003,
            "count": 0
           },
           {
            "bin_start": 2.8000000000000003,
            "bin_end": 3.2,
            "count": 1
           },
           {
            "bin_start": 3.2,
            "bin_end": 3.6,
            "count": 0
           },
           {
            "bin_start": 3.6,
            "bin_end": 4,
            "count": 1
           }
          ]
         }
        },
        {
         "name": "overdue_60_89_days",
         "dtype": "int64",
         "stats": {
          "unique_count": 1,
          "nan_count": 0,
          "min": "0",
          "max": "0",
          "histogram": [
           {
            "bin_start": -0.5,
            "bin_end": -0.4,
            "count": 0
           },
           {
            "bin_start": -0.4,
            "bin_end": -0.3,
            "count": 0
           },
           {
            "bin_start": -0.3,
            "bin_end": -0.19999999999999996,
            "count": 0
           },
           {
            "bin_start": -0.19999999999999996,
            "bin_end": -0.09999999999999998,
            "count": 0
           },
           {
            "bin_start": -0.09999999999999998,
            "bin_end": 0,
            "count": 0
           },
           {
            "bin_start": 0,
            "bin_end": 0.10000000000000009,
            "count": 5
           },
           {
            "bin_start": 0.10000000000000009,
            "bin_end": 0.20000000000000007,
            "count": 0
           },
           {
            "bin_start": 0.20000000000000007,
            "bin_end": 0.30000000000000004,
            "count": 0
           },
           {
            "bin_start": 0.30000000000000004,
            "bin_end": 0.4,
            "count": 0
           },
           {
            "bin_start": 0.4,
            "bin_end": 0.5,
            "count": 0
           }
          ]
         }
        },
        {
         "name": "family_members",
         "dtype": "float64",
         "stats": {
          "unique_count": 4,
          "nan_count": 0,
          "min": "0.0",
          "max": "5.0",
          "histogram": [
           {
            "bin_start": 0,
            "bin_end": 0.5,
            "count": 2
           },
           {
            "bin_start": 0.5,
            "bin_end": 1,
            "count": 0
           },
           {
            "bin_start": 1,
            "bin_end": 1.5,
            "count": 0
           },
           {
            "bin_start": 1.5,
            "bin_end": 2,
            "count": 0
           },
           {
            "bin_start": 2,
            "bin_end": 2.5,
            "count": 1
           },
           {
            "bin_start": 2.5,
            "bin_end": 3,
            "count": 0
           },
           {
            "bin_start": 3,
            "bin_end": 3.5,
            "count": 1
           },
           {
            "bin_start": 3.5,
            "bin_end": 4,
            "count": 0
           },
           {
            "bin_start": 4,
            "bin_end": 4.5,
            "count": 0
           },
           {
            "bin_start": 4.5,
            "bin_end": 5,
            "count": 1
           }
          ]
         }
        },
        {
         "name": "y",
         "dtype": "int64",
         "stats": {
          "unique_count": 1,
          "nan_count": 0,
          "min": "0",
          "max": "0",
          "histogram": [
           {
            "bin_start": -0.5,
            "bin_end": -0.4,
            "count": 0
           },
           {
            "bin_start": -0.4,
            "bin_end": -0.3,
            "count": 0
           },
           {
            "bin_start": -0.3,
            "bin_end": -0.19999999999999996,
            "count": 0
           },
           {
            "bin_start": -0.19999999999999996,
            "bin_end": -0.09999999999999998,
            "count": 0
           },
           {
            "bin_start": -0.09999999999999998,
            "bin_end": 0,
            "count": 0
           },
           {
            "bin_start": 0,
            "bin_end": 0.10000000000000009,
            "count": 5
           },
           {
            "bin_start": 0.10000000000000009,
            "bin_end": 0.20000000000000007,
            "count": 0
           },
           {
            "bin_start": 0.20000000000000007,
            "bin_end": 0.30000000000000004,
            "count": 0
           },
           {
            "bin_start": 0.30000000000000004,
            "bin_end": 0.4,
            "count": 0
           },
           {
            "bin_start": 0.4,
            "bin_end": 0.5,
            "count": 0
           }
          ]
         }
        },
        {
         "name": "_deepnote_index_column",
         "dtype": "int64"
        }
       ],
       "rows_top": [
        {
         "credit_card_utilization": 0,
         "age": 56,
         "overdue_30_59_days": 0,
         "debt_to_income": 0.504328449876763,
         "monthly_income": 6823.894458066215,
         "credits_loans": 9,
         "overdue__more_than_90_days": 0,
         "mortgage_loans": 1,
         "overdue_60_89_days": 0,
         "family_members": 5,
         "y": 0,
         "_deepnote_index_column": 0
        },
        {
         "credit_card_utilization": 0.1706587328468239,
         "age": 45,
         "overdue_30_59_days": 1,
         "debt_to_income": 2.405859550097795,
         "monthly_income": 356.5807647712664,
         "credits_loans": 5,
         "overdue__more_than_90_days": 0,
         "mortgage_loans": 0,
         "overdue_60_89_days": 0,
         "family_members": 0,
         "y": 0,
         "_deepnote_index_column": 1
        },
        {
         "credit_card_utilization": 0.3421756523323267,
         "age": 75,
         "overdue_30_59_days": 1,
         "debt_to_income": 0.4450658849281116,
         "monthly_income": 20349.89582534628,
         "credits_loans": 9,
         "overdue__more_than_90_days": 0,
         "mortgage_loans": 3,
         "overdue_60_89_days": 0,
         "family_members": 0,
         "y": 0,
         "_deepnote_index_column": 2
        },
        {
         "credit_card_utilization": 0.046219051518278,
         "age": 50,
         "overdue_30_59_days": 0,
         "debt_to_income": 0.8145083088164543,
         "monthly_income": 2894.3689678793653,
         "credits_loans": 12,
         "overdue__more_than_90_days": 0,
         "mortgage_loans": 1,
         "overdue_60_89_days": 0,
         "family_members": 3,
         "y": 0,
         "_deepnote_index_column": 3
        },
        {
         "credit_card_utilization": 0.6795561007271846,
         "age": 58,
         "overdue_30_59_days": 0,
         "debt_to_income": 0.3903114342993517,
         "monthly_income": 24833.22761443788,
         "credits_loans": 15,
         "overdue__more_than_90_days": 0,
         "mortgage_loans": 4,
         "overdue_60_89_days": 0,
         "family_members": 2,
         "y": 0,
         "_deepnote_index_column": 4
        }
       ],
       "rows_bottom": null
      },
      "text/plain": "   credit_card_utilization  age  overdue_30_59_days  debt_to_income  \\\n0                 0.000000   56                   0        0.504328   \n1                 0.170659   45                   1        2.405860   \n2                 0.342176   75                   1        0.445066   \n3                 0.046219   50                   0        0.814508   \n4                 0.679556   58                   0        0.390311   \n\n   monthly_income  credits_loans  overdue__more_than_90_days  mortgage_loans  \\\n0     6823.894458              9                           0               1   \n1      356.580765              5                           0               0   \n2    20349.895825              9                           0               3   \n3     2894.368968             12                           0               1   \n4    24833.227614             15                           0               4   \n\n   overdue_60_89_days  family_members  y  \n0                   0             5.0  0  \n1                   0             0.0  0  \n2                   0             0.0  0  \n3                   0             3.0  0  \n4                   0             2.0  0  ",
      "text/html": "<div>\n<style scoped>\n    .dataframe tbody tr th:only-of-type {\n        vertical-align: middle;\n    }\n\n    .dataframe tbody tr th {\n        vertical-align: top;\n    }\n\n    .dataframe thead th {\n        text-align: right;\n    }\n</style>\n<table border=\"1\" class=\"dataframe\">\n  <thead>\n    <tr style=\"text-align: right;\">\n      <th></th>\n      <th>credit_card_utilization</th>\n      <th>age</th>\n      <th>overdue_30_59_days</th>\n      <th>debt_to_income</th>\n      <th>monthly_income</th>\n      <th>credits_loans</th>\n      <th>overdue__more_than_90_days</th>\n      <th>mortgage_loans</th>\n      <th>overdue_60_89_days</th>\n      <th>family_members</th>\n      <th>y</th>\n    </tr>\n  </thead>\n  <tbody>\n    <tr>\n      <th>0</th>\n      <td>0.000000</td>\n      <td>56</td>\n      <td>0</td>\n      <td>0.504328</td>\n      <td>6823.894458</td>\n      <td>9</td>\n      <td>0</td>\n      <td>1</td>\n      <td>0</td>\n      <td>5.0</td>\n      <td>0</td>\n    </tr>\n    <tr>\n      <th>1</th>\n      <td>0.170659</td>\n      <td>45</td>\n      <td>1</td>\n      <td>2.405860</td>\n      <td>356.580765</td>\n      <td>5</td>\n      <td>0</td>\n      <td>0</td>\n      <td>0</td>\n      <td>0.0</td>\n      <td>0</td>\n    </tr>\n    <tr>\n      <th>2</th>\n      <td>0.342176</td>\n      <td>75</td>\n      <td>1</td>\n      <td>0.445066</td>\n      <td>20349.895825</td>\n      <td>9</td>\n      <td>0</td>\n      <td>3</td>\n      <td>0</td>\n      <td>0.0</td>\n      <td>0</td>\n    </tr>\n    <tr>\n      <th>3</th>\n      <td>0.046219</td>\n      <td>50</td>\n      <td>0</td>\n      <td>0.814508</td>\n      <td>2894.368968</td>\n      <td>12</td>\n      <td>0</td>\n      <td>1</td>\n      <td>0</td>\n      <td>3.0</td>\n      <td>0</td>\n    </tr>\n    <tr>\n      <th>4</th>\n      <td>0.679556</td>\n      <td>58</td>\n      <td>0</td>\n      <td>0.390311</td>\n      <td>24833.227614</td>\n      <td>15</td>\n      <td>0</td>\n      <td>4</td>\n      <td>0</td>\n      <td>2.0</td>\n      <td>0</td>\n    </tr>\n  </tbody>\n</table>\n</div>"
     },
     "metadata": {}
    }
   ],
   "execution_count": 6
  },
  {
   "cell_type": "markdown",
   "source": "Also, from the correlation matrix, we can see that monthly income correlates with mortgage loans and credit loans, so we can make a regression that will predict monthly income in missing points. ",
   "metadata": {
    "tags": [],
    "cell_id": "00013-2e9ddaa2-2609-4e5e-88c1-8e59e45d1cbd",
    "deepnote_cell_type": "markdown"
   }
  },
  {
   "cell_type": "code",
   "metadata": {
    "tags": [],
    "deepnote_to_be_reexecuted": false,
    "source_hash": "dacf484e",
    "execution_millis": 17893,
    "execution_start": 1623822958568,
    "cell_id": "00014-1873520e-4854-4a3b-ad00-aeaf28ad8359",
    "deepnote_cell_type": "code"
   },
   "source": "to_dro = ['credit_card_utilization', 'age', 'overdue_30_59_days', 'debt_to_income', 'monthly_income', 'overdue__more_than_90_days', 'family_members', 'overdue_60_89_days', 'y']\nX = x_train.dropna().drop(columns=to_dro)\ny = x_train.dropna()['monthly_income']\nreg = sm.OLS(y, sm.add_constant(X)).fit()\nx_train_cp = x_train[x_train.monthly_income.isna()]\npred = reg.predict(sm.add_constant(x_train_cp.drop(columns=to_dro)))\nj = 0\nfor i in range(len(x_train.monthly_income)):\n    if np.isnan(x_train.monthly_income.iloc[i]):\n        x_train.monthly_income.loc[i] = pred.iloc[j]\n        j+=1",
   "outputs": [],
   "execution_count": 7
  },
  {
   "cell_type": "markdown",
   "source": "Again using the correlation matrix we can see a high correlation between three overdue columns. To avoid multicollinearity we can sum all these columns with coefficients 1,2,3 (more days of overdue - larger coefficient).\n\nAlso, we can deal with family members. This variable seems to be useless on its own, but we can try to divide monthly income by it. \n\nFurther, we can deal with debt/income. As we already have a monthly income in the columns, then to avoid multicollinearity we can multiply monthly income by debt/income to have net debt in columns. ",
   "metadata": {
    "tags": [],
    "cell_id": "00015-5ee7b4f1-4556-43b9-8059-04ea9bdbea64",
    "deepnote_cell_type": "markdown"
   }
  },
  {
   "cell_type": "code",
   "metadata": {
    "tags": [],
    "output_cleared": false,
    "source_hash": "7df04d8c",
    "execution_millis": 0,
    "deepnote_to_be_reexecuted": false,
    "execution_start": 1623822976503,
    "cell_id": "00016-acbe7f35-31f5-4e47-83a5-26c8486c3cd1",
    "deepnote_cell_type": "code"
   },
   "source": "if 'debt' not in x_train.columns:\n    x_train['debt'] = x_train.debt_to_income * x_train.monthly_income\n    x_train.drop(columns=['debt_to_income'], inplace=True)\n\nif 'overdue_30_59_days' in x_train.columns:\n    x_train['overdue'] = 0\n    x_train['overdue'] += x_train['overdue_30_59_days']\n    x_train['overdue'] += x_train['overdue_60_89_days']*2\n    x_train['overdue'] += x_train['overdue__more_than_90_days']*3\n\nif 'overdue_30_59_days' in x_train.columns:\n    x_train.drop(columns=['overdue_30_59_days', 'overdue_60_89_days', 'overdue__more_than_90_days'], inplace=True)\n\nif 'family_members' in x_train.columns:\n    x_train['monthly_income'] = x_train['monthly_income']/(x_train['family_members']+1)\n    x_train.drop(columns=['family_members'], inplace=True)",
   "outputs": [],
   "execution_count": 8
  },
  {
   "cell_type": "code",
   "metadata": {
    "tags": [],
    "cell_id": "00017-a1a1752a-4063-4b7e-8d1f-839119a8d97b",
    "deepnote_to_be_reexecuted": false,
    "source_hash": "e2eb02d4",
    "execution_start": 1623822976504,
    "execution_millis": 700,
    "deepnote_cell_type": "code"
   },
   "source": "x_train.to_csv('train.csv', index=False)",
   "outputs": [],
   "execution_count": 9
  },
  {
   "cell_type": "markdown",
   "source": "<a style='text-decoration:none;line-height:16px;display:flex;color:#5B5B62;padding:10px;justify-content:end;' href='https://deepnote.com?utm_source=created-in-deepnote-cell&projectId=0365b271-6605-4524-ad1f-e00dd9a323c1' target=\"_blank\">\n<img alt='Created in deepnote.com' style='display:inline;max-height:16px;margin:0px;margin-right:7.5px;' src='data:image/svg+xml;base64,PD94bWwgdmVyc2lvbj0iMS4wIiBlbmNvZGluZz0iVVRGLTgiPz4KPHN2ZyB3aWR0aD0iODBweCIgaGVpZ2h0PSI4MHB4IiB2aWV3Qm94PSIwIDAgODAgODAiIHZlcnNpb249IjEuMSIgeG1sbnM9Imh0dHA6Ly93d3cudzMub3JnLzIwMDAvc3ZnIiB4bWxuczp4bGluaz0iaHR0cDovL3d3dy53My5vcmcvMTk5OS94bGluayI+CiAgICA8IS0tIEdlbmVyYXRvcjogU2tldGNoIDU0LjEgKDc2NDkwKSAtIGh0dHBzOi8vc2tldGNoYXBwLmNvbSAtLT4KICAgIDx0aXRsZT5Hcm91cCAzPC90aXRsZT4KICAgIDxkZXNjPkNyZWF0ZWQgd2l0aCBTa2V0Y2guPC9kZXNjPgogICAgPGcgaWQ9IkxhbmRpbmciIHN0cm9rZT0ibm9uZSIgc3Ryb2tlLXdpZHRoPSIxIiBmaWxsPSJub25lIiBmaWxsLXJ1bGU9ImV2ZW5vZGQiPgogICAgICAgIDxnIGlkPSJBcnRib2FyZCIgdHJhbnNmb3JtPSJ0cmFuc2xhdGUoLTEyMzUuMDAwMDAwLCAtNzkuMDAwMDAwKSI+CiAgICAgICAgICAgIDxnIGlkPSJHcm91cC0zIiB0cmFuc2Zvcm09InRyYW5zbGF0ZSgxMjM1LjAwMDAwMCwgNzkuMDAwMDAwKSI+CiAgICAgICAgICAgICAgICA8cG9seWdvbiBpZD0iUGF0aC0yMCIgZmlsbD0iIzAyNjVCNCIgcG9pbnRzPSIyLjM3NjIzNzYyIDgwIDM4LjA0NzY2NjcgODAgNTcuODIxNzgyMiA3My44MDU3NTkyIDU3LjgyMTc4MjIgMzIuNzU5MjczOSAzOS4xNDAyMjc4IDMxLjY4MzE2ODMiPjwvcG9seWdvbj4KICAgICAgICAgICAgICAgIDxwYXRoIGQ9Ik0zNS4wMDc3MTgsODAgQzQyLjkwNjIwMDcsNzYuNDU0OTM1OCA0Ny41NjQ5MTY3LDcxLjU0MjI2NzEgNDguOTgzODY2LDY1LjI2MTk5MzkgQzUxLjExMjI4OTksNTUuODQxNTg0MiA0MS42NzcxNzk1LDQ5LjIxMjIyODQgMjUuNjIzOTg0Niw0OS4yMTIyMjg0IEMyNS40ODQ5Mjg5LDQ5LjEyNjg0NDggMjkuODI2MTI5Niw0My4yODM4MjQ4IDM4LjY0NzU4NjksMzEuNjgzMTY4MyBMNzIuODcxMjg3MSwzMi41NTQ0MjUgTDY1LjI4MDk3Myw2Ny42NzYzNDIxIEw1MS4xMTIyODk5LDc3LjM3NjE0NCBMMzUuMDA3NzE4LDgwIFoiIGlkPSJQYXRoLTIyIiBmaWxsPSIjMDAyODY4Ij48L3BhdGg+CiAgICAgICAgICAgICAgICA8cGF0aCBkPSJNMCwzNy43MzA0NDA1IEwyNy4xMTQ1MzcsMC4yNTcxMTE0MzYgQzYyLjM3MTUxMjMsLTEuOTkwNzE3MDEgODAsMTAuNTAwMzkyNyA4MCwzNy43MzA0NDA1IEM4MCw2NC45NjA0ODgyIDY0Ljc3NjUwMzgsNzkuMDUwMzQxNCAzNC4zMjk1MTEzLDgwIEM0Ny4wNTUzNDg5LDc3LjU2NzA4MDggNTMuNDE4MjY3Nyw3MC4zMTM2MTAzIDUzLjQxODI2NzcsNTguMjM5NTg4NSBDNTMuNDE4MjY3Nyw0MC4xMjg1NTU3IDM2LjMwMzk1NDQsMzcuNzMwNDQwNSAyNS4yMjc0MTcsMzcuNzMwNDQwNSBDMTcuODQzMDU4NiwzNy43MzA0NDA1IDkuNDMzOTE5NjYsMzcuNzMwNDQwNSAwLDM3LjczMDQ0MDUgWiIgaWQ9IlBhdGgtMTkiIGZpbGw9IiMzNzkzRUYiPjwvcGF0aD4KICAgICAgICAgICAgPC9nPgogICAgICAgIDwvZz4KICAgIDwvZz4KPC9zdmc+' > </img>\nCreated in <span style='font-weight:600;margin-left:4px;'>Deepnote</span></a>",
   "metadata": {
    "tags": [],
    "created_in_deepnote_cell": true,
    "deepnote_cell_type": "markdown"
   }
  }
 ],
 "nbformat": 4,
 "nbformat_minor": 2,
 "metadata": {
  "orig_nbformat": 2,
  "deepnote_notebook_id": "611ac07e-8e2a-4347-ab18-ee9765fc1d6c",
  "deepnote_execution_queue": [],
  "deepnote": {}
 }
}