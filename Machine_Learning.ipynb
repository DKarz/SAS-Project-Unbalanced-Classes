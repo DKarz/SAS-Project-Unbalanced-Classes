{
 "cells": [
  {
   "cell_type": "markdown",
   "source": "# IMPORTS",
   "metadata": {
    "tags": [],
    "cell_id": "00000-47edde5c-237a-447a-8d55-54a83ad27fbf",
    "deepnote_cell_type": "markdown"
   }
  },
  {
   "cell_type": "code",
   "metadata": {
    "tags": [],
    "output_cleared": false,
    "source_hash": "4327575b",
    "execution_millis": 5413,
    "deepnote_to_be_reexecuted": false,
    "execution_start": 1623822986577,
    "is_code_hidden": false,
    "cell_id": "00001-29edecb2-cc87-4b49-abff-d8da2a78c853",
    "deepnote_cell_type": "code"
   },
   "source": "import pandas as pd\nimport os\nos.system('pip install catboost lightgbm pip install statsmodels pip install xgboost pip install imblearn')\nimport time\nfrom sklearn.ensemble import RandomForestClassifier, GradientBoostingClassifier\nfrom sklearn.model_selection import train_test_split as tts\nfrom imblearn.ensemble import BalancedBaggingClassifier  \nimport seaborn as sns\nimport matplotlib.pyplot as plt\nimport warnings\nfrom catboost import CatBoostClassifier\nfrom lightgbm import LGBMClassifier\nimport statsmodels.api as sm\nfrom xgboost import XGBClassifier\nfrom sklearn import metrics\nimport numpy as np\nimport matplotlib.pyplot as plt\nimport plotly.express as px\nfrom imblearn.under_sampling import RandomUnderSampler\nfrom imblearn.under_sampling import NeighbourhoodCleaningRule\nfrom imblearn.under_sampling import TomekLinks\nfrom imblearn.under_sampling import InstanceHardnessThreshold\nfrom imblearn.over_sampling import RandomOverSampler\nfrom imblearn.over_sampling import SMOTE\nfrom imblearn.over_sampling import ADASYN\nfrom imblearn.ensemble import BalancedRandomForestClassifier \nfrom imblearn.ensemble import EasyEnsembleClassifier  \nfrom imblearn.ensemble import RUSBoostClassifier \nfrom sklearn.metrics import precision_recall_curve\nfrom imblearn.under_sampling import RandomUnderSampler\nfrom sklearn.ensemble import StackingClassifier\nfrom sklearn.linear_model import LogisticRegression\nfrom imblearn.combine import SMOTETomek \nwarnings.filterwarnings(\"ignore\")",
   "outputs": [],
   "execution_count": 1
  },
  {
   "cell_type": "code",
   "metadata": {
    "tags": [],
    "cell_id": "00002-12e6752b-831e-42bd-9fbd-91ad08668a15",
    "deepnote_to_be_reexecuted": false,
    "source_hash": "336a6e84",
    "execution_start": 1623822992000,
    "execution_millis": 103,
    "deepnote_cell_type": "code"
   },
   "source": "x_train = pd.read_csv('train.csv')",
   "outputs": [],
   "execution_count": 2
  },
  {
   "cell_type": "markdown",
   "source": "# Machine learning",
   "metadata": {
    "tags": [],
    "cell_id": "00019-92287e10-a9d3-40b8-a2ab-b8243cd0c001",
    "deepnote_cell_type": "markdown"
   }
  },
  {
   "cell_type": "code",
   "metadata": {
    "tags": [],
    "cell_id": "00004-5ad77ebd-b636-4f0e-88bb-7a2ff2309831",
    "deepnote_to_be_reexecuted": false,
    "source_hash": "382cf8c9",
    "execution_start": 1623822992113,
    "execution_millis": 23,
    "deepnote_cell_type": "code"
   },
   "source": "x_train = x_train.dropna()\nx, x_test, y, y_test = tts(x_train.drop(columns = 'y'), x_train.y, test_size=0.33, random_state=1)",
   "outputs": [],
   "execution_count": 3
  },
  {
   "cell_type": "markdown",
   "source": "For us, the most important thing is to minimize the number of real defaults that were classified as non-default, that is, after the selection of clients by the model, the bank would receive as few clients who would not be able to repay the loan, as possible. However, it is also important that the number of issued loans does not decrease significantly after the model has been run. That is why we will use two metrics to assess the model's performance: FOR (False Omission Rate) will show how many clients, of which the model offered to issue a loan, will be defaulters and FPR (False Positive Rate) will show how many of all non-defaulters were denied a loan by the model. By minimizing both metrics we will achieve the best model. ",
   "metadata": {
    "tags": [],
    "cell_id": "00006-1298c085-6498-4d80-96ba-1257bab6474c",
    "deepnote_cell_type": "markdown"
   }
  },
  {
   "cell_type": "code",
   "metadata": {
    "tags": [],
    "cell_id": "00005-74c50bf0-8f3e-45dc-996f-ef0fc473b69b",
    "deepnote_to_be_reexecuted": false,
    "source_hash": "4d5eeac5",
    "execution_start": 1623822992148,
    "execution_millis": 1,
    "deepnote_cell_type": "code"
   },
   "source": "def FOR(model):\n    cm = metrics.confusion_matrix(y_test, model.predict(x_test))\n    result = cm[1][0]/(cm[1][0]+cm[0][0])\n    return result\ndef FPR(model):\n    cm = metrics.confusion_matrix(y_test, model.predict(x_test))\n    result = cm[0][1]/(cm[0][1]+cm[0][0])\n    return result",
   "outputs": [],
   "execution_count": 4
  },
  {
   "cell_type": "code",
   "metadata": {
    "tags": [],
    "deepnote_to_be_reexecuted": false,
    "source_hash": "451fd514",
    "execution_start": 1623822992157,
    "execution_millis": 22047,
    "cell_id": "00020-1799419e-a4de-40aa-b1d5-17237ddb6322",
    "deepnote_cell_type": "code"
   },
   "source": "rf = RandomForestClassifier(max_depth=5, random_state=0,max_features= 3,n_estimators = 300).fit(x,y)\nprint(\"Random forest percentage of defaulters accepted:\", FOR(rf))\nprint(\"Random forest percentage of non-defaulters denied:\",FPR(rf))",
   "outputs": [
    {
     "name": "stdout",
     "text": "Random forest percentage of defaulters accepted: 0.06398406114250253\nRandom forest percentage of non-defaulters denied: 0.004930555555555555\n",
     "output_type": "stream"
    }
   ],
   "execution_count": 5
  },
  {
   "cell_type": "markdown",
   "source": "We can see that in the default setting there is a very low percentage of non-defaulters denied, but there is also no significant decrease in the percentage of defaulters accepted. It means that model is not quite good in terms of optimization of loan issuance. This happens because the target variable is unbalanced. Due to the fact that there are very few defaulters, therefore, the model offers to issue loans to almost everyone, which does not give us the opportunity to significantly improve our profitability. Therefore, we will work with an imbalance in the target.",
   "metadata": {
    "tags": [],
    "cell_id": "00021-407dc7b0-0132-486f-aa06-bba5d52e3e04",
    "deepnote_cell_type": "markdown"
   }
  },
  {
   "cell_type": "markdown",
   "source": "## Dealing with imbalanced target",
   "metadata": {
    "tags": [],
    "cell_id": "00022-7a66df51-86d4-4527-aa56-27400ebe4239",
    "deepnote_cell_type": "text-cell-h2"
   }
  },
  {
   "cell_type": "markdown",
   "source": "There are a few methods to deal with imbalanced target. We will try some under and over-sampling techniques as well as special models that rebalance the target while fitting. Also, we will try simply to increase the treshold, oftentimes it is sufficient to have really good results. ",
   "metadata": {
    "tags": [],
    "cell_id": "00023-c432554e-c525-45e9-81c8-b71987ef039c",
    "deepnote_cell_type": "markdown"
   }
  },
  {
   "cell_type": "markdown",
   "source": "### Undersampling",
   "metadata": {
    "tags": [],
    "cell_id": "00024-d6c2b3ce-6481-42a0-b54c-e7b317a50691",
    "deepnote_cell_type": "text-cell-h3"
   }
  },
  {
   "cell_type": "markdown",
   "source": "**Undersampling is a group of techniques that consists of reducing the data by eliminating examples belonging to the majority class with the objective of equalizing the number of examples of each class.**",
   "metadata": {
    "tags": [],
    "cell_id": "00025-55f50e2f-378f-41fd-8a11-d3245ed4e00c",
    "deepnote_cell_type": "markdown"
   }
  },
  {
   "cell_type": "markdown",
   "source": "**Random undersampling**",
   "metadata": {
    "tags": [],
    "cell_id": "00026-4b18b0fc-02a1-4ac7-8d80-eb23b8a1bcf9",
    "deepnote_cell_type": "markdown"
   }
  },
  {
   "cell_type": "code",
   "metadata": {
    "tags": [],
    "deepnote_to_be_reexecuted": false,
    "source_hash": "b69d224b",
    "execution_start": 1623823014207,
    "execution_millis": 4555,
    "cell_id": "00027-41b3781b-f350-439c-b32b-62f254117188",
    "deepnote_cell_type": "code"
   },
   "source": "rus = RandomUnderSampler(random_state = 1)\nX_res, y_res = rus.fit_resample(x, y)\nrf_rus = RandomForestClassifier(max_depth=5, random_state=0,max_features= 3,n_estimators = 300).fit(X_res,y_res)\nprint(\"Undersampled random forest percentage of defaulters accepted:\", FOR(rf_rus))\nprint(\"Undersampled random forest percentage of non-defaulters denied:\",FPR(rf_rus))",
   "outputs": [
    {
     "name": "stdout",
     "text": "Undersampled random forest percentage of defaulters accepted: 0.021671413314346744\nUndersampled random forest percentage of non-defaulters denied: 0.23663194444444444\n",
     "output_type": "stream"
    }
   ],
   "execution_count": 6
  },
  {
   "cell_type": "markdown",
   "source": "**Neighbourhood Cleaning Rule**",
   "metadata": {
    "tags": [],
    "cell_id": "00028-6019d49d-e9e0-4efd-a1a6-67cea26a4be8",
    "deepnote_cell_type": "markdown"
   }
  },
  {
   "cell_type": "code",
   "metadata": {
    "tags": [],
    "deepnote_to_be_reexecuted": false,
    "source_hash": "9f2a016d",
    "execution_start": 1623823018767,
    "execution_millis": 22726,
    "cell_id": "00029-902b91b6-cc1a-488e-ad5c-43157a7099a7",
    "deepnote_cell_type": "code"
   },
   "source": "ncr = NeighbourhoodCleaningRule()\nX_res, y_res = ncr.fit_resample(x, y)\nrf_ncr = RandomForestClassifier(max_depth=5, random_state=0,max_features= 3,n_estimators = 300).fit(X_res,y_res)\nprint(\"Undersampled random forest percentage of defaulters accepted:\", FOR(rf_ncr))\nprint(\"Undersampled random forest percentage of non-defaulters denied:\",FPR(rf_ncr))",
   "outputs": [
    {
     "name": "stdout",
     "text": "Undersampled random forest percentage of defaulters accepted: 0.059992760061868565\nUndersampled random forest percentage of non-defaulters denied: 0.008194444444444445\n",
     "output_type": "stream"
    }
   ],
   "execution_count": 7
  },
  {
   "cell_type": "markdown",
   "source": "**Tomek links**",
   "metadata": {
    "tags": [],
    "cell_id": "00030-fe36c488-9b8f-41a8-a23d-1e3aa61b211f",
    "deepnote_cell_type": "markdown"
   }
  },
  {
   "cell_type": "code",
   "metadata": {
    "tags": [],
    "deepnote_to_be_reexecuted": false,
    "source_hash": "23766422",
    "execution_start": 1623823041497,
    "execution_millis": 22414,
    "cell_id": "00031-8adad757-07b1-48bb-8628-373f09523e3d",
    "deepnote_cell_type": "code"
   },
   "source": "tl = TomekLinks()\nX_res, y_res = tl.fit_resample(x, y)\nrf_tl = RandomForestClassifier(max_depth=5, random_state=0,max_features= 3,n_estimators = 300).fit(X_res,y_res)\nprint(\"Undersampled random forest percentage of defaulters accepted:\", FOR(rf_tl))\nprint(\"Undersampled random forest percentage of non-defaulters denied:\",FPR(rf_tl))",
   "outputs": [
    {
     "name": "stdout",
     "text": "Undersampled random forest percentage of defaulters accepted: 0.06271275202932705\nUndersampled random forest percentage of non-defaulters denied: 0.005694444444444445\n",
     "output_type": "stream"
    }
   ],
   "execution_count": 8
  },
  {
   "cell_type": "markdown",
   "source": "**Instance Hardness Threshold**",
   "metadata": {
    "tags": [],
    "cell_id": "00032-a603d8e4-bedc-4c6c-b8da-37a2bb7a9e45",
    "deepnote_cell_type": "markdown"
   }
  },
  {
   "cell_type": "code",
   "metadata": {
    "tags": [],
    "deepnote_to_be_reexecuted": false,
    "source_hash": "7c87643c",
    "execution_start": 1623823063918,
    "execution_millis": 61472,
    "cell_id": "00033-07d92fd8-9d36-4669-91c1-99e6ee28eaf6",
    "deepnote_cell_type": "code"
   },
   "source": "iht = InstanceHardnessThreshold(random_state=1)\nX_res, y_res = iht.fit_resample(x, y)\nrf_iht = RandomForestClassifier(max_depth=5, random_state=0,max_features= 3,n_estimators = 300).fit(X_res,y_res)\nprint(\"Undersampled random forest percentage of defaulters accepted:\", FOR(rf_iht))\nprint(\"Undersampled random forest percentage of non-defaulters denied:\",FPR(rf_iht))",
   "outputs": [
    {
     "name": "stdout",
     "text": "Undersampled random forest percentage of defaulters accepted: 0.019256963036024612\nUndersampled random forest percentage of non-defaulters denied: 0.2749652777777778\n",
     "output_type": "stream"
    }
   ],
   "execution_count": 9
  },
  {
   "cell_type": "markdown",
   "source": "As we can see, Tomek Links and Neighbourhood Cleaning Rule do not improve the situation significantly, while Random Undersampling and Instance Hardness Threshold do a pretty good job, so they could be considered further. ",
   "metadata": {
    "tags": [],
    "cell_id": "00034-456f426a-b7d8-4dab-a487-47412b58d6b5",
    "deepnote_cell_type": "markdown"
   }
  },
  {
   "cell_type": "markdown",
   "source": "### Oversampling",
   "metadata": {
    "tags": [],
    "cell_id": "00035-0870cbfb-0455-46ad-b0da-7699935d48c0",
    "deepnote_cell_type": "text-cell-h3"
   }
  },
  {
   "cell_type": "markdown",
   "source": "**Oversampling is the set of techniques that are based on duplicating examples from the minority class and adding them to the training dataset.**",
   "metadata": {
    "tags": [],
    "cell_id": "00036-d7241284-1ea7-45d1-9ed2-d5275baddc58",
    "deepnote_cell_type": "markdown"
   }
  },
  {
   "cell_type": "markdown",
   "source": "**Random oversampler**",
   "metadata": {
    "tags": [],
    "cell_id": "00037-a9d6f243-0ff2-460a-b80b-e6cedd68ef8f",
    "deepnote_cell_type": "markdown"
   }
  },
  {
   "cell_type": "code",
   "metadata": {
    "tags": [],
    "deepnote_to_be_reexecuted": false,
    "source_hash": "db08b7d5",
    "execution_start": 1623823125397,
    "execution_millis": 37003,
    "cell_id": "00038-bd248959-ef2d-4848-a2f8-1e9bc4e6a22e",
    "deepnote_cell_type": "code"
   },
   "source": "ros = RandomOverSampler(random_state=1)\nX_res, y_res = ros.fit_resample(x, y)\nrf_ros = RandomForestClassifier(max_depth=5, random_state=0,max_features= 3,n_estimators = 300).fit(X_res,y_res)\nprint(\"Oversampled random forest percentage of defaulters accepted:\", FOR(rf_ros))\nprint(\"Oversampled random forest percentage of non-defaulters denied:\",FPR(rf_ros))",
   "outputs": [
    {
     "name": "stdout",
     "text": "Oversampled random forest percentage of defaulters accepted: 0.02155843001289061\nOversampled random forest percentage of non-defaulters denied: 0.23569444444444446\n",
     "output_type": "stream"
    }
   ],
   "execution_count": 10
  },
  {
   "cell_type": "markdown",
   "source": "**SMOTE**",
   "metadata": {
    "tags": [],
    "cell_id": "00039-d9421f3e-dd17-402d-90db-f79ce68204f0",
    "deepnote_cell_type": "markdown"
   }
  },
  {
   "cell_type": "code",
   "metadata": {
    "tags": [],
    "deepnote_to_be_reexecuted": false,
    "source_hash": "990590c4",
    "execution_start": 1623823162402,
    "execution_millis": 43214,
    "cell_id": "00040-2cc464e6-bfb8-40b9-80c0-025b01fc7c7a",
    "deepnote_cell_type": "code"
   },
   "source": "smt = SMOTE(random_state=1)\nX_res, y_res = smt.fit_resample(x, y)\n\nrf_smt = RandomForestClassifier(max_depth=5, random_state=0,max_features= 3,n_estimators = 300).fit(X_res,y_res)\nprint(\"Oversampled random forest percentage of defaulters accepted:\", FOR(rf_smt))\nprint(\"Oversampled random forest percentage of non-defaulters denied:\",FPR(rf_smt))",
   "outputs": [
    {
     "name": "stdout",
     "text": "Oversampled random forest percentage of defaulters accepted: 0.023177521688463033\nOversampled random forest percentage of non-defaulters denied: 0.21416666666666667\n",
     "output_type": "stream"
    }
   ],
   "execution_count": 11
  },
  {
   "cell_type": "markdown",
   "source": "**SMOTE Tomek**",
   "metadata": {
    "tags": [],
    "cell_id": "00041-0d52ab1a-561c-487d-82af-ddcd802102e9",
    "deepnote_cell_type": "markdown"
   }
  },
  {
   "cell_type": "code",
   "metadata": {
    "tags": [],
    "deepnote_to_be_reexecuted": false,
    "source_hash": "2a559e6c",
    "execution_start": 1623823205625,
    "execution_millis": 43141,
    "cell_id": "00042-b3c4cf5b-5f50-425a-bd48-c0fce0246371",
    "deepnote_cell_type": "code"
   },
   "source": "smtt = SMOTETomek()\nX_res, y_res = smtt.fit_resample(x, y)\nrf_smtt = RandomForestClassifier(max_depth=5, random_state=0,max_features= 3,n_estimators = 300).fit(X_res,y_res)\nprint(\"Oversampled random forest percentage of defaulters accepted:\", FOR(rf_smtt))\nprint(\"Oversampled random forest percentage of non-defaulters denied:\",FPR(rf_smtt))",
   "outputs": [
    {
     "name": "stdout",
     "text": "Oversampled random forest percentage of defaulters accepted: 0.023283839035937164\nOversampled random forest percentage of non-defaulters denied: 0.2120138888888889\n",
     "output_type": "stream"
    }
   ],
   "execution_count": 12
  },
  {
   "cell_type": "markdown",
   "source": "**ASASYN**",
   "metadata": {
    "tags": [],
    "cell_id": "00043-8caeafd3-e778-4acf-b054-c910925ca27a",
    "deepnote_cell_type": "markdown"
   }
  },
  {
   "cell_type": "code",
   "metadata": {
    "tags": [],
    "deepnote_to_be_reexecuted": false,
    "source_hash": "44360cbf",
    "execution_start": 1623823248769,
    "execution_millis": 41684,
    "cell_id": "00044-dde3d9ba-55cb-41d0-8225-76fe387b4516",
    "deepnote_cell_type": "code"
   },
   "source": "ada = ADASYN(random_state=1)\nX_res, y_res = ada.fit_resample(x, y)\nrf_ada = RandomForestClassifier(max_depth=5, random_state=0,max_features= 3,n_estimators = 300).fit(X_res,y_res)\nprint(\"Oversampled random forest percentage of defaulters accepted:\", FOR(rf_ada))\nprint(\"Oversampled random forest percentage of non-defaulters denied:\",FPR(rf_ada))",
   "outputs": [
    {
     "name": "stdout",
     "text": "Oversampled random forest percentage of defaulters accepted: 0.023903536704453787\nOversampled random forest percentage of non-defaulters denied: 0.20173611111111112\n",
     "output_type": "stream"
    }
   ],
   "execution_count": 13
  },
  {
   "cell_type": "markdown",
   "source": "We can see that all Oversampling techniques coped with the task of rebalancing, and showed an acceptable result, so all of them can be considered further.",
   "metadata": {
    "tags": [],
    "cell_id": "00045-27dcee62-1b40-4522-9c76-f806cc848dfe",
    "deepnote_cell_type": "markdown"
   }
  },
  {
   "cell_type": "markdown",
   "source": "### Models that rebalance target while fitting",
   "metadata": {
    "tags": [],
    "cell_id": "00046-f8ff47e2-650e-4df6-a874-7f20f78b5258",
    "deepnote_cell_type": "text-cell-h3"
   }
  },
  {
   "cell_type": "markdown",
   "source": "**Balanced Random Forest**",
   "metadata": {
    "tags": [],
    "cell_id": "00047-cb33d802-ee5e-4648-9e25-546c3c6d3290",
    "deepnote_cell_type": "markdown"
   }
  },
  {
   "cell_type": "code",
   "metadata": {
    "tags": [],
    "deepnote_to_be_reexecuted": false,
    "source_hash": "af337795",
    "execution_start": 1623823290459,
    "execution_millis": 12806,
    "cell_id": "00048-ec77a266-9334-48e9-8f03-21301935efa6",
    "deepnote_cell_type": "code"
   },
   "source": "brf = BalancedRandomForestClassifier(max_depth=5, max_features=5,  random_state=1, n_estimators = 300).fit(x, y) \nprint(\"Balanced Random Forest percentage of defaulters accepted:\", FOR(brf))\nprint(\"Balanced Random Forest percentage of non-defaulters denied:\",FPR(brf))",
   "outputs": [
    {
     "name": "stdout",
     "text": "Balanced Random Forest percentage of defaulters accepted: 0.02197802197802198\nBalanced Random Forest percentage of non-defaulters denied: 0.2243402777777778\n",
     "output_type": "stream"
    }
   ],
   "execution_count": 14
  },
  {
   "cell_type": "markdown",
   "source": "**Balanced Bagging**",
   "metadata": {
    "tags": [],
    "cell_id": "00049-576df78b-72ef-4b61-a779-90a39d0259d6",
    "deepnote_cell_type": "markdown"
   }
  },
  {
   "cell_type": "code",
   "metadata": {
    "tags": [],
    "deepnote_to_be_reexecuted": false,
    "source_hash": "cd1b652",
    "execution_start": 1623823303267,
    "execution_millis": 1084,
    "cell_id": "00050-500cc0bb-8c3b-46f7-804d-2a7b711369d7",
    "deepnote_cell_type": "code"
   },
   "source": "bb = BalancedBaggingClassifier(random_state=1).fit(x, y) \nprint(\"Balanced Bagging percentage of defaulters accepted:\", FOR(bb))\nprint(\"Balanced Bagging percentage of non-defaulters denied:\",FPR(bb))",
   "outputs": [
    {
     "name": "stdout",
     "text": "Balanced Bagging percentage of defaulters accepted: 0.032891143191572374\nBalanced Bagging percentage of non-defaulters denied: 0.13934027777777777\n",
     "output_type": "stream"
    }
   ],
   "execution_count": 15
  },
  {
   "cell_type": "markdown",
   "source": "**EasyEnsembleClassifier**",
   "metadata": {
    "tags": [],
    "cell_id": "00051-5de1184f-c5f5-4bde-a42a-bc56a265273d",
    "deepnote_cell_type": "markdown"
   }
  },
  {
   "cell_type": "code",
   "metadata": {
    "tags": [],
    "deepnote_to_be_reexecuted": false,
    "source_hash": "b479b32b",
    "execution_start": 1623823304346,
    "execution_millis": 9226,
    "cell_id": "00052-592ca583-e3ee-40b5-a317-95a569d47417",
    "deepnote_cell_type": "code"
   },
   "source": "eec = EasyEnsembleClassifier(random_state=1).fit(x, y) \nprint(\"Easy Ensemble percentage of defaulters accepted:\", FOR(eec))\nprint(\"Easy Ensemble percentage of non-defaulters denied:\",FPR(eec))",
   "outputs": [
    {
     "name": "stdout",
     "text": "Easy Ensemble percentage of defaulters accepted: 0.02447023208879919\nEasy Ensemble percentage of non-defaulters denied: 0.194375\n",
     "output_type": "stream"
    }
   ],
   "execution_count": 16
  },
  {
   "cell_type": "markdown",
   "source": "**RUSBoostClassifier**",
   "metadata": {
    "tags": [],
    "cell_id": "00053-6f2c2e11-43b8-4a87-a1b5-5dbdeffdbfdc",
    "deepnote_cell_type": "markdown"
   }
  },
  {
   "cell_type": "code",
   "metadata": {
    "tags": [],
    "deepnote_to_be_reexecuted": false,
    "source_hash": "1b0e2f64",
    "execution_start": 1623823313570,
    "execution_millis": 2533,
    "cell_id": "00054-a517982c-0a41-40b0-8936-12dba3145a08",
    "deepnote_cell_type": "code"
   },
   "source": "rbc = RUSBoostClassifier(random_state=1).fit(x, y) \nprint(\"RUSBoost percentage of defaulters accepted:\", FOR(rbc))\nprint(\"RUSBoost percentage of non-defaulters denied:\",FPR(rbc))",
   "outputs": [
    {
     "name": "stdout",
     "text": "RUSBoost percentage of defaulters accepted: 0.026149759256184627\nRUSBoost percentage of non-defaulters denied: 0.18534722222222222\n",
     "output_type": "stream"
    }
   ],
   "execution_count": 17
  },
  {
   "cell_type": "markdown",
   "source": "Again we can see that all models have coped with the task of rebalancing, but it is really hard to assess them with default threshold because some models are more prone to predict zeros, some are not. That is why we will use the precision-recall curve to see how the remaining 10 models perform with different thresholds. Also, we will add a simple model without any resampling. We will limit the graph from 0.2 to 1 on the precision axis since we are not interested in lower values because precision shows us the ratio of correctly predicted defaulters over all predicted defaulters, which means that very low value indicates that there are too many rejections and it will not lead to an increase in profit. ",
   "metadata": {
    "tags": [],
    "cell_id": "00055-37a5c4a8-beb9-4439-aaa4-0280eb15c647",
    "deepnote_cell_type": "markdown"
   }
  },
  {
   "cell_type": "markdown",
   "source": "## Model evaluation ",
   "metadata": {
    "tags": [],
    "cell_id": "00056-fc668739-d0b5-45d8-9c26-32f9d87e4bb4",
    "deepnote_cell_type": "text-cell-h2"
   }
  },
  {
   "cell_type": "code",
   "metadata": {
    "tags": [],
    "deepnote_to_be_reexecuted": false,
    "source_hash": "22b971c4",
    "execution_start": 1623823316093,
    "execution_millis": 0,
    "cell_id": "00057-8ad17a42-a008-432d-acaf-d96081779342",
    "deepnote_cell_type": "code"
   },
   "source": "def get_prc(model):\n    lr_probs = model.predict_proba(x_test)[:, 1]\n    yhat = model.predict(x_test)\n    lr_precision, lr_recall, _ = precision_recall_curve(y_test, lr_probs)\n    return (lr_precision, lr_recall)",
   "outputs": [],
   "execution_count": 18
  },
  {
   "cell_type": "code",
   "metadata": {
    "tags": [],
    "deepnote_to_be_reexecuted": false,
    "source_hash": "1bd6750e",
    "execution_start": 1623823316107,
    "execution_millis": 38180,
    "cell_id": "00058-45c99da6-c58c-494f-b964-a542426edf50",
    "deepnote_cell_type": "code"
   },
   "source": "mdls = [rf_rus, rf_iht, rf_ros, rf_smt, rf_smtt, rf_ada, brf, bb, eec, rbc]\nnames = ['Random Undersampling', 'Instance Hardness', 'Random Oversampling', 'SMOTE', 'SMOTETomek', 'ADASYN', str(brf).split('(')[0], str(bb).split('(')[0], str(eec).split('(')[0], str(rbc).split('(')[0]]\nplt.figure(figsize=[10,10])\n\nfor i in range(len(mdls)):\n    a,b = get_prc(mdls[i])\n    plt.plot(a,b, label=names[i])\n\nrf = RandomForestClassifier(max_depth=5, random_state=0,max_features= 3,n_estimators = 300).fit(x,y)\na,b = get_prc(rf)\nplt.plot(a,b, label='No resampling', color = 'black')\n\nplt.ylim([0.2, 1])\nplt.xlim([0, 0.8])\nplt.xlabel('Recall')\nplt.ylabel('Precision')\nplt.legend()\nplt.show()",
   "outputs": [
    {
     "data": {
      "text/plain": "<Figure size 720x720 with 1 Axes>",
      "image/png": "[encoded data removed]"
     },
     "metadata": {
      "needs_background": "light",
      "image/png": {
       "width": 617,
       "height": 593
      }
     },
     "output_type": "display_data"
    }
   ],
   "execution_count": 19
  },
  {
   "cell_type": "markdown",
   "source": "We can see that there are 5 models that perform better than others: No resampling, Easy Ensemble, Balanced Random Forest, Random Undersampling, Random Oversampling. Now we will test them in terms of the best revenue that they can give us. We will assume that in case of default we lose all the money that the client could spend (i.e his/her credit limit) and we will use an interest rate of 20 because it is the nearest value to the real credit card interest in US dollars now.\nWe considered the credit limit as half of the income of a person, because such restrictions are very popular in banks right now.",
   "metadata": {
    "tags": [],
    "cell_id": "00059-19ee3305-8e85-45ef-8a88-e66d20848c0c",
    "deepnote_cell_type": "markdown"
   }
  },
  {
   "cell_type": "markdown",
   "source": "**new FOR, FPR**",
   "metadata": {
    "tags": [],
    "cell_id": "00060-69ffc105-d56b-4176-86f5-38ccee1e3027",
    "deepnote_cell_type": "markdown"
   }
  },
  {
   "cell_type": "code",
   "metadata": {
    "tags": [],
    "deepnote_to_be_reexecuted": false,
    "source_hash": "dee920ed",
    "execution_start": 1623823354265,
    "execution_millis": 670449,
    "cell_id": "00061-aaea7a34-7bce-47b1-a714-255eea566628",
    "deepnote_cell_type": "code"
   },
   "source": "def FOR(model, thrs):\n    cm = metrics.confusion_matrix(y_test, (model.predict_proba(x_test)[:,1] > thrs).astype(int))\n    result = cm[1][0]/(cm[1][0]+cm[0][0])\n    return result\ndef FPR(model, thrs):\n    cm = metrics.confusion_matrix(y_test, (model.predict_proba(x_test)[:,1] > thrs).astype(int))\n    result = cm[0][1]/(cm[0][1]+cm[0][0])\n    return result",
   "outputs": [],
   "execution_count": 20
  },
  {
   "cell_type": "markdown",
   "source": "# Profitability of the model",
   "metadata": {
    "tags": [],
    "cell_id": "00062-f4f6e9f3-eb90-4198-a072-c0faec1b4f61",
    "deepnote_cell_type": "text-cell-h1"
   }
  },
  {
   "cell_type": "code",
   "metadata": {
    "tags": [],
    "deepnote_to_be_reexecuted": false,
    "source_hash": "4daa27c7",
    "execution_start": 1623823354265,
    "execution_millis": 0,
    "cell_id": "00063-ce7eee49-7f55-4126-9f45-48e94c95bb3b",
    "deepnote_cell_type": "code"
   },
   "source": "def ins(n, i):\n    return n[:i] + ' ' + n[i:]\ndef bnumber(n):\n    n = str(n)\n    for i in range(len(n)-3, 0, -3):\n        n = ins(n, i)\n    return n",
   "outputs": [],
   "execution_count": 21
  },
  {
   "cell_type": "code",
   "metadata": {
    "tags": [],
    "deepnote_to_be_reexecuted": false,
    "source_hash": "1d00f36e",
    "execution_start": 1623823354266,
    "execution_millis": 25,
    "cell_id": "00064-8650d92a-dfb0-4ad1-93b1-378c3f9d7fa5",
    "deepnote_cell_type": "code"
   },
   "source": "check = x_test.copy()\ncheck['y'] = y_test\ncheck['profit'] = 0\ncheck['profit'][check.y == 0] = 0.2*(check[check.y == 0].monthly_income)/2\ncheck['profit'][check.y == 1] = -1*(check[check.y == 1].monthly_income)/2\ndef_pro = check.profit.sum()\nprint('Revenue before using model:', bnumber(round(def_pro)))",
   "outputs": [
    {
     "name": "stdout",
     "text": "Revenue before using model: 9 124 896\n",
     "output_type": "stream"
    }
   ],
   "execution_count": 22
  },
  {
   "cell_type": "code",
   "metadata": {
    "tags": [],
    "deepnote_to_be_reexecuted": false,
    "source_hash": "c3a1d563",
    "execution_start": 1623823354280,
    "execution_millis": 90986,
    "cell_id": "00065-ff331ba0-62e5-4692-a0f0-a3fc72398427",
    "deepnote_cell_type": "code"
   },
   "source": "mdls = [rf_rus, rf_ros, brf, eec, rf]\nnames = ['Random Undersampling', 'Random Oversampling', str(brf).split('(')[0], str(eec).split('(')[0], 'No resampling']\nfor j in range(len(mdls)):\n    best = 0\n    for i in np.arange(0.05, 0.91, 0.05):\n        check['pred'] = mdls[j].predict_proba(x_test)[:,1]\n        prft = check[check.pred <= i].profit.sum()\n        if prft > best:\n            best = prft\n            bi = i\n    print(names[j], f\"Best revenue: {bnumber(round(best))},\", \"best threshold:\", round(bi, 2))",
   "outputs": [
    {
     "name": "stdout",
     "text": "Random Undersampling Best revenue: 10 427 315, best threshold: 0.7\nRandom Oversampling Best revenue: 10 391 970, best threshold: 0.7\nBalancedRandomForestClassifier Best revenue: 10 401 801, best threshold: 0.7\nEasyEnsembleClassifier Best revenue: 9 950 070, best threshold: 0.5\nNo resampling Best revenue: 10 382 196, best threshold: 0.15\n",
     "output_type": "stream"
    }
   ],
   "execution_count": 23
  },
  {
   "cell_type": "markdown",
   "source": "We can see that we could consider further two most profitable models: Random Undersampling and Balanced Random Forest because they both reached 10 400 000 level.\n\nNow, as one of the two best resampling strategies is Random Undersampling we can use it not only with Random Forest, but try other models. ",
   "metadata": {
    "tags": [],
    "cell_id": "00066-0d5d9c11-28a6-477d-acab-401d5e2c9dbd",
    "deepnote_cell_type": "markdown"
   }
  },
  {
   "cell_type": "code",
   "metadata": {
    "tags": [],
    "deepnote_to_be_reexecuted": false,
    "source_hash": "3a0353b0",
    "execution_start": 1623823445270,
    "execution_millis": 42,
    "cell_id": "00067-6849b7c3-2132-4b76-b3fa-68c8eb682439",
    "deepnote_cell_type": "code"
   },
   "source": "rus = RandomUnderSampler(random_state = 1)\nX_res, y_res = rus.fit_resample(x, y)",
   "outputs": [],
   "execution_count": 24
  },
  {
   "cell_type": "markdown",
   "source": "**Light GBM**",
   "metadata": {
    "tags": [],
    "cell_id": "00068-2c4a2208-99c9-4bbb-81af-35ef68dc91be",
    "deepnote_cell_type": "markdown"
   }
  },
  {
   "cell_type": "code",
   "source": "X_res",
   "metadata": {
    "tags": [],
    "cell_id": "00056-278f0aa9-d0bc-4a84-b7e8-1d12bac66be8",
    "deepnote_to_be_reexecuted": false,
    "source_hash": "d52c9d66",
    "execution_start": 1623823445321,
    "execution_millis": 108,
    "deepnote_cell_type": "code"
   },
   "outputs": [
    {
     "output_type": "execute_result",
     "execution_count": 25,
     "data": {
      "application/vnd.deepnote.dataframe.v2+json": {
       "row_count": 8394,
       "column_count": 7,
       "columns": [
        {
         "name": "credit_card_utilization",
         "dtype": "float64",
         "stats": {
          "unique_count": 7924,
          "nan_count": 0,
          "min": "0.0",
          "max": "12717.921746076332",
          "histogram": [
           {
            "bin_start": 0,
            "bin_end": 1271.7921746076331,
            "count": 8384
           },
           {
            "bin_start": 1271.7921746076331,
            "bin_end": 2543.5843492152662,
            "count": 2
           },
           {
            "bin_start": 2543.5843492152662,
            "bin_end": 3815.3765238228993,
            "count": 2
           },
           {
            "bin_start": 3815.3765238228993,
            "bin_end": 5087.1686984305325,
            "count": 2
           },
           {
            "bin_start": 5087.1686984305325,
            "bin_end": 6358.960873038166,
            "count": 1
           },
           {
            "bin_start": 6358.960873038166,
            "bin_end": 7630.753047645799,
            "count": 2
           },
           {
            "bin_start": 7630.753047645799,
            "bin_end": 8902.545222253431,
            "count": 0
           },
           {
            "bin_start": 8902.545222253431,
            "bin_end": 10174.337396861065,
            "count": 0
           },
           {
            "bin_start": 10174.337396861065,
            "bin_end": 11446.129571468698,
            "count": 0
           },
           {
            "bin_start": 11446.129571468698,
            "bin_end": 12717.921746076332,
            "count": 1
           }
          ]
         }
        },
        {
         "name": "age",
         "dtype": "int64",
         "stats": {
          "unique_count": 77,
          "nan_count": 0,
          "min": "21",
          "max": "101",
          "histogram": [
           {
            "bin_start": 21,
            "bin_end": 29,
            "count": 396
           },
           {
            "bin_start": 29,
            "bin_end": 37,
            "count": 1197
           },
           {
            "bin_start": 37,
            "bin_end": 45,
            "count": 1569
           },
           {
            "bin_start": 45,
            "bin_end": 53,
            "count": 1849
           },
           {
            "bin_start": 53,
            "bin_end": 61,
            "count": 1377
           },
           {
            "bin_start": 61,
            "bin_end": 69,
            "count": 1095
           },
           {
            "bin_start": 69,
            "bin_end": 77,
            "count": 559
           },
           {
            "bin_start": 77,
            "bin_end": 85,
            "count": 247
           },
           {
            "bin_start": 85,
            "bin_end": 93,
            "count": 95
           },
           {
            "bin_start": 93,
            "bin_end": 101,
            "count": 10
           }
          ]
         }
        },
        {
         "name": "monthly_income",
         "dtype": "float64",
         "stats": {
          "unique_count": 7020,
          "nan_count": 0,
          "min": "0.0",
          "max": "230012.4118716208",
          "histogram": [
           {
            "bin_start": 0,
            "bin_end": 23001.24118716208,
            "count": 8356
           },
           {
            "bin_start": 23001.24118716208,
            "bin_end": 46002.48237432416,
            "count": 34
           },
           {
            "bin_start": 46002.48237432416,
            "bin_end": 69003.72356148623,
            "count": 2
           },
           {
            "bin_start": 69003.72356148623,
            "bin_end": 92004.96474864832,
            "count": 0
           },
           {
            "bin_start": 92004.96474864832,
            "bin_end": 115006.2059358104,
            "count": 0
           },
           {
            "bin_start": 115006.2059358104,
            "bin_end": 138007.44712297246,
            "count": 0
           },
           {
            "bin_start": 138007.44712297246,
            "bin_end": 161008.68831013454,
            "count": 0
           },
           {
            "bin_start": 161008.68831013454,
            "bin_end": 184009.92949729663,
            "count": 0
           },
           {
            "bin_start": 184009.92949729663,
            "bin_end": 207011.17068445872,
            "count": 0
           },
           {
            "bin_start": 207011.17068445872,
            "bin_end": 230012.4118716208,
            "count": 2
           }
          ]
         }
        },
        {
         "name": "credits_loans",
         "dtype": "int64",
         "stats": {
          "unique_count": 45,
          "nan_count": 0,
          "min": "0",
          "max": "58",
          "histogram": [
           {
            "bin_start": 0,
            "bin_end": 5.8,
            "count": 2461
           },
           {
            "bin_start": 5.8,
            "bin_end": 11.6,
            "count": 3667
           },
           {
            "bin_start": 11.6,
            "bin_end": 17.4,
            "count": 1690
           },
           {
            "bin_start": 17.4,
            "bin_end": 23.2,
            "count": 452
           },
           {
            "bin_start": 23.2,
            "bin_end": 29,
            "count": 83
           },
           {
            "bin_start": 29,
            "bin_end": 34.8,
            "count": 27
           },
           {
            "bin_start": 34.8,
            "bin_end": 40.6,
            "count": 6
           },
           {
            "bin_start": 40.6,
            "bin_end": 46.4,
            "count": 5
           },
           {
            "bin_start": 46.4,
            "bin_end": 52.199999999999996,
            "count": 2
           },
           {
            "bin_start": 52.199999999999996,
            "bin_end": 58,
            "count": 1
           }
          ]
         }
        },
        {
         "name": "mortgage_loans",
         "dtype": "int64",
         "stats": {
          "unique_count": 19,
          "nan_count": 0,
          "min": "0",
          "max": "29",
          "histogram": [
           {
            "bin_start": 0,
            "bin_end": 2.9,
            "count": 7755
           },
           {
            "bin_start": 2.9,
            "bin_end": 5.8,
            "count": 553
           },
           {
            "bin_start": 5.8,
            "bin_end": 8.7,
            "count": 65
           },
           {
            "bin_start": 8.7,
            "bin_end": 11.6,
            "count": 12
           },
           {
            "bin_start": 11.6,
            "bin_end": 14.5,
            "count": 3
           },
           {
            "bin_start": 14.5,
            "bin_end": 17.4,
            "count": 4
           },
           {
            "bin_start": 17.4,
            "bin_end": 20.3,
            "count": 0
           },
           {
            "bin_start": 20.3,
            "bin_end": 23.2,
            "count": 0
           },
           {
            "bin_start": 23.2,
            "bin_end": 26.099999999999998,
            "count": 1
           },
           {
            "bin_start": 26.099999999999998,
            "bin_end": 29,
            "count": 1
           }
          ]
         }
        },
        {
         "name": "debt",
         "dtype": "float64",
         "stats": {
          "unique_count": 8115,
          "nan_count": 0,
          "min": "0.0",
          "max": "420378687.2777331",
          "histogram": [
           {
            "bin_start": 0,
            "bin_end": 42037868.72777331,
            "count": 8343
           },
           {
            "bin_start": 42037868.72777331,
            "bin_end": 84075737.45554662,
            "count": 39
           },
           {
            "bin_start": 84075737.45554662,
            "bin_end": 126113606.18331993,
            "count": 7
           },
           {
            "bin_start": 126113606.18331993,
            "bin_end": 168151474.91109324,
            "count": 3
           },
           {
            "bin_start": 168151474.91109324,
            "bin_end": 210189343.63886654,
            "count": 0
           },
           {
            "bin_start": 210189343.63886654,
            "bin_end": 252227212.36663985,
            "count": 0
           },
           {
            "bin_start": 252227212.36663985,
            "bin_end": 294265081.09441316,
            "count": 1
           },
           {
            "bin_start": 294265081.09441316,
            "bin_end": 336302949.82218647,
            "count": 0
           },
           {
            "bin_start": 336302949.82218647,
            "bin_end": 378340818.5499598,
            "count": 0
           },
           {
            "bin_start": 378340818.5499598,
            "bin_end": 420378687.2777331,
            "count": 1
           }
          ]
         }
        },
        {
         "name": "overdue",
         "dtype": "int64",
         "stats": {
          "unique_count": 41,
          "nan_count": 0,
          "min": "0",
          "max": "588",
          "histogram": [
           {
            "bin_start": 0,
            "bin_end": 58.8,
            "count": 8334
           },
           {
            "bin_start": 58.8,
            "bin_end": 117.6,
            "count": 0
           },
           {
            "bin_start": 117.6,
            "bin_end": 176.39999999999998,
            "count": 0
           },
           {
            "bin_start": 176.39999999999998,
            "bin_end": 235.2,
            "count": 0
           },
           {
            "bin_start": 235.2,
            "bin_end": 294,
            "count": 0
           },
           {
            "bin_start": 294,
            "bin_end": 352.79999999999995,
            "count": 0
           },
           {
            "bin_start": 352.79999999999995,
            "bin_end": 411.59999999999997,
            "count": 0
           },
           {
            "bin_start": 411.59999999999997,
            "bin_end": 470.4,
            "count": 0
           },
           {
            "bin_start": 470.4,
            "bin_end": 529.1999999999999,
            "count": 0
           },
           {
            "bin_start": 529.1999999999999,
            "bin_end": 588,
            "count": 60
           }
          ]
         }
        },
        {
         "name": "_deepnote_index_column",
         "dtype": "int64"
        }
       ],
       "rows_top": [
        {
         "credit_card_utilization": 0.0179105697899393,
         "age": 75,
         "monthly_income": 2549.6743751062327,
         "credits_loans": 10,
         "mortgage_loans": 0,
         "debt": 24.005806783692524,
         "overdue": 0,
         "_deepnote_index_column": 0
        },
        {
         "credit_card_utilization": 0.0038416630323888,
         "age": 69,
         "monthly_income": 4712.667811117698,
         "credits_loans": 9,
         "mortgage_loans": 1,
         "debt": 2398.9794295966526,
         "overdue": 0,
         "_deepnote_index_column": 1
        },
        {
         "credit_card_utilization": 0.8431591596522158,
         "age": 29,
         "monthly_income": 4357.884657504263,
         "credits_loans": 1,
         "mortgage_loans": 0,
         "debt": 2.2673726668074,
         "overdue": 0,
         "_deepnote_index_column": 2
        },
        {
         "credit_card_utilization": 0.2214157389144682,
         "age": 52,
         "monthly_income": 23483.570167067952,
         "credits_loans": 46,
         "mortgage_loans": 6,
         "debt": 9146.492534374043,
         "overdue": 0,
         "_deepnote_index_column": 3
        },
        {
         "credit_card_utilization": 0.2252420806243995,
         "age": 30,
         "monthly_income": 7700.209184423187,
         "credits_loans": 9,
         "mortgage_loans": 2,
         "debt": 2521.467956503853,
         "overdue": 0,
         "_deepnote_index_column": 4
        },
        {
         "credit_card_utilization": 0,
         "age": 25,
         "monthly_income": 688.3539088071957,
         "credits_loans": 5,
         "mortgage_loans": 0,
         "debt": 467.0469415506268,
         "overdue": 0,
         "_deepnote_index_column": 5
        },
        {
         "credit_card_utilization": 0.3411152194095753,
         "age": 35,
         "monthly_income": 922.0042073821214,
         "credits_loans": 5,
         "mortgage_loans": 1,
         "debt": 1083.5014330588947,
         "overdue": 0,
         "_deepnote_index_column": 6
        },
        {
         "credit_card_utilization": 0.0454682219927534,
         "age": 55,
         "monthly_income": 1375.1726066178237,
         "credits_loans": 17,
         "mortgage_loans": 2,
         "debt": 1627.4162316834395,
         "overdue": 3,
         "_deepnote_index_column": 7
        },
        {
         "credit_card_utilization": 0.0017743757316131,
         "age": 62,
         "monthly_income": 6527.432602714272,
         "credits_loans": 21,
         "mortgage_loans": 2,
         "debt": 13930592.328767285,
         "overdue": 0,
         "_deepnote_index_column": 8
        },
        {
         "credit_card_utilization": 0.7901634613702119,
         "age": 67,
         "monthly_income": 16578.830420666913,
         "credits_loans": 16,
         "mortgage_loans": 2,
         "debt": 11548.974615527984,
         "overdue": 5,
         "_deepnote_index_column": 9
        },
        {
         "credit_card_utilization": 0.7511084397215735,
         "age": 27,
         "monthly_income": 860.4884296625016,
         "credits_loans": 8,
         "mortgage_loans": 0,
         "debt": 900.2728333985469,
         "overdue": 0,
         "_deepnote_index_column": 10
        },
        {
         "credit_card_utilization": 0.2105959799201989,
         "age": 49,
         "monthly_income": 490.1034796573106,
         "credits_loans": 5,
         "mortgage_loans": 1,
         "debt": 899.0984276999699,
         "overdue": 0,
         "_deepnote_index_column": 11
        },
        {
         "credit_card_utilization": 0.0653694909323601,
         "age": 50,
         "monthly_income": 6169.420741261656,
         "credits_loans": 6,
         "mortgage_loans": 1,
         "debt": 16471302.256808745,
         "overdue": 0,
         "_deepnote_index_column": 12
        },
        {
         "credit_card_utilization": 0.2670175069962074,
         "age": 55,
         "monthly_income": 2633.4947498240617,
         "credits_loans": 12,
         "mortgage_loans": 2,
         "debt": 3327.620049955573,
         "overdue": 0,
         "_deepnote_index_column": 13
        },
        {
         "credit_card_utilization": 0.9948895844681894,
         "age": 38,
         "monthly_income": 3970.6130177546256,
         "credits_loans": 10,
         "mortgage_loans": 1,
         "debt": 4045.0475489140176,
         "overdue": 0,
         "_deepnote_index_column": 14
        },
        {
         "credit_card_utilization": 0.3467991115832908,
         "age": 43,
         "monthly_income": 1498.2949818719717,
         "credits_loans": 8,
         "mortgage_loans": 0,
         "debt": 599.6921132325339,
         "overdue": 0,
         "_deepnote_index_column": 15
        },
        {
         "credit_card_utilization": 0,
         "age": 61,
         "monthly_income": 5919.933963955788,
         "credits_loans": 4,
         "mortgage_loans": 1,
         "debt": 5063037.146073824,
         "overdue": 1,
         "_deepnote_index_column": 16
        },
        {
         "credit_card_utilization": 0.0721365351900069,
         "age": 82,
         "monthly_income": 6738.760852849491,
         "credits_loans": 7,
         "mortgage_loans": 2,
         "debt": 1156.2079598791245,
         "overdue": 1,
         "_deepnote_index_column": 17
        },
        {
         "credit_card_utilization": 1.0844511676586257,
         "age": 48,
         "monthly_income": 781.7907191420007,
         "credits_loans": 4,
         "mortgage_loans": 1,
         "debt": 1645.9072645293306,
         "overdue": 1,
         "_deepnote_index_column": 18
        },
        {
         "credit_card_utilization": 0.0286417436448446,
         "age": 71,
         "monthly_income": 7875.660448711483,
         "credits_loans": 8,
         "mortgage_loans": 0,
         "debt": 125.64176677361034,
         "overdue": 0,
         "_deepnote_index_column": 19
        },
        {
         "credit_card_utilization": 0.2750844544114077,
         "age": 56,
         "monthly_income": 6169.420741261656,
         "credits_loans": 6,
         "mortgage_loans": 1,
         "debt": 10676954.40398898,
         "overdue": 0,
         "_deepnote_index_column": 20
        },
        {
         "credit_card_utilization": 0.0216235631083026,
         "age": 30,
         "monthly_income": 1258.8328259829182,
         "credits_loans": 2,
         "mortgage_loans": 0,
         "debt": 7.55258786844148,
         "overdue": 0,
         "_deepnote_index_column": 21
        },
        {
         "credit_card_utilization": 0.992868442007004,
         "age": 35,
         "monthly_income": 1570.889270372566,
         "credits_loans": 5,
         "mortgage_loans": 0,
         "debt": 6756217.041026293,
         "overdue": 3,
         "_deepnote_index_column": 22
        },
        {
         "credit_card_utilization": 0.0179595226365588,
         "age": 65,
         "monthly_income": 4110.99147430716,
         "credits_loans": 21,
         "mortgage_loans": 5,
         "debt": 4349.353274197919,
         "overdue": 0,
         "_deepnote_index_column": 23
        },
        {
         "credit_card_utilization": 0.5050419223324942,
         "age": 28,
         "monthly_income": 997.8651477328048,
         "credits_loans": 15,
         "mortgage_loans": 0,
         "debt": 834.1476791917562,
         "overdue": 3,
         "_deepnote_index_column": 24
        },
        {
         "credit_card_utilization": 0.1563866769624216,
         "age": 47,
         "monthly_income": 6044.677352608722,
         "credits_loans": 5,
         "mortgage_loans": 1,
         "debt": 13693834.29883596,
         "overdue": 0,
         "_deepnote_index_column": 25
        },
        {
         "credit_card_utilization": 0.121703808389279,
         "age": 76,
         "monthly_income": 2768.5499368076107,
         "credits_loans": 7,
         "mortgage_loans": 0,
         "debt": 361.9051500056027,
         "overdue": 0,
         "_deepnote_index_column": 26
        },
        {
         "credit_card_utilization": 0.0907869944184883,
         "age": 62,
         "monthly_income": 4316.989472220665,
         "credits_loans": 2,
         "mortgage_loans": 0,
         "debt": 103.721028945019,
         "overdue": 0,
         "_deepnote_index_column": 27
        },
        {
         "credit_card_utilization": 0.0135379024582374,
         "age": 39,
         "monthly_income": 1991.4140010565416,
         "credits_loans": 2,
         "mortgage_loans": 0,
         "debt": 24478.04977011253,
         "overdue": 0,
         "_deepnote_index_column": 28
        },
        {
         "credit_card_utilization": 0.0025847543006134,
         "age": 61,
         "monthly_income": 9007.627109068764,
         "credits_loans": 15,
         "mortgage_loans": 2,
         "debt": 5770.300186436201,
         "overdue": 0,
         "_deepnote_index_column": 29
        },
        {
         "credit_card_utilization": 0.7800903416851799,
         "age": 46,
         "monthly_income": 3147.082064957295,
         "credits_loans": 7,
         "mortgage_loans": 1,
         "debt": 13749858.144972714,
         "overdue": 0,
         "_deepnote_index_column": 30
        },
        {
         "credit_card_utilization": 0.6819656076811528,
         "age": 37,
         "monthly_income": 4712.667811117698,
         "credits_loans": 5,
         "mortgage_loans": 0,
         "debt": 6193294.566461007,
         "overdue": 0,
         "_deepnote_index_column": 31
        },
        {
         "credit_card_utilization": 0.8991699797911803,
         "age": 27,
         "monthly_income": 706.9105113061514,
         "credits_loans": 1,
         "mortgage_loans": 0,
         "debt": 11.502341209246312,
         "overdue": 0,
         "_deepnote_index_column": 32
        },
        {
         "credit_card_utilization": 1.060838341650378,
         "age": 55,
         "monthly_income": 809.6915944189763,
         "credits_loans": 4,
         "mortgage_loans": 0,
         "debt": 116.64485280188616,
         "overdue": 4,
         "_deepnote_index_column": 33
        },
        {
         "credit_card_utilization": 0.0151709813725196,
         "age": 64,
         "monthly_income": 10823.373515953152,
         "credits_loans": 25,
         "mortgage_loans": 1,
         "debt": 1806.3742730521265,
         "overdue": 0,
         "_deepnote_index_column": 34
        },
        {
         "credit_card_utilization": 0.0400099845062469,
         "age": 79,
         "monthly_income": 1885.3007552575637,
         "credits_loans": 2,
         "mortgage_loans": 0,
         "debt": 42.09405006276182,
         "overdue": 0,
         "_deepnote_index_column": 35
        },
        {
         "credit_card_utilization": 0.0537409457149812,
         "age": 66,
         "monthly_income": 4630.639605180488,
         "credits_loans": 20,
         "mortgage_loans": 2,
         "debt": 2975.1118830455152,
         "overdue": 0,
         "_deepnote_index_column": 36
        },
        {
         "credit_card_utilization": 0.0058685693259431,
         "age": 54,
         "monthly_income": 0,
         "credits_loans": 5,
         "mortgage_loans": 0,
         "debt": 0,
         "overdue": 0,
         "_deepnote_index_column": 37
        },
        {
         "credit_card_utilization": 0.0003457123020797,
         "age": 80,
         "monthly_income": 853.7257930540451,
         "credits_loans": 9,
         "mortgage_loans": 1,
         "debt": 565.1593904422259,
         "overdue": 0,
         "_deepnote_index_column": 38
        },
        {
         "credit_card_utilization": 0.0385317952845131,
         "age": 77,
         "monthly_income": 6294.16412991459,
         "credits_loans": 3,
         "mortgage_loans": 0,
         "debt": 60.46659542184039,
         "overdue": 0,
         "_deepnote_index_column": 39
        },
        {
         "credit_card_utilization": 0.0942721939295087,
         "age": 45,
         "monthly_income": 1068.935080323425,
         "credits_loans": 13,
         "mortgage_loans": 1,
         "debt": 1531.7283123691036,
         "overdue": 0,
         "_deepnote_index_column": 40
        },
        {
         "credit_card_utilization": 0.25722998909725,
         "age": 55,
         "monthly_income": 8656.353445388993,
         "credits_loans": 14,
         "mortgage_loans": 5,
         "debt": 5872.472638829078,
         "overdue": 0,
         "_deepnote_index_column": 41
        },
        {
         "credit_card_utilization": 0,
         "age": 41,
         "monthly_income": 3722.054930777408,
         "credits_loans": 9,
         "mortgage_loans": 1,
         "debt": 2007.9149391741596,
         "overdue": 0,
         "_deepnote_index_column": 42
        },
        {
         "credit_card_utilization": 0.074157586689211,
         "age": 62,
         "monthly_income": 1003.664746987954,
         "credits_loans": 8,
         "mortgage_loans": 1,
         "debt": 1480.7151785864476,
         "overdue": 0,
         "_deepnote_index_column": 43
        },
        {
         "credit_card_utilization": 0.6367680213396464,
         "age": 38,
         "monthly_income": 1000.4512714192716,
         "credits_loans": 9,
         "mortgage_loans": 2,
         "debt": 3403.7548371323205,
         "overdue": 0,
         "_deepnote_index_column": 44
        },
        {
         "credit_card_utilization": 0.60821570848585,
         "age": 69,
         "monthly_income": 4587.924422464764,
         "credits_loans": 4,
         "mortgage_loans": 0,
         "debt": 1436670.1289856986,
         "overdue": 0,
         "_deepnote_index_column": 45
        },
        {
         "credit_card_utilization": 0.0743767063734693,
         "age": 39,
         "monthly_income": 6254.38504041782,
         "credits_loans": 8,
         "mortgage_loans": 1,
         "debt": 3545.057504430494,
         "overdue": 0,
         "_deepnote_index_column": 46
        },
        {
         "credit_card_utilization": 0.2897154455713994,
         "age": 69,
         "monthly_income": 510.6320528381209,
         "credits_loans": 5,
         "mortgage_loans": 1,
         "debt": 1411.043569472984,
         "overdue": 0,
         "_deepnote_index_column": 47
        },
        {
         "credit_card_utilization": 0.0894249691070953,
         "age": 65,
         "monthly_income": 4273.46390037358,
         "credits_loans": 3,
         "mortgage_loans": 1,
         "debt": 1170.7549443655032,
         "overdue": 0,
         "_deepnote_index_column": 48
        },
        {
         "credit_card_utilization": 1.2391156864075286,
         "age": 57,
         "monthly_income": 1058.2470890462762,
         "credits_loans": 6,
         "mortgage_loans": 1,
         "debt": 1787.8429758956142,
         "overdue": 0,
         "_deepnote_index_column": 49
        },
        {
         "credit_card_utilization": 0.1505110033704837,
         "age": 33,
         "monthly_income": 9178.936372515913,
         "credits_loans": 7,
         "mortgage_loans": 2,
         "debt": 5577.5872331126975,
         "overdue": 0,
         "_deepnote_index_column": 50
        },
        {
         "credit_card_utilization": 0.0522684003198319,
         "age": 38,
         "monthly_income": 2759.766361125396,
         "credits_loans": 10,
         "mortgage_loans": 1,
         "debt": 2570.080270264488,
         "overdue": 0,
         "_deepnote_index_column": 51
        },
        {
         "credit_card_utilization": 0.0049392921407803,
         "age": 75,
         "monthly_income": 6485.098207717806,
         "credits_loans": 13,
         "mortgage_loans": 1,
         "debt": 868.2418771319672,
         "overdue": 0,
         "_deepnote_index_column": 52
        },
        {
         "credit_card_utilization": 0.1386704913634751,
         "age": 66,
         "monthly_income": 3121.22933042412,
         "credits_loans": 7,
         "mortgage_loans": 0,
         "debt": 862.9481804897853,
         "overdue": 0,
         "_deepnote_index_column": 53
        },
        {
         "credit_card_utilization": 0.0105825726289238,
         "age": 43,
         "monthly_income": 744.9416415902307,
         "credits_loans": 9,
         "mortgage_loans": 1,
         "debt": 704.0270833316152,
         "overdue": 0,
         "_deepnote_index_column": 54
        },
        {
         "credit_card_utilization": 0.9925643106897808,
         "age": 45,
         "monthly_income": 4461.904002783377,
         "credits_loans": 7,
         "mortgage_loans": 1,
         "debt": 3840.066745656765,
         "overdue": 0,
         "_deepnote_index_column": 55
        },
        {
         "credit_card_utilization": 0.6029957435232605,
         "age": 55,
         "monthly_income": 3710.1053078018695,
         "credits_loans": 14,
         "mortgage_loans": 1,
         "debt": 4405.449967961848,
         "overdue": 0,
         "_deepnote_index_column": 56
        },
        {
         "credit_card_utilization": 0.5144989932491912,
         "age": 39,
         "monthly_income": 2597.9205042585604,
         "credits_loans": 15,
         "mortgage_loans": 1,
         "debt": 2756.305958680992,
         "overdue": 0,
         "_deepnote_index_column": 57
        },
        {
         "credit_card_utilization": 0,
         "age": 44,
         "monthly_income": 1726.8832373272223,
         "credits_loans": 5,
         "mortgage_loans": 0,
         "debt": 203.95976837406172,
         "overdue": 0,
         "_deepnote_index_column": 58
        },
        {
         "credit_card_utilization": 0,
         "age": 49,
         "monthly_income": 8890.00236828908,
         "credits_loans": 7,
         "mortgage_loans": 1,
         "debt": 3554.59166911247,
         "overdue": 0,
         "_deepnote_index_column": 59
        },
        {
         "credit_card_utilization": 0.1437412512895967,
         "age": 59,
         "monthly_income": 4370.413531749763,
         "credits_loans": 8,
         "mortgage_loans": 1,
         "debt": 2141.9068931600027,
         "overdue": 0,
         "_deepnote_index_column": 60
        },
        {
         "credit_card_utilization": 1.1627838872726062,
         "age": 31,
         "monthly_income": 2724.7502117261474,
         "credits_loans": 2,
         "mortgage_loans": 0,
         "debt": 310.6014918926309,
         "overdue": 3,
         "_deepnote_index_column": 61
        },
        {
         "credit_card_utilization": 0.0009147824590924,
         "age": 60,
         "monthly_income": 13505.77159816605,
         "credits_loans": 12,
         "mortgage_loans": 1,
         "debt": 1718.0509480481871,
         "overdue": 0,
         "_deepnote_index_column": 62
        },
        {
         "credit_card_utilization": 0.7317250869980116,
         "age": 55,
         "monthly_income": 3623.954992439534,
         "credits_loans": 16,
         "mortgage_loans": 0,
         "debt": 4966.895834856496,
         "overdue": 0,
         "_deepnote_index_column": 63
        },
        {
         "credit_card_utilization": 0.6539070153534184,
         "age": 39,
         "monthly_income": 4837.411199770632,
         "credits_loans": 6,
         "mortgage_loans": 0,
         "debt": 3732378.0148532586,
         "overdue": 0,
         "_deepnote_index_column": 64
        },
        {
         "credit_card_utilization": 0.00002325291675523601,
         "age": 73,
         "monthly_income": 2954.911643608258,
         "credits_loans": 10,
         "mortgage_loans": 1,
         "debt": 1791.8574918766485,
         "overdue": 0,
         "_deepnote_index_column": 65
        },
        {
         "credit_card_utilization": 0.0036423672138235,
         "age": 78,
         "monthly_income": 7561.734572363717,
         "credits_loans": 4,
         "mortgage_loans": 0,
         "debt": 3.756996758004064,
         "overdue": 0,
         "_deepnote_index_column": 66
        },
        {
         "credit_card_utilization": 0.5343069405190113,
         "age": 48,
         "monthly_income": 6668.394295873393,
         "credits_loans": 4,
         "mortgage_loans": 1,
         "debt": 29052464.64955315,
         "overdue": 0,
         "_deepnote_index_column": 67
        },
        {
         "credit_card_utilization": 0.0308919400272795,
         "age": 65,
         "monthly_income": 6793.137684526328,
         "credits_loans": 11,
         "mortgage_loans": 1,
         "debt": 6342859.82820332,
         "overdue": 0,
         "_deepnote_index_column": 68
        },
        {
         "credit_card_utilization": 0.3553806438875527,
         "age": 56,
         "monthly_income": 3005.567240401766,
         "credits_loans": 11,
         "mortgage_loans": 2,
         "debt": 2865.532142105272,
         "overdue": 1,
         "_deepnote_index_column": 69
        },
        {
         "credit_card_utilization": 0.0017536422431927,
         "age": 43,
         "monthly_income": 1643.9473232863838,
         "credits_loans": 7,
         "mortgage_loans": 3,
         "debt": 1719.6146776607598,
         "overdue": 0,
         "_deepnote_index_column": 70
        }
       ],
       "rows_bottom": [
        {
         "credit_card_utilization": 0.4044959621307592,
         "age": 45,
         "monthly_income": 0,
         "credits_loans": 10,
         "mortgage_loans": 0,
         "debt": 0,
         "overdue": 7,
         "_deepnote_index_column": 8323
        },
        {
         "credit_card_utilization": 0.8491852715287822,
         "age": 32,
         "monthly_income": 1590.828314429452,
         "credits_loans": 2,
         "mortgage_loans": 0,
         "debt": 393.9613742161079,
         "overdue": 1,
         "_deepnote_index_column": 8324
        },
        {
         "credit_card_utilization": 0.6447797949648167,
         "age": 56,
         "monthly_income": 9397.24254595824,
         "credits_loans": 20,
         "mortgage_loans": 3,
         "debt": 7073.825099549471,
         "overdue": 0,
         "_deepnote_index_column": 8325
        },
        {
         "credit_card_utilization": 0.1930768726540343,
         "age": 53,
         "monthly_income": 1965.0529895719808,
         "credits_loans": 14,
         "mortgage_loans": 2,
         "debt": 4534.652614941316,
         "overdue": 0,
         "_deepnote_index_column": 8326
        },
        {
         "credit_card_utilization": 0,
         "age": 26,
         "monthly_income": 5379.289878198612,
         "credits_loans": 4,
         "mortgage_loans": 0,
         "debt": 3.226891239321932,
         "overdue": 0,
         "_deepnote_index_column": 8327
        },
        {
         "credit_card_utilization": 0.4323516235060465,
         "age": 43,
         "monthly_income": 3232.769041954628,
         "credits_loans": 12,
         "mortgage_loans": 1,
         "debt": 4323.169341548804,
         "overdue": 0,
         "_deepnote_index_column": 8328
        },
        {
         "credit_card_utilization": 0.5774717950553431,
         "age": 45,
         "monthly_income": 4489.218167868662,
         "credits_loans": 15,
         "mortgage_loans": 1,
         "debt": 2549.8220093381665,
         "overdue": 6,
         "_deepnote_index_column": 8329
        },
        {
         "credit_card_utilization": 0.8264446001359691,
         "age": 28,
         "monthly_income": 5514.427466034038,
         "credits_loans": 4,
         "mortgage_loans": 0,
         "debt": 1164.5348187303853,
         "overdue": 3,
         "_deepnote_index_column": 8330
        },
        {
         "credit_card_utilization": 0.0261624730795861,
         "age": 79,
         "monthly_income": 3511.8252871750133,
         "credits_loans": 10,
         "mortgage_loans": 0,
         "debt": 320.44437392336005,
         "overdue": 1,
         "_deepnote_index_column": 8331
        },
        {
         "credit_card_utilization": 1.0797741137392594,
         "age": 49,
         "monthly_income": 1401.0444174847964,
         "credits_loans": 6,
         "mortgage_loans": 2,
         "debt": 1027.2149823557536,
         "overdue": 2,
         "_deepnote_index_column": 8332
        },
        {
         "credit_card_utilization": 0,
         "age": 53,
         "monthly_income": 2542.865152024884,
         "credits_loans": 9,
         "mortgage_loans": 1,
         "debt": 2523.541691916778,
         "overdue": 10,
         "_deepnote_index_column": 8333
        },
        {
         "credit_card_utilization": 0,
         "age": 37,
         "monthly_income": 2899.377913960987,
         "credits_loans": 5,
         "mortgage_loans": 1,
         "debt": 5451.336303216192,
         "overdue": 6,
         "_deepnote_index_column": 8334
        },
        {
         "credit_card_utilization": 0.1646474615467637,
         "age": 44,
         "monthly_income": 10028.964386123504,
         "credits_loans": 14,
         "mortgage_loans": 2,
         "debt": 4496.784097921978,
         "overdue": 0,
         "_deepnote_index_column": 8335
        },
        {
         "credit_card_utilization": 1.045813799778053,
         "age": 38,
         "monthly_income": 3116.1998638084806,
         "credits_loans": 10,
         "mortgage_loans": 1,
         "debt": 4827.363014150955,
         "overdue": 1,
         "_deepnote_index_column": 8336
        },
        {
         "credit_card_utilization": 0.9720231682198588,
         "age": 48,
         "monthly_income": 2441.210799297743,
         "credits_loans": 14,
         "mortgage_loans": 1,
         "debt": 4507.984035698267,
         "overdue": 2,
         "_deepnote_index_column": 8337
        },
        {
         "credit_card_utilization": 0.7755587454636471,
         "age": 48,
         "monthly_income": 1977.9059413759765,
         "credits_loans": 8,
         "mortgage_loans": 1,
         "debt": 1196.5241263727564,
         "overdue": 0,
         "_deepnote_index_column": 8338
        },
        {
         "credit_card_utilization": 0.8602332488525923,
         "age": 42,
         "monthly_income": 2290.0083668242137,
         "credits_loans": 0,
         "mortgage_loans": 0,
         "debt": 14.586719669765891,
         "overdue": 0,
         "_deepnote_index_column": 8339
        },
        {
         "credit_card_utilization": 0.1298966100632044,
         "age": 59,
         "monthly_income": 7672.396359028376,
         "credits_loans": 24,
         "mortgage_loans": 4,
         "debt": 31324867.464858185,
         "overdue": 1,
         "_deepnote_index_column": 8340
        },
        {
         "credit_card_utilization": 1.08369022398685,
         "age": 30,
         "monthly_income": 700.2361637771342,
         "credits_loans": 2,
         "mortgage_loans": 0,
         "debt": 613.8652412966225,
         "overdue": 3,
         "_deepnote_index_column": 8341
        },
        {
         "credit_card_utilization": 0.0158621874615076,
         "age": 65,
         "monthly_income": 3942.6587446362246,
         "credits_loans": 7,
         "mortgage_loans": 0,
         "debt": 437.3807089508684,
         "overdue": 2,
         "_deepnote_index_column": 8342
        },
        {
         "credit_card_utilization": 0.1865633598383126,
         "age": 63,
         "monthly_income": 4428.9817763235615,
         "credits_loans": 5,
         "mortgage_loans": 2,
         "debt": 1552.3859447212617,
         "overdue": 0,
         "_deepnote_index_column": 8343
        },
        {
         "credit_card_utilization": 0.5811275837677107,
         "age": 36,
         "monthly_income": 1370.4283588829503,
         "credits_loans": 12,
         "mortgage_loans": 2,
         "debt": 5628.715119546121,
         "overdue": 3,
         "_deepnote_index_column": 8344
        },
        {
         "credit_card_utilization": 0.9431923880712092,
         "age": 33,
         "monthly_income": 1812.463184349535,
         "credits_loans": 4,
         "mortgage_loans": 0,
         "debt": 624.7218826739023,
         "overdue": 5,
         "_deepnote_index_column": 8345
        },
        {
         "credit_card_utilization": 0.9794215337826384,
         "age": 34,
         "monthly_income": 938.8406431899506,
         "credits_loans": 3,
         "mortgage_loans": 0,
         "debt": 651.5487801737542,
         "overdue": 3,
         "_deepnote_index_column": 8346
        },
        {
         "credit_card_utilization": 0.3251949204261868,
         "age": 41,
         "monthly_income": 6182.131418579775,
         "credits_loans": 4,
         "mortgage_loans": 0,
         "debt": 768.9587806379016,
         "overdue": 0,
         "_deepnote_index_column": 8347
        },
        {
         "credit_card_utilization": 7355.38728896879,
         "age": 40,
         "monthly_income": 7002.456728140942,
         "credits_loans": 10,
         "mortgage_loans": 2,
         "debt": 152063976.03942597,
         "overdue": 2,
         "_deepnote_index_column": 8348
        },
        {
         "credit_card_utilization": 1.0350897317092411,
         "age": 30,
         "monthly_income": 4463.181033811829,
         "credits_loans": 3,
         "mortgage_loans": 0,
         "debt": 703285.6684113932,
         "overdue": 6,
         "_deepnote_index_column": 8349
        },
        {
         "credit_card_utilization": 0.7591369211059888,
         "age": 61,
         "monthly_income": 5607.65810899249,
         "credits_loans": 12,
         "mortgage_loans": 1,
         "debt": 10511.793333871105,
         "overdue": 17,
         "_deepnote_index_column": 8350
        },
        {
         "credit_card_utilization": 0.0006900458375736,
         "age": 43,
         "monthly_income": 1276.7755075258867,
         "credits_loans": 4,
         "mortgage_loans": 1,
         "debt": 1658.9922814732736,
         "overdue": 0,
         "_deepnote_index_column": 8351
        },
        {
         "credit_card_utilization": 0,
         "age": 26,
         "monthly_income": 3511.555292692896,
         "credits_loans": 3,
         "mortgage_loans": 0,
         "debt": 793.5126698202199,
         "overdue": 2,
         "_deepnote_index_column": 8352
        },
        {
         "credit_card_utilization": 0.9652646513862744,
         "age": 37,
         "monthly_income": 1010.837006836927,
         "credits_loans": 10,
         "mortgage_loans": 1,
         "debt": 2430.294624364328,
         "overdue": 1,
         "_deepnote_index_column": 8353
        },
        {
         "credit_card_utilization": 0.8975141783429758,
         "age": 44,
         "monthly_income": 1569.317959507508,
         "credits_loans": 18,
         "mortgage_loans": 2,
         "debt": 1944.8948049717012,
         "overdue": 3,
         "_deepnote_index_column": 8354
        },
        {
         "credit_card_utilization": 1.0271393532967077,
         "age": 27,
         "monthly_income": 2438.8883880127064,
         "credits_loans": 4,
         "mortgage_loans": 0,
         "debt": 218.65132566562912,
         "overdue": 0,
         "_deepnote_index_column": 8355
        },
        {
         "credit_card_utilization": 0.190144093557892,
         "age": 53,
         "monthly_income": 1356.0304109381043,
         "credits_loans": 4,
         "mortgage_loans": 1,
         "debt": 1523.8354822879123,
         "overdue": 0,
         "_deepnote_index_column": 8356
        },
        {
         "credit_card_utilization": 0.254810303147001,
         "age": 51,
         "monthly_income": 2595.183653995591,
         "credits_loans": 14,
         "mortgage_loans": 0,
         "debt": 582.5025858972515,
         "overdue": 1,
         "_deepnote_index_column": 8357
        },
        {
         "credit_card_utilization": 0.5437552232321294,
         "age": 34,
         "monthly_income": 4587.924422464764,
         "credits_loans": 10,
         "mortgage_loans": 2,
         "debt": 10519207.17200151,
         "overdue": 1,
         "_deepnote_index_column": 8358
        },
        {
         "credit_card_utilization": 0.0042440840004795,
         "age": 59,
         "monthly_income": 3365.7995324466115,
         "credits_loans": 10,
         "mortgage_loans": 1,
         "debt": 2224.2593485782604,
         "overdue": 9,
         "_deepnote_index_column": 8359
        },
        {
         "credit_card_utilization": 1.0500284342863555,
         "age": 43,
         "monthly_income": 5107.758614285044,
         "credits_loans": 21,
         "mortgage_loans": 1,
         "debt": 3321.8233293753547,
         "overdue": 5,
         "_deepnote_index_column": 8360
        },
        {
         "credit_card_utilization": 1.0223358720850402,
         "age": 88,
         "monthly_income": 3818.382435893517,
         "credits_loans": 14,
         "mortgage_loans": 3,
         "debt": 10938.654977502289,
         "overdue": 26,
         "_deepnote_index_column": 8361
        },
        {
         "credit_card_utilization": 1.2025467722717456,
         "age": 38,
         "monthly_income": 5670.447186649919,
         "credits_loans": 2,
         "mortgage_loans": 1,
         "debt": 12801803.474208238,
         "overdue": 4,
         "_deepnote_index_column": 8362
        },
        {
         "credit_card_utilization": 0.0542168213643663,
         "age": 57,
         "monthly_income": 1993.8117918036587,
         "credits_loans": 13,
         "mortgage_loans": 1,
         "debt": 1521.6007477750045,
         "overdue": 0,
         "_deepnote_index_column": 8363
        },
        {
         "credit_card_utilization": 0.915614759381878,
         "age": 40,
         "monthly_income": 5010.938600792834,
         "credits_loans": 7,
         "mortgage_loans": 1,
         "debt": 2250.9065913821587,
         "overdue": 0,
         "_deepnote_index_column": 8364
        },
        {
         "credit_card_utilization": 0.2732827416385636,
         "age": 36,
         "monthly_income": 5810.073433071158,
         "credits_loans": 49,
         "mortgage_loans": 0,
         "debt": 1163.2109422565825,
         "overdue": 0,
         "_deepnote_index_column": 8365
        },
        {
         "credit_card_utilization": 0.8511921108565987,
         "age": 41,
         "monthly_income": 3343.6108238170145,
         "credits_loans": 14,
         "mortgage_loans": 3,
         "debt": 3614.864057463261,
         "overdue": 3,
         "_deepnote_index_column": 8366
        },
        {
         "credit_card_utilization": 0.5464050195625219,
         "age": 78,
         "monthly_income": 3576.583355731432,
         "credits_loans": 3,
         "mortgage_loans": 0,
         "debt": 796.7745621500451,
         "overdue": 4,
         "_deepnote_index_column": 8367
        },
        {
         "credit_card_utilization": 0.7479049643224069,
         "age": 29,
         "monthly_income": 1544.1840230939565,
         "credits_loans": 3,
         "mortgage_loans": 0,
         "debt": 388.515507423454,
         "overdue": 2,
         "_deepnote_index_column": 8368
        },
        {
         "credit_card_utilization": 0.0130712888085338,
         "age": 66,
         "monthly_income": 4213.694256505961,
         "credits_loans": 17,
         "mortgage_loans": 1,
         "debt": 3062.0526934314867,
         "overdue": 0,
         "_deepnote_index_column": 8369
        },
        {
         "credit_card_utilization": 0.0957395406196817,
         "age": 67,
         "monthly_income": 4136.589956093826,
         "credits_loans": 15,
         "mortgage_loans": 1,
         "debt": 3503.8492952746105,
         "overdue": 2,
         "_deepnote_index_column": 8370
        },
        {
         "credit_card_utilization": 0.2367887941886528,
         "age": 46,
         "monthly_income": 1806.117965544345,
         "credits_loans": 17,
         "mortgage_loans": 2,
         "debt": 1750.128645053374,
         "overdue": 1,
         "_deepnote_index_column": 8371
        },
        {
         "credit_card_utilization": 1.078152615250583,
         "age": 39,
         "monthly_income": 969.2992412553098,
         "credits_loans": 9,
         "mortgage_loans": 5,
         "debt": 9285.86316234558,
         "overdue": 0,
         "_deepnote_index_column": 8372
        },
        {
         "credit_card_utilization": 1.1802848238284709,
         "age": 69,
         "monthly_income": 5960.101697647042,
         "credits_loans": 13,
         "mortgage_loans": 0,
         "debt": 1091.887808258647,
         "overdue": 5,
         "_deepnote_index_column": 8373
        },
        {
         "credit_card_utilization": 0.9485054362331063,
         "age": 43,
         "monthly_income": 3862.19633289857,
         "credits_loans": 1,
         "mortgage_loans": 0,
         "debt": 603.2457879639296,
         "overdue": 17,
         "_deepnote_index_column": 8374
        },
        {
         "credit_card_utilization": 0.5737368134627248,
         "age": 41,
         "monthly_income": 3533.432821888531,
         "credits_loans": 13,
         "mortgage_loans": 2,
         "debt": 3812.452393975052,
         "overdue": 0,
         "_deepnote_index_column": 8375
        },
        {
         "credit_card_utilization": 1.0631738185272337,
         "age": 46,
         "monthly_income": 2029.1887114475253,
         "credits_loans": 9,
         "mortgage_loans": 0,
         "debt": 236.8800713336093,
         "overdue": 11,
         "_deepnote_index_column": 8376
        },
        {
         "credit_card_utilization": 1.0196945849607113,
         "age": 29,
         "monthly_income": 3194.5822839124016,
         "credits_loans": 1,
         "mortgage_loans": 0,
         "debt": 0,
         "overdue": 0,
         "_deepnote_index_column": 8377
        },
        {
         "credit_card_utilization": 0.3278654319666984,
         "age": 46,
         "monthly_income": 16895.677412665365,
         "credits_loans": 13,
         "mortgage_loans": 4,
         "debt": 11714.996405256285,
         "overdue": 2,
         "_deepnote_index_column": 8378
        },
        {
         "credit_card_utilization": 0.9348922890541776,
         "age": 50,
         "monthly_income": 1973.311321318596,
         "credits_loans": 4,
         "mortgage_loans": 2,
         "debt": 2787.5924941251237,
         "overdue": 3,
         "_deepnote_index_column": 8379
        },
        {
         "credit_card_utilization": 1.0324557221464563,
         "age": 24,
         "monthly_income": 2024.788225283968,
         "credits_loans": 7,
         "mortgage_loans": 0,
         "debt": 406.4335810123955,
         "overdue": 1,
         "_deepnote_index_column": 8380
        },
        {
         "credit_card_utilization": 0.8291013064469993,
         "age": 37,
         "monthly_income": 2970.771065254733,
         "credits_loans": 8,
         "mortgage_loans": 0,
         "debt": 1003.680331805822,
         "overdue": 4,
         "_deepnote_index_column": 8381
        },
        {
         "credit_card_utilization": 0.8484983466940617,
         "age": 55,
         "monthly_income": 1783.9983574637945,
         "credits_loans": 14,
         "mortgage_loans": 1,
         "debt": 4246.493882892472,
         "overdue": 4,
         "_deepnote_index_column": 8382
        },
        {
         "credit_card_utilization": 1.11041732529823,
         "age": 31,
         "monthly_income": 2332.019435308011,
         "credits_loans": 6,
         "mortgage_loans": 0,
         "debt": 80.42828963574621,
         "overdue": 13,
         "_deepnote_index_column": 8383
        },
        {
         "credit_card_utilization": 1.1253206248605911,
         "age": 53,
         "monthly_income": 0,
         "credits_loans": 1,
         "mortgage_loans": 0,
         "debt": 0,
         "overdue": 3,
         "_deepnote_index_column": 8384
        },
        {
         "credit_card_utilization": 1.0177445032120005,
         "age": 35,
         "monthly_income": 5960.101697647042,
         "credits_loans": 15,
         "mortgage_loans": 0,
         "debt": 17444845.41452678,
         "overdue": 0,
         "_deepnote_index_column": 8385
        },
        {
         "credit_card_utilization": 0.8301500072226201,
         "age": 50,
         "monthly_income": 8998.350946587892,
         "credits_loans": 0,
         "mortgage_loans": 0,
         "debt": 189.1303900831609,
         "overdue": 3,
         "_deepnote_index_column": 8386
        },
        {
         "credit_card_utilization": 0.0771025763795167,
         "age": 49,
         "monthly_income": 1657.501731595479,
         "credits_loans": 21,
         "mortgage_loans": 0,
         "debt": 634.1152829687821,
         "overdue": 7,
         "_deepnote_index_column": 8387
        },
        {
         "credit_card_utilization": 1.0635636267119752,
         "age": 67,
         "monthly_income": 1691.6212981117076,
         "credits_loans": 1,
         "mortgage_loans": 0,
         "debt": 89.86552808133396,
         "overdue": 588,
         "_deepnote_index_column": 8388
        },
        {
         "credit_card_utilization": 0.6558203451430684,
         "age": 46,
         "monthly_income": 2869.276463294588,
         "credits_loans": 3,
         "mortgage_loans": 0,
         "debt": 18.204847013800972,
         "overdue": 2,
         "_deepnote_index_column": 8389
        },
        {
         "credit_card_utilization": 0,
         "age": 32,
         "monthly_income": 2390.7630570987003,
         "credits_loans": 11,
         "mortgage_loans": 1,
         "debt": 2361.0702037921064,
         "overdue": 1,
         "_deepnote_index_column": 8390
        },
        {
         "credit_card_utilization": 0.9492553423586088,
         "age": 51,
         "monthly_income": 1602.1707849827394,
         "credits_loans": 18,
         "mortgage_loans": 9,
         "debt": 7895.615888083859,
         "overdue": 3,
         "_deepnote_index_column": 8391
        },
        {
         "credit_card_utilization": 0.0298280519871951,
         "age": 60,
         "monthly_income": 2563.1030511058275,
         "credits_loans": 4,
         "mortgage_loans": 0,
         "debt": 35.377921770003724,
         "overdue": 0,
         "_deepnote_index_column": 8392
        },
        {
         "credit_card_utilization": 0.5692743443322519,
         "age": 38,
         "monthly_income": 3194.873835930796,
         "credits_loans": 3,
         "mortgage_loans": 0,
         "debt": 254.9652165523784,
         "overdue": 7,
         "_deepnote_index_column": 8393
        }
       ]
      },
      "text/plain": "      credit_card_utilization  age  monthly_income  credits_loans  \\\n0                    0.017911   75     2549.674375             10   \n1                    0.003842   69     4712.667811              9   \n2                    0.843159   29     4357.884658              1   \n3                    0.221416   52    23483.570167             46   \n4                    0.225242   30     7700.209184              9   \n...                       ...  ...             ...            ...   \n8389                 0.655820   46     2869.276463              3   \n8390                 0.000000   32     2390.763057             11   \n8391                 0.949255   51     1602.170785             18   \n8392                 0.029828   60     2563.103051              4   \n8393                 0.569274   38     3194.873836              3   \n\n      mortgage_loans         debt  overdue  \n0                  0    24.005807        0  \n1                  1  2398.979430        0  \n2                  0     2.267373        0  \n3                  6  9146.492534        0  \n4                  2  2521.467957        0  \n...              ...          ...      ...  \n8389               0    18.204847        2  \n8390               1  2361.070204        1  \n8391               9  7895.615888        3  \n8392               0    35.377922        0  \n8393               0   254.965217        7  \n\n[8394 rows x 7 columns]",
      "text/html": "<div>\n<style scoped>\n    .dataframe tbody tr th:only-of-type {\n        vertical-align: middle;\n    }\n\n    .dataframe tbody tr th {\n        vertical-align: top;\n    }\n\n    .dataframe thead th {\n        text-align: right;\n    }\n</style>\n<table border=\"1\" class=\"dataframe\">\n  <thead>\n    <tr style=\"text-align: right;\">\n      <th></th>\n      <th>credit_card_utilization</th>\n      <th>age</th>\n      <th>monthly_income</th>\n      <th>credits_loans</th>\n      <th>mortgage_loans</th>\n      <th>debt</th>\n      <th>overdue</th>\n    </tr>\n  </thead>\n  <tbody>\n    <tr>\n      <th>0</th>\n      <td>0.017911</td>\n      <td>75</td>\n      <td>2549.674375</td>\n      <td>10</td>\n      <td>0</td>\n      <td>24.005807</td>\n      <td>0</td>\n    </tr>\n    <tr>\n      <th>1</th>\n      <td>0.003842</td>\n      <td>69</td>\n      <td>4712.667811</td>\n      <td>9</td>\n      <td>1</td>\n      <td>2398.979430</td>\n      <td>0</td>\n    </tr>\n    <tr>\n      <th>2</th>\n      <td>0.843159</td>\n      <td>29</td>\n      <td>4357.884658</td>\n      <td>1</td>\n      <td>0</td>\n      <td>2.267373</td>\n      <td>0</td>\n    </tr>\n    <tr>\n      <th>3</th>\n      <td>0.221416</td>\n      <td>52</td>\n      <td>23483.570167</td>\n      <td>46</td>\n      <td>6</td>\n      <td>9146.492534</td>\n      <td>0</td>\n    </tr>\n    <tr>\n      <th>4</th>\n      <td>0.225242</td>\n      <td>30</td>\n      <td>7700.209184</td>\n      <td>9</td>\n      <td>2</td>\n      <td>2521.467957</td>\n      <td>0</td>\n    </tr>\n    <tr>\n      <th>...</th>\n      <td>...</td>\n      <td>...</td>\n      <td>...</td>\n      <td>...</td>\n      <td>...</td>\n      <td>...</td>\n      <td>...</td>\n    </tr>\n    <tr>\n      <th>8389</th>\n      <td>0.655820</td>\n      <td>46</td>\n      <td>2869.276463</td>\n      <td>3</td>\n      <td>0</td>\n      <td>18.204847</td>\n      <td>2</td>\n    </tr>\n    <tr>\n      <th>8390</th>\n      <td>0.000000</td>\n      <td>32</td>\n      <td>2390.763057</td>\n      <td>11</td>\n      <td>1</td>\n      <td>2361.070204</td>\n      <td>1</td>\n    </tr>\n    <tr>\n      <th>8391</th>\n      <td>0.949255</td>\n      <td>51</td>\n      <td>1602.170785</td>\n      <td>18</td>\n      <td>9</td>\n      <td>7895.615888</td>\n      <td>3</td>\n    </tr>\n    <tr>\n      <th>8392</th>\n      <td>0.029828</td>\n      <td>60</td>\n      <td>2563.103051</td>\n      <td>4</td>\n      <td>0</td>\n      <td>35.377922</td>\n      <td>0</td>\n    </tr>\n    <tr>\n      <th>8393</th>\n      <td>0.569274</td>\n      <td>38</td>\n      <td>3194.873836</td>\n      <td>3</td>\n      <td>0</td>\n      <td>254.965217</td>\n      <td>7</td>\n    </tr>\n  </tbody>\n</table>\n<p>8394 rows × 7 columns</p>\n</div>"
     },
     "metadata": {}
    }
   ],
   "execution_count": 25
  },
  {
   "cell_type": "code",
   "metadata": {
    "tags": [],
    "deepnote_to_be_reexecuted": false,
    "source_hash": "a14fd8c3",
    "execution_start": 1623823445419,
    "execution_millis": 2714,
    "cell_id": "00069-1b235bc3-27b3-4ebc-974a-12bf43a27480",
    "deepnote_cell_type": "code"
   },
   "source": "lgbm = LGBMClassifier(random_state=1, max_depth=4, n_estimators=100).fit(X_res, y_res)\nbest_lgbm = 0\nfor i in np.arange(0.05, 0.91, 0.05):\n    check['pred'] = lgbm.predict_proba(x_test)[:,1]\n    prft = check[check.pred <= i].profit.sum()\n    if prft > best_lgbm:\n        best_lgbm = prft\n        bi_lgbm = i\nprint(f\"Lgbm profit: {bnumber(round(best_lgbm))},\", \"best threshold:\", round(bi_lgbm, 2))",
   "outputs": [
    {
     "name": "stdout",
     "text": "Lgbm profit: 10 411 304, best threshold: 0.75\n",
     "output_type": "stream"
    }
   ],
   "execution_count": 26
  },
  {
   "cell_type": "markdown",
   "source": "**CatBoost**",
   "metadata": {
    "tags": [],
    "cell_id": "00070-3ed419be-25e9-4383-a60e-c944bd24d538",
    "deepnote_cell_type": "markdown"
   }
  },
  {
   "cell_type": "code",
   "metadata": {
    "tags": [],
    "deepnote_to_be_reexecuted": false,
    "source_hash": "de5373d7",
    "execution_start": 1623823448125,
    "execution_millis": 1404,
    "cell_id": "00071-39b6555c-9272-41b3-b8f1-6caa38cb56db",
    "deepnote_cell_type": "code"
   },
   "source": "cat = CatBoostClassifier(random_state=1, learning_rate = 0.05, iterations = 200, max_depth = 6, silent=True).fit(X_res, y_res)\nbest_cat = 0\nfor i in np.arange(0.05, 0.91, 0.05):\n    check['pred'] = cat.predict_proba(x_test)[:,1]\n    prft = check[check.pred <= i].profit.sum()\n    if prft > best_cat:\n        best_cat = prft\n        bi_cat = i\nprint(f\"CatBoost profit: {bnumber(round(best_cat))},\", \"best threshold:\", round(bi_cat, 2))\n",
   "outputs": [
    {
     "name": "stdout",
     "text": "CatBoost profit: 10 440 709, best threshold: 0.75\n",
     "output_type": "stream"
    }
   ],
   "execution_count": 27
  },
  {
   "cell_type": "markdown",
   "source": "**XGBoost**",
   "metadata": {
    "tags": [],
    "cell_id": "00072-99f04771-15f8-480d-9ecc-dae293d5a3be",
    "deepnote_cell_type": "markdown"
   }
  },
  {
   "cell_type": "code",
   "metadata": {
    "tags": [],
    "deepnote_to_be_reexecuted": false,
    "source_hash": "682f28b3",
    "execution_start": 1623823449524,
    "execution_millis": 1109,
    "cell_id": "00073-b4899628-4b8e-463e-9b08-21cbc6c13c94",
    "deepnote_cell_type": "code"
   },
   "source": "xgb = XGBClassifier(random_state=1, learning_rate = 0.05, max_depth = 2, min_child_weight = 6, eval_metric = 'logloss').fit(X_res, y_res)\nbest_xgb = 0\nfor i in np.arange(0.05, 0.91, 0.05):\n    check['pred'] = xgb.predict_proba(x_test)[:,1]\n    prft = check[check.pred <= i].profit.sum()\n    if prft > best_xgb:\n        best_xgb = prft\n        bi_xgb = i\nprint(f\"XGBoost profit: {bnumber(round(best_xgb))},\", \"best threshold:\", round(bi_xgb, 2))",
   "outputs": [
    {
     "name": "stdout",
     "text": "XGBoost profit: 10 446 131, best threshold: 0.7\n",
     "output_type": "stream"
    }
   ],
   "execution_count": 28
  },
  {
   "cell_type": "markdown",
   "source": "**Gradient Boosting Classifier**",
   "metadata": {
    "tags": [],
    "cell_id": "00074-ee291655-30c4-42f1-99b0-c0b4bd4469e0",
    "deepnote_cell_type": "markdown"
   }
  },
  {
   "cell_type": "code",
   "metadata": {
    "tags": [],
    "deepnote_to_be_reexecuted": false,
    "source_hash": "37efdf3b",
    "execution_start": 1623823450629,
    "execution_millis": 10120,
    "cell_id": "00075-d32ea5a8-4d55-4436-a082-f7a9e52921bc",
    "deepnote_cell_type": "code"
   },
   "source": "gbc = GradientBoostingClassifier(random_state=1, learning_rate = 0.003, max_depth = 3, n_estimators = 500, subsample = 0.4).fit(X_res, y_res)\nbest_gbc = 0\nfor i in np.arange(0.05, 0.91, 0.05):\n    check['pred'] = gbc.predict_proba(x_test)[:,1]\n    prft = check[check.pred <= i].profit.sum()\n    if prft > best_gbc:\n        best_gbc = prft\n        bi_gbc = i\nprint(f\"GBC profit: {bnumber(round(best_gbc))},\", \"best threshold:\", round(bi_gbc, 2))",
   "outputs": [
    {
     "name": "stdout",
     "text": "GBC profit: 10 398 508, best threshold: 0.65\n",
     "output_type": "stream"
    }
   ],
   "execution_count": 29
  },
  {
   "cell_type": "markdown",
   "source": "**Stacking with Random Forest**",
   "metadata": {
    "tags": [],
    "cell_id": "00076-26b098ab-4848-4f64-beab-1948621b4629",
    "deepnote_cell_type": "markdown"
   }
  },
  {
   "cell_type": "code",
   "metadata": {
    "tags": [],
    "deepnote_to_be_reexecuted": false,
    "source_hash": "8d7e7bd5",
    "execution_start": 1623823460740,
    "execution_millis": 38450,
    "cell_id": "00077-ed5b02ea-170f-42f6-8be0-247e6b1b0ab0",
    "deepnote_cell_type": "code"
   },
   "source": "stc = StackingClassifier(estimators=[('rf',rf), ('xgb', xgb), ('cat', cat)], final_estimator=LogisticRegression()).fit(X_res, y_res)\nbest_stc = 0\nfor i in np.arange(0.05, 0.91, 0.05):\n    check['pred'] = stc.predict_proba(x_test)[:,1]\n    prft = check[check.pred <= i].profit.sum()\n    if prft > best_stc:\n        best_stc = prft\n        bi_stc = i\nprint(f\"Stacking with RF profit: {bnumber(round(best_stc))},\", \"best threshold:\", round(bi_stc, 2))",
   "outputs": [
    {
     "name": "stdout",
     "text": "Stacking with RF profit: 10 492 735, best threshold: 0.75\n",
     "output_type": "stream"
    }
   ],
   "execution_count": 30
  },
  {
   "cell_type": "markdown",
   "source": "**Stacking with Balanced Random Forest**",
   "metadata": {
    "tags": [],
    "cell_id": "00078-a04a43d4-dd85-448b-ae19-85a477b74bc7",
    "deepnote_cell_type": "markdown"
   }
  },
  {
   "cell_type": "code",
   "metadata": {
    "tags": [],
    "deepnote_to_be_reexecuted": false,
    "source_hash": "6aae7eae",
    "execution_start": 1623823499186,
    "execution_millis": 50460,
    "cell_id": "00079-37a23725-efff-4a0d-a474-22fca2c901dc",
    "deepnote_cell_type": "code"
   },
   "source": "stc2 = StackingClassifier(estimators=[('brf',brf), ('xgb', xgb), ('cat', cat)], final_estimator=LogisticRegression()).fit(X_res, y_res)\nbest_stc2 = 0\nfor i in np.arange(0.05, 0.91, 0.05):\n    check['pred'] = stc2.predict_proba(x_test)[:,1]\n    prft = check[check.pred <= i].profit.sum()\n    if prft > best_stc2:\n        best_stc2 = prft\n        bi_stc2 = i\nprint(f\"Stacking with balanced RF profit: {bnumber(round(best_stc2))},\", \"best threshold:\", round(bi_stc2, 2))",
   "outputs": [
    {
     "name": "stdout",
     "text": "Stacking with balanced RF profit: 10 500 455, best threshold: 0.75\n",
     "output_type": "stream"
    }
   ],
   "execution_count": 31
  },
  {
   "cell_type": "markdown",
   "source": "# Results",
   "metadata": {
    "tags": [],
    "cell_id": "00080-8f77e941-cf84-41d4-8f48-138bf0933c2c",
    "deepnote_cell_type": "text-cell-h1"
   }
  },
  {
   "cell_type": "code",
   "metadata": {
    "tags": [],
    "deepnote_to_be_reexecuted": false,
    "source_hash": "e83e207c",
    "execution_start": 1623823549636,
    "execution_millis": 16432,
    "cell_id": "00081-e987f9f1-420d-4440-8e6b-1da006bf955d",
    "deepnote_cell_type": "code"
   },
   "source": "rf = RandomForestClassifier(max_depth=5, random_state=0,max_features= 3,n_estimators = 300).fit(X_res,y_res)\nbest_rf = 0\nfor i in np.arange(0.05, 0.91, 0.05):\n    check['pred'] = rf.predict_proba(x_test)[:,1]\n    prft = check[check.pred <= i].profit.sum()\n    if prft > best_rf:\n        best_rf = prft\n        bi_rf = i\nprint(f\"Random Forest profit: {bnumber(round(best_rf))},\", \"best threshold:\", round(bi_rf, 2))",
   "outputs": [
    {
     "name": "stdout",
     "text": "Random Forest profit: 10 427 315, best threshold: 0.7\n",
     "output_type": "stream"
    }
   ],
   "execution_count": 32
  },
  {
   "cell_type": "code",
   "metadata": {
    "tags": [],
    "deepnote_to_be_reexecuted": false,
    "source_hash": "750bca7c",
    "execution_start": 1623823566057,
    "execution_millis": 24082,
    "cell_id": "00082-6d637041-9dce-4e24-8200-65f3e447b5b6",
    "deepnote_cell_type": "code"
   },
   "source": "brf = BalancedRandomForestClassifier(max_depth=5, max_features=5,  random_state=1, n_estimators = 300).fit(x, y) \nbest_brf = 0\nfor i in np.arange(0.05, 0.91, 0.05):\n    check['pred'] = brf.predict_proba(x_test)[:,1]\n    prft = check[check.pred <= i].profit.sum()\n    if prft > best_brf:\n        best_brf = prft\n        bi_brf = i\nprint(f\"Balanced Random Forest profit: {bnumber(round(best_brf))},\", \"best threshold:\", round(bi_brf, 2))",
   "outputs": [
    {
     "name": "stdout",
     "text": "Balanced Random Forest profit: 10 401 801, best threshold: 0.7\n",
     "output_type": "stream"
    }
   ],
   "execution_count": 33
  },
  {
   "cell_type": "code",
   "metadata": {
    "tags": [],
    "deepnote_to_be_reexecuted": false,
    "source_hash": "9f0ac1ea",
    "execution_start": 1623823590130,
    "execution_millis": 1,
    "cell_id": "00083-9c946687-cfe2-4664-9ab8-40a8b9d8f887",
    "deepnote_cell_type": "code"
   },
   "source": "def iip (best_res):\n    return f'{round(((best_res/def_pro)-1)*100, 2)}%'",
   "outputs": [],
   "execution_count": 34
  },
  {
   "cell_type": "code",
   "metadata": {
    "tags": [],
    "deepnote_to_be_reexecuted": false,
    "source_hash": "f9e39658",
    "execution_start": 1623823590147,
    "execution_millis": 6764,
    "cell_id": "00084-d55134a6-d6ce-4b5d-acf6-d44f5298f596",
    "deepnote_cell_type": "code"
   },
   "source": "result = pd.DataFrame()\nresult['Model'] = ['Random Forest', 'Balanced Random Forest', 'XGBoost', 'CatBoost', 'Stacking with RF', 'Stacking with BRF']\nresult['Increase in revenue'] = [iip(best_rf), iip(best_brf), iip(best_xgb), iip(best_cat), iip(best_stc), iip(best_stc2)]\nresult['Accepted defaulters'] = [FOR(rf, bi_rf), FOR(brf, bi_brf), FOR(xgb, bi_xgb), FOR(cat, bi_cat), FOR(stc, bi_stc), FOR(stc2, bi_stc2)]\nresult['Denied non-defaulters'] = [FPR(rf, bi_rf), FPR(brf, bi_brf), FPR(xgb, bi_xgb), FPR(cat, bi_cat), FPR(stc, bi_stc), FPR(stc2, bi_stc2)]\nresult['Accepted defaulters'] = (100*result['Accepted defaulters']).apply(lambda x: str(round(x, 2)) + '%')\nresult['Denied non-defaulters'] = (100*result['Denied non-defaulters']).apply(lambda x: str(round(x, 2)) + '%')\nresult.sort_values(by='Increase in revenue', ignore_index=True, ascending=False)",
   "outputs": [
    {
     "output_type": "execute_result",
     "execution_count": 35,
     "data": {
      "application/vnd.deepnote.dataframe.v2+json": {
       "row_count": 6,
       "column_count": 4,
       "columns": [
        {
         "name": "Model",
         "dtype": "object",
         "stats": {
          "unique_count": 6,
          "nan_count": 0,
          "categories": [
           {
            "name": "Stacking with BRF",
            "count": 1
           },
           {
            "name": "Stacking with RF",
            "count": 1
           },
           {
            "name": "4 others",
            "count": 4
           }
          ]
         }
        },
        {
         "name": "Increase in revenue",
         "dtype": "object",
         "stats": {
          "unique_count": 6,
          "nan_count": 0,
          "categories": [
           {
            "name": "15.07%",
            "count": 1
           },
           {
            "name": "14.99%",
            "count": 1
           },
           {
            "name": "4 others",
            "count": 4
           }
          ]
         }
        },
        {
         "name": "Accepted defaulters",
         "dtype": "object",
         "stats": {
          "unique_count": 6,
          "nan_count": 0,
          "categories": [
           {
            "name": "3.41%",
            "count": 1
           },
           {
            "name": "3.42%",
            "count": 1
           },
           {
            "name": "4 others",
            "count": 4
           }
          ]
         }
        },
        {
         "name": "Denied non-defaulters",
         "dtype": "object",
         "stats": {
          "unique_count": 6,
          "nan_count": 0,
          "categories": [
           {
            "name": "8.27%",
            "count": 1
           },
           {
            "name": "8.25%",
            "count": 1
           },
           {
            "name": "4 others",
            "count": 4
           }
          ]
         }
        },
        {
         "name": "_deepnote_index_column",
         "dtype": "int64"
        }
       ],
       "rows_top": [
        {
         "Model": "Stacking with BRF",
         "Increase in revenue": "15.07%",
         "Accepted defaulters": "3.41%",
         "Denied non-defaulters": "8.27%",
         "_deepnote_index_column": 0
        },
        {
         "Model": "Stacking with RF",
         "Increase in revenue": "14.99%",
         "Accepted defaulters": "3.42%",
         "Denied non-defaulters": "8.25%",
         "_deepnote_index_column": 1
        },
        {
         "Model": "XGBoost",
         "Increase in revenue": "14.48%",
         "Accepted defaulters": "3.48%",
         "Denied non-defaulters": "8.12%",
         "_deepnote_index_column": 2
        },
        {
         "Model": "CatBoost",
         "Increase in revenue": "14.42%",
         "Accepted defaulters": "3.69%",
         "Denied non-defaulters": "6.85%",
         "_deepnote_index_column": 3
        },
        {
         "Model": "Random Forest",
         "Increase in revenue": "14.27%",
         "Accepted defaulters": "3.5%",
         "Denied non-defaulters": "8.02%",
         "_deepnote_index_column": 4
        },
        {
         "Model": "Balanced Random Forest",
         "Increase in revenue": "13.99%",
         "Accepted defaulters": "3.55%",
         "Denied non-defaulters": "7.82%",
         "_deepnote_index_column": 5
        }
       ],
       "rows_bottom": null
      },
      "text/plain": "                    Model Increase in revenue Accepted defaulters  \\\n0       Stacking with BRF              15.07%               3.41%   \n1        Stacking with RF              14.99%               3.42%   \n2                 XGBoost              14.48%               3.48%   \n3                CatBoost              14.42%               3.69%   \n4           Random Forest              14.27%                3.5%   \n5  Balanced Random Forest              13.99%               3.55%   \n\n  Denied non-defaulters  \n0                 8.27%  \n1                 8.25%  \n2                 8.12%  \n3                 6.85%  \n4                 8.02%  \n5                 7.82%  ",
      "text/html": "<div>\n<style scoped>\n    .dataframe tbody tr th:only-of-type {\n        vertical-align: middle;\n    }\n\n    .dataframe tbody tr th {\n        vertical-align: top;\n    }\n\n    .dataframe thead th {\n        text-align: right;\n    }\n</style>\n<table border=\"1\" class=\"dataframe\">\n  <thead>\n    <tr style=\"text-align: right;\">\n      <th></th>\n      <th>Model</th>\n      <th>Increase in revenue</th>\n      <th>Accepted defaulters</th>\n      <th>Denied non-defaulters</th>\n    </tr>\n  </thead>\n  <tbody>\n    <tr>\n      <th>0</th>\n      <td>Stacking with BRF</td>\n      <td>15.07%</td>\n      <td>3.41%</td>\n      <td>8.27%</td>\n    </tr>\n    <tr>\n      <th>1</th>\n      <td>Stacking with RF</td>\n      <td>14.99%</td>\n      <td>3.42%</td>\n      <td>8.25%</td>\n    </tr>\n    <tr>\n      <th>2</th>\n      <td>XGBoost</td>\n      <td>14.48%</td>\n      <td>3.48%</td>\n      <td>8.12%</td>\n    </tr>\n    <tr>\n      <th>3</th>\n      <td>CatBoost</td>\n      <td>14.42%</td>\n      <td>3.69%</td>\n      <td>6.85%</td>\n    </tr>\n    <tr>\n      <th>4</th>\n      <td>Random Forest</td>\n      <td>14.27%</td>\n      <td>3.5%</td>\n      <td>8.02%</td>\n    </tr>\n    <tr>\n      <th>5</th>\n      <td>Balanced Random Forest</td>\n      <td>13.99%</td>\n      <td>3.55%</td>\n      <td>7.82%</td>\n    </tr>\n  </tbody>\n</table>\n</div>"
     },
     "metadata": {}
    }
   ],
   "execution_count": 35
  },
  {
   "cell_type": "markdown",
   "source": "We can see that with the Stacking of Balanced Random Forest, Catboost and XGBoost we can get the best result by profit. Surprisingly, this model has been trained on resampled data (Stacking with Balanced Random Forest but trained on original data is not shown, but its result was worse), so we could conclude that additional balanced fitting after undersampling also has a positive influence on the model. This model gives us a 15% increase in revenue, which is a significant improvement for the bank. Also, I would like to draw your attention to the CatBoost model. Its financial result is as good as in the best model, but the number of clients in this model greater than in others. Bank may use this model if they are also interested in attracting clients to different products through credit cards.",
   "metadata": {
    "tags": [],
    "cell_id": "00085-3ef869da-b6b8-4489-a049-09c00ce79f53",
    "deepnote_cell_type": "markdown"
   }
  },
  {
   "cell_type": "markdown",
   "source": "<a style='text-decoration:none;line-height:16px;display:flex;color:#5B5B62;padding:10px;justify-content:end;' href='https://deepnote.com?utm_source=created-in-deepnote-cell&projectId=0365b271-6605-4524-ad1f-e00dd9a323c1' target=\"_blank\">\n<img alt='Created in deepnote.com' style='display:inline;max-height:16px;margin:0px;margin-right:7.5px;' src='data:image/svg+xml;base64,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' > </img>\nCreated in <span style='font-weight:600;margin-left:4px;'>Deepnote</span></a>",
   "metadata": {
    "tags": [],
    "created_in_deepnote_cell": true,
    "deepnote_cell_type": "markdown"
   }
  }
 ],
 "nbformat": 4,
 "nbformat_minor": 2,
 "metadata": {
  "orig_nbformat": 2,
  "deepnote_notebook_id": "f6083807-367a-4354-bd8e-9d918f09ce66",
  "deepnote_execution_queue": [],
  "deepnote": {}
 }
}